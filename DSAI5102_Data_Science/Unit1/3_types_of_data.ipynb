{
 "cells": [
  {
   "cell_type": "markdown",
   "metadata": {
    "id": "5Ovr2zc3rIGV"
   },
   "source": [
    "# Types of Data"
   ]
  },
  {
   "cell_type": "markdown",
   "metadata": {
    "id": "SgUIX6w3v5zt"
   },
   "source": [
    "## 1 Structured versus unstructured data\n",
    "\n",
    "* **Structured (that is, organized) data** This is data that can be thought of as observations and characteristics. It is usually organized using a table method (rows and columns) that can be\n",
    "organized in a spreadsheet format or a relational database.\n",
    "* **Unstructured (that is, unorganized) data** This data exists as a free entity and does not follow any standard organization hierarchy such as images, text, or videos.\n",
    "* **Semi-structured Data** a form of data that does not conform entirely to the formal structure of data models associated with relational databases or other forms of data tables, yet contains tags or other markers to separate semantic elements and enforce hierarchies of records and fields within the data.\n",
    "\n",
    "\n",
    "a. Most estimates place unstructured data as **80-90%** of the world’s data. ---> b. implies that about 90%\n",
    "of the world’s information is trapped in a difficult format. ---> c. **pre-processing**, to apply transformations to convert unstructured data into a structured counterpart\n",
    "\n",
    "\n"
   ]
  },
  {
   "cell_type": "code",
   "execution_count": null,
   "metadata": {
    "colab": {
     "base_uri": "https://localhost:8080/"
    },
    "executionInfo": {
     "elapsed": 24,
     "status": "ok",
     "timestamp": 1751271099956,
     "user": {
      "displayName": "shijian chen",
      "userId": "07194891437090795913"
     },
     "user_tz": -480
    },
    "id": "9TMrUfX04O9t",
    "outputId": "1c93249d-3c81-441a-8243-c869ab729d5c"
   },
   "outputs": [
    {
     "name": "stdout",
     "output_type": "stream",
     "text": [
      "{'name': 'Alice', 'age': 30, 'skills': ['Python', 'Data Science']}\n",
      "Name: Alice\n",
      "Skills: ['Python', 'Data Science']\n"
     ]
    }
   ],
   "source": [
    "import json\n",
    "\n",
    "# Semi-structured JSON string\n",
    "data_json = '{\"name\": \"Alice\", \"age\": 30, \"skills\": [\"Python\", \"Data Science\"]}'\n",
    "\n",
    "# Parse JSON\n",
    "parsed_data = json.loads(data_json)\n",
    "print(parsed_data)\n",
    "print(f\"Name: {parsed_data['name']}\")\n",
    "print(f\"Skills: {parsed_data['skills']}\")"
   ]
  },
  {
   "cell_type": "markdown",
   "metadata": {
    "id": "l83YXHrIwKYT"
   },
   "source": [
    "## 2 Quantitative versus qualitative data\n",
    "\n",
    "### Definition\n",
    "* **Quantitative data** This data can be described using numbers, and basic mathematical procedures, including addition, are possible on the set.\n",
    "* **Qualitative data** This data cannot be described using numbers and basic mathematics. This data is generally thought of as being described using natural categories and language\n",
    "\n",
    "### Example – coffee shop data\n",
    "\n",
    "Say that we were processing the customers of a local coffee shop in a major city using five descriptors (characteristics) for each customer:\n",
    "* Name of a coffee shop\n",
    "  * Qualitative: The name of a coffee shop is not expressed as a number and we cannot perform mathematical operations on the name of the shop\n",
    "\n",
    "* Revenue (in thousands of dollars)\n",
    "  * Quantitative: How much money a coffee shop brings in can be described using a number. Also, we can do basic operations, such as adding up the revenue for 12 months to get a year’s worth of revenue.\n",
    "\n",
    "* Zip code\n",
    "  * Qualitative: This one is tricky. A zip code is always represented using numbers, but what makes it qualitative\n",
    "is that it does not fit the second part of the definition of quantitative – **we cannot perform basic mathematical operations on a zip code**. If we add together two zip codes, it is a nonsensical\n",
    "measurement. We don’t necessarily get a new zip code and we don’t get “double the zip code.”\n",
    "\n",
    "* Average monthly customers\n",
    "  * Quantitative: Again, describing this factor using numbers and addition makes sense. Add up all of your monthly customers and you get your yearly customers.\n",
    "\n",
    "\n",
    "* Country of coffee origin\n",
    "  * Qualitative: We will assume this is a very small coffee shop with coffee from a single origin. This country is described using a name (Ethiopian, Colombian), not numbers.\n",
    "\n",
    "### How to ?\n",
    "* Can you describe the value with numbers?\n",
    "  * No? It is most likely qualitative.\n",
    "  * Yes? Move on to the next question.\n",
    "* Do the values make numerical sense if you add them together?\n",
    "  * No? They are most likely qualitative.\n",
    "  * Yes? You probably have quantitative data on your hands.\n",
    "\n",
    "### types of questions you may ask\n",
    "* a quantitative column\n",
    "  * What is the average value?\n",
    "  * Does this quantity increase or decrease over time (if time is a factor)?\n",
    "  * Is there a threshold where if this number became too high or too low, it would signal trouble for the company?\n",
    "* a qualitative column\n",
    "  * Which value occurs the most and the least?\n",
    "  * How many unique values are there?\n",
    "  * What are these unique values?\n",
    "\n",
    "\n",
    "### Example – inspecting world alcohol consumption data"
   ]
  },
  {
   "cell_type": "code",
   "execution_count": null,
   "metadata": {
    "colab": {
     "base_uri": "https://localhost:8080/",
     "height": 206
    },
    "executionInfo": {
     "elapsed": 2235,
     "status": "ok",
     "timestamp": 1751267664058,
     "user": {
      "displayName": "shijian chen",
      "userId": "07194891437090795913"
     },
     "user_tz": -480
    },
    "id": "w3kV_tLRr72I",
    "outputId": "a537b248-f549-43e2-8a02-e4e06a534481"
   },
   "outputs": [
    {
     "data": {
      "application/vnd.google.colaboratory.intrinsic+json": {
       "summary": "{\n  \"name\": \"drinks\",\n  \"rows\": 193,\n  \"fields\": [\n    {\n      \"column\": \"country\",\n      \"properties\": {\n        \"dtype\": \"string\",\n        \"num_unique_values\": 193,\n        \"samples\": [\n          \"Czech Republic\",\n          \"Qatar\",\n          \"Iceland\"\n        ],\n        \"semantic_type\": \"\",\n        \"description\": \"\"\n      }\n    },\n    {\n      \"column\": \"beer_servings\",\n      \"properties\": {\n        \"dtype\": \"number\",\n        \"std\": 101,\n        \"min\": 0,\n        \"max\": 376,\n        \"num_unique_values\": 130,\n        \"samples\": [\n          53,\n          32,\n          76\n        ],\n        \"semantic_type\": \"\",\n        \"description\": \"\"\n      }\n    },\n    {\n      \"column\": \"spirit_servings\",\n      \"properties\": {\n        \"dtype\": \"number\",\n        \"std\": 88,\n        \"min\": 0,\n        \"max\": 438,\n        \"num_unique_values\": 109,\n        \"samples\": [\n          200,\n          176,\n          128\n        ],\n        \"semantic_type\": \"\",\n        \"description\": \"\"\n      }\n    },\n    {\n      \"column\": \"wine_servings\",\n      \"properties\": {\n        \"dtype\": \"number\",\n        \"std\": 79,\n        \"min\": 0,\n        \"max\": 370,\n        \"num_unique_values\": 79,\n        \"samples\": [\n          26,\n          0,\n          172\n        ],\n        \"semantic_type\": \"\",\n        \"description\": \"\"\n      }\n    },\n    {\n      \"column\": \"total_litres_of_pure_alcohol\",\n      \"properties\": {\n        \"dtype\": \"number\",\n        \"std\": 3.773298164356083,\n        \"min\": 0.0,\n        \"max\": 14.4,\n        \"num_unique_values\": 90,\n        \"samples\": [\n          0.5,\n          4.3,\n          1.9\n        ],\n        \"semantic_type\": \"\",\n        \"description\": \"\"\n      }\n    },\n    {\n      \"column\": \"continent\",\n      \"properties\": {\n        \"dtype\": \"category\",\n        \"num_unique_values\": 5,\n        \"samples\": [\n          \"EU\",\n          \"OC\",\n          \"AF\"\n        ],\n        \"semantic_type\": \"\",\n        \"description\": \"\"\n      }\n    }\n  ]\n}",
       "type": "dataframe",
       "variable_name": "drinks"
      },
      "text/html": [
       "\n",
       "  <div id=\"df-12524b5d-8d6e-4cfb-b608-3d61d07e9c8b\" class=\"colab-df-container\">\n",
       "    <div>\n",
       "<style scoped>\n",
       "    .dataframe tbody tr th:only-of-type {\n",
       "        vertical-align: middle;\n",
       "    }\n",
       "\n",
       "    .dataframe tbody tr th {\n",
       "        vertical-align: top;\n",
       "    }\n",
       "\n",
       "    .dataframe thead th {\n",
       "        text-align: right;\n",
       "    }\n",
       "</style>\n",
       "<table border=\"1\" class=\"dataframe\">\n",
       "  <thead>\n",
       "    <tr style=\"text-align: right;\">\n",
       "      <th></th>\n",
       "      <th>country</th>\n",
       "      <th>beer_servings</th>\n",
       "      <th>spirit_servings</th>\n",
       "      <th>wine_servings</th>\n",
       "      <th>total_litres_of_pure_alcohol</th>\n",
       "      <th>continent</th>\n",
       "    </tr>\n",
       "  </thead>\n",
       "  <tbody>\n",
       "    <tr>\n",
       "      <th>0</th>\n",
       "      <td>Afghanistan</td>\n",
       "      <td>0</td>\n",
       "      <td>0</td>\n",
       "      <td>0</td>\n",
       "      <td>0.0</td>\n",
       "      <td>AS</td>\n",
       "    </tr>\n",
       "    <tr>\n",
       "      <th>1</th>\n",
       "      <td>Albania</td>\n",
       "      <td>89</td>\n",
       "      <td>132</td>\n",
       "      <td>54</td>\n",
       "      <td>4.9</td>\n",
       "      <td>EU</td>\n",
       "    </tr>\n",
       "    <tr>\n",
       "      <th>2</th>\n",
       "      <td>Algeria</td>\n",
       "      <td>25</td>\n",
       "      <td>0</td>\n",
       "      <td>14</td>\n",
       "      <td>0.7</td>\n",
       "      <td>AF</td>\n",
       "    </tr>\n",
       "    <tr>\n",
       "      <th>3</th>\n",
       "      <td>Andorra</td>\n",
       "      <td>245</td>\n",
       "      <td>138</td>\n",
       "      <td>312</td>\n",
       "      <td>12.4</td>\n",
       "      <td>EU</td>\n",
       "    </tr>\n",
       "    <tr>\n",
       "      <th>4</th>\n",
       "      <td>Angola</td>\n",
       "      <td>217</td>\n",
       "      <td>57</td>\n",
       "      <td>45</td>\n",
       "      <td>5.9</td>\n",
       "      <td>AF</td>\n",
       "    </tr>\n",
       "  </tbody>\n",
       "</table>\n",
       "</div>\n",
       "    <div class=\"colab-df-buttons\">\n",
       "\n",
       "  <div class=\"colab-df-container\">\n",
       "    <button class=\"colab-df-convert\" onclick=\"convertToInteractive('df-12524b5d-8d6e-4cfb-b608-3d61d07e9c8b')\"\n",
       "            title=\"Convert this dataframe to an interactive table.\"\n",
       "            style=\"display:none;\">\n",
       "\n",
       "  <svg xmlns=\"http://www.w3.org/2000/svg\" height=\"24px\" viewBox=\"0 -960 960 960\">\n",
       "    <path d=\"M120-120v-720h720v720H120Zm60-500h600v-160H180v160Zm220 220h160v-160H400v160Zm0 220h160v-160H400v160ZM180-400h160v-160H180v160Zm440 0h160v-160H620v160ZM180-180h160v-160H180v160Zm440 0h160v-160H620v160Z\"/>\n",
       "  </svg>\n",
       "    </button>\n",
       "\n",
       "  <style>\n",
       "    .colab-df-container {\n",
       "      display:flex;\n",
       "      gap: 12px;\n",
       "    }\n",
       "\n",
       "    .colab-df-convert {\n",
       "      background-color: #E8F0FE;\n",
       "      border: none;\n",
       "      border-radius: 50%;\n",
       "      cursor: pointer;\n",
       "      display: none;\n",
       "      fill: #1967D2;\n",
       "      height: 32px;\n",
       "      padding: 0 0 0 0;\n",
       "      width: 32px;\n",
       "    }\n",
       "\n",
       "    .colab-df-convert:hover {\n",
       "      background-color: #E2EBFA;\n",
       "      box-shadow: 0px 1px 2px rgba(60, 64, 67, 0.3), 0px 1px 3px 1px rgba(60, 64, 67, 0.15);\n",
       "      fill: #174EA6;\n",
       "    }\n",
       "\n",
       "    .colab-df-buttons div {\n",
       "      margin-bottom: 4px;\n",
       "    }\n",
       "\n",
       "    [theme=dark] .colab-df-convert {\n",
       "      background-color: #3B4455;\n",
       "      fill: #D2E3FC;\n",
       "    }\n",
       "\n",
       "    [theme=dark] .colab-df-convert:hover {\n",
       "      background-color: #434B5C;\n",
       "      box-shadow: 0px 1px 3px 1px rgba(0, 0, 0, 0.15);\n",
       "      filter: drop-shadow(0px 1px 2px rgba(0, 0, 0, 0.3));\n",
       "      fill: #FFFFFF;\n",
       "    }\n",
       "  </style>\n",
       "\n",
       "    <script>\n",
       "      const buttonEl =\n",
       "        document.querySelector('#df-12524b5d-8d6e-4cfb-b608-3d61d07e9c8b button.colab-df-convert');\n",
       "      buttonEl.style.display =\n",
       "        google.colab.kernel.accessAllowed ? 'block' : 'none';\n",
       "\n",
       "      async function convertToInteractive(key) {\n",
       "        const element = document.querySelector('#df-12524b5d-8d6e-4cfb-b608-3d61d07e9c8b');\n",
       "        const dataTable =\n",
       "          await google.colab.kernel.invokeFunction('convertToInteractive',\n",
       "                                                    [key], {});\n",
       "        if (!dataTable) return;\n",
       "\n",
       "        const docLinkHtml = 'Like what you see? Visit the ' +\n",
       "          '<a target=\"_blank\" href=https://colab.research.google.com/notebooks/data_table.ipynb>data table notebook</a>'\n",
       "          + ' to learn more about interactive tables.';\n",
       "        element.innerHTML = '';\n",
       "        dataTable['output_type'] = 'display_data';\n",
       "        await google.colab.output.renderOutput(dataTable, element);\n",
       "        const docLink = document.createElement('div');\n",
       "        docLink.innerHTML = docLinkHtml;\n",
       "        element.appendChild(docLink);\n",
       "      }\n",
       "    </script>\n",
       "  </div>\n",
       "\n",
       "\n",
       "    <div id=\"df-27397bb2-715c-4702-b28f-3e1ad721c7f1\">\n",
       "      <button class=\"colab-df-quickchart\" onclick=\"quickchart('df-27397bb2-715c-4702-b28f-3e1ad721c7f1')\"\n",
       "                title=\"Suggest charts\"\n",
       "                style=\"display:none;\">\n",
       "\n",
       "<svg xmlns=\"http://www.w3.org/2000/svg\" height=\"24px\"viewBox=\"0 0 24 24\"\n",
       "     width=\"24px\">\n",
       "    <g>\n",
       "        <path d=\"M19 3H5c-1.1 0-2 .9-2 2v14c0 1.1.9 2 2 2h14c1.1 0 2-.9 2-2V5c0-1.1-.9-2-2-2zM9 17H7v-7h2v7zm4 0h-2V7h2v10zm4 0h-2v-4h2v4z\"/>\n",
       "    </g>\n",
       "</svg>\n",
       "      </button>\n",
       "\n",
       "<style>\n",
       "  .colab-df-quickchart {\n",
       "      --bg-color: #E8F0FE;\n",
       "      --fill-color: #1967D2;\n",
       "      --hover-bg-color: #E2EBFA;\n",
       "      --hover-fill-color: #174EA6;\n",
       "      --disabled-fill-color: #AAA;\n",
       "      --disabled-bg-color: #DDD;\n",
       "  }\n",
       "\n",
       "  [theme=dark] .colab-df-quickchart {\n",
       "      --bg-color: #3B4455;\n",
       "      --fill-color: #D2E3FC;\n",
       "      --hover-bg-color: #434B5C;\n",
       "      --hover-fill-color: #FFFFFF;\n",
       "      --disabled-bg-color: #3B4455;\n",
       "      --disabled-fill-color: #666;\n",
       "  }\n",
       "\n",
       "  .colab-df-quickchart {\n",
       "    background-color: var(--bg-color);\n",
       "    border: none;\n",
       "    border-radius: 50%;\n",
       "    cursor: pointer;\n",
       "    display: none;\n",
       "    fill: var(--fill-color);\n",
       "    height: 32px;\n",
       "    padding: 0;\n",
       "    width: 32px;\n",
       "  }\n",
       "\n",
       "  .colab-df-quickchart:hover {\n",
       "    background-color: var(--hover-bg-color);\n",
       "    box-shadow: 0 1px 2px rgba(60, 64, 67, 0.3), 0 1px 3px 1px rgba(60, 64, 67, 0.15);\n",
       "    fill: var(--button-hover-fill-color);\n",
       "  }\n",
       "\n",
       "  .colab-df-quickchart-complete:disabled,\n",
       "  .colab-df-quickchart-complete:disabled:hover {\n",
       "    background-color: var(--disabled-bg-color);\n",
       "    fill: var(--disabled-fill-color);\n",
       "    box-shadow: none;\n",
       "  }\n",
       "\n",
       "  .colab-df-spinner {\n",
       "    border: 2px solid var(--fill-color);\n",
       "    border-color: transparent;\n",
       "    border-bottom-color: var(--fill-color);\n",
       "    animation:\n",
       "      spin 1s steps(1) infinite;\n",
       "  }\n",
       "\n",
       "  @keyframes spin {\n",
       "    0% {\n",
       "      border-color: transparent;\n",
       "      border-bottom-color: var(--fill-color);\n",
       "      border-left-color: var(--fill-color);\n",
       "    }\n",
       "    20% {\n",
       "      border-color: transparent;\n",
       "      border-left-color: var(--fill-color);\n",
       "      border-top-color: var(--fill-color);\n",
       "    }\n",
       "    30% {\n",
       "      border-color: transparent;\n",
       "      border-left-color: var(--fill-color);\n",
       "      border-top-color: var(--fill-color);\n",
       "      border-right-color: var(--fill-color);\n",
       "    }\n",
       "    40% {\n",
       "      border-color: transparent;\n",
       "      border-right-color: var(--fill-color);\n",
       "      border-top-color: var(--fill-color);\n",
       "    }\n",
       "    60% {\n",
       "      border-color: transparent;\n",
       "      border-right-color: var(--fill-color);\n",
       "    }\n",
       "    80% {\n",
       "      border-color: transparent;\n",
       "      border-right-color: var(--fill-color);\n",
       "      border-bottom-color: var(--fill-color);\n",
       "    }\n",
       "    90% {\n",
       "      border-color: transparent;\n",
       "      border-bottom-color: var(--fill-color);\n",
       "    }\n",
       "  }\n",
       "</style>\n",
       "\n",
       "      <script>\n",
       "        async function quickchart(key) {\n",
       "          const quickchartButtonEl =\n",
       "            document.querySelector('#' + key + ' button');\n",
       "          quickchartButtonEl.disabled = true;  // To prevent multiple clicks.\n",
       "          quickchartButtonEl.classList.add('colab-df-spinner');\n",
       "          try {\n",
       "            const charts = await google.colab.kernel.invokeFunction(\n",
       "                'suggestCharts', [key], {});\n",
       "          } catch (error) {\n",
       "            console.error('Error during call to suggestCharts:', error);\n",
       "          }\n",
       "          quickchartButtonEl.classList.remove('colab-df-spinner');\n",
       "          quickchartButtonEl.classList.add('colab-df-quickchart-complete');\n",
       "        }\n",
       "        (() => {\n",
       "          let quickchartButtonEl =\n",
       "            document.querySelector('#df-27397bb2-715c-4702-b28f-3e1ad721c7f1 button');\n",
       "          quickchartButtonEl.style.display =\n",
       "            google.colab.kernel.accessAllowed ? 'block' : 'none';\n",
       "        })();\n",
       "      </script>\n",
       "    </div>\n",
       "\n",
       "    </div>\n",
       "  </div>\n"
      ],
      "text/plain": [
       "       country  beer_servings  spirit_servings  wine_servings  \\\n",
       "0  Afghanistan              0                0              0   \n",
       "1      Albania             89              132             54   \n",
       "2      Algeria             25                0             14   \n",
       "3      Andorra            245              138            312   \n",
       "4       Angola            217               57             45   \n",
       "\n",
       "   total_litres_of_pure_alcohol continent  \n",
       "0                           0.0        AS  \n",
       "1                           4.9        EU  \n",
       "2                           0.7        AF  \n",
       "3                          12.4        EU  \n",
       "4                           5.9        AF  "
      ]
     },
     "execution_count": 17,
     "metadata": {},
     "output_type": "execute_result"
    }
   ],
   "source": [
    "import pandas as pd\n",
    "drinks = pd.read_csv('/content/drive/MyDrive/Colab Notebooks/pds/0_pds_data/0_raw_data/drinks.csv')\n",
    "# examine the data's first five rows\n",
    "drinks.head()# print the first 5 rows\n",
    "\n",
    "\n",
    "# country、continent：Qualitative\n",
    "# beer_servings、spirit_servings、wine_servings、total_litres_of_pure_alcohol：Quantitative\n",
    "\n"
   ]
  },
  {
   "cell_type": "code",
   "execution_count": null,
   "metadata": {
    "colab": {
     "base_uri": "https://localhost:8080/",
     "height": 210
    },
    "executionInfo": {
     "elapsed": 9,
     "status": "ok",
     "timestamp": 1751267685023,
     "user": {
      "displayName": "shijian chen",
      "userId": "07194891437090795913"
     },
     "user_tz": -480
    },
    "id": "_3jHY6A1r737",
    "outputId": "3d21033c-93e4-4b13-c432-e60387b2a3b5"
   },
   "outputs": [
    {
     "data": {
      "text/html": [
       "<div>\n",
       "<style scoped>\n",
       "    .dataframe tbody tr th:only-of-type {\n",
       "        vertical-align: middle;\n",
       "    }\n",
       "\n",
       "    .dataframe tbody tr th {\n",
       "        vertical-align: top;\n",
       "    }\n",
       "\n",
       "    .dataframe thead th {\n",
       "        text-align: right;\n",
       "    }\n",
       "</style>\n",
       "<table border=\"1\" class=\"dataframe\">\n",
       "  <thead>\n",
       "    <tr style=\"text-align: right;\">\n",
       "      <th></th>\n",
       "      <th>continent</th>\n",
       "    </tr>\n",
       "  </thead>\n",
       "  <tbody>\n",
       "    <tr>\n",
       "      <th>count</th>\n",
       "      <td>170</td>\n",
       "    </tr>\n",
       "    <tr>\n",
       "      <th>unique</th>\n",
       "      <td>5</td>\n",
       "    </tr>\n",
       "    <tr>\n",
       "      <th>top</th>\n",
       "      <td>AF</td>\n",
       "    </tr>\n",
       "    <tr>\n",
       "      <th>freq</th>\n",
       "      <td>53</td>\n",
       "    </tr>\n",
       "  </tbody>\n",
       "</table>\n",
       "</div><br><label><b>dtype:</b> object</label>"
      ],
      "text/plain": [
       "count     170\n",
       "unique      5\n",
       "top        AF\n",
       "freq       53\n",
       "Name: continent, dtype: object"
      ]
     },
     "execution_count": 18,
     "metadata": {},
     "output_type": "execute_result"
    }
   ],
   "source": [
    "drinks['continent'].describe()\n",
    "# AF -> africa"
   ]
  },
  {
   "cell_type": "code",
   "execution_count": null,
   "metadata": {
    "colab": {
     "base_uri": "https://localhost:8080/",
     "height": 335
    },
    "executionInfo": {
     "elapsed": 42,
     "status": "ok",
     "timestamp": 1751267691190,
     "user": {
      "displayName": "shijian chen",
      "userId": "07194891437090795913"
     },
     "user_tz": -480
    },
    "id": "EPUdfeqZr755",
    "outputId": "e94663dd-fd54-4c1c-fd84-274a29a08bc6"
   },
   "outputs": [
    {
     "data": {
      "text/html": [
       "<div>\n",
       "<style scoped>\n",
       "    .dataframe tbody tr th:only-of-type {\n",
       "        vertical-align: middle;\n",
       "    }\n",
       "\n",
       "    .dataframe tbody tr th {\n",
       "        vertical-align: top;\n",
       "    }\n",
       "\n",
       "    .dataframe thead th {\n",
       "        text-align: right;\n",
       "    }\n",
       "</style>\n",
       "<table border=\"1\" class=\"dataframe\">\n",
       "  <thead>\n",
       "    <tr style=\"text-align: right;\">\n",
       "      <th></th>\n",
       "      <th>beer_servings</th>\n",
       "    </tr>\n",
       "  </thead>\n",
       "  <tbody>\n",
       "    <tr>\n",
       "      <th>count</th>\n",
       "      <td>193.000000</td>\n",
       "    </tr>\n",
       "    <tr>\n",
       "      <th>mean</th>\n",
       "      <td>106.160622</td>\n",
       "    </tr>\n",
       "    <tr>\n",
       "      <th>std</th>\n",
       "      <td>101.143103</td>\n",
       "    </tr>\n",
       "    <tr>\n",
       "      <th>min</th>\n",
       "      <td>0.000000</td>\n",
       "    </tr>\n",
       "    <tr>\n",
       "      <th>25%</th>\n",
       "      <td>20.000000</td>\n",
       "    </tr>\n",
       "    <tr>\n",
       "      <th>50%</th>\n",
       "      <td>76.000000</td>\n",
       "    </tr>\n",
       "    <tr>\n",
       "      <th>75%</th>\n",
       "      <td>188.000000</td>\n",
       "    </tr>\n",
       "    <tr>\n",
       "      <th>max</th>\n",
       "      <td>376.000000</td>\n",
       "    </tr>\n",
       "  </tbody>\n",
       "</table>\n",
       "</div><br><label><b>dtype:</b> float64</label>"
      ],
      "text/plain": [
       "count    193.000000\n",
       "mean     106.160622\n",
       "std      101.143103\n",
       "min        0.000000\n",
       "25%       20.000000\n",
       "50%       76.000000\n",
       "75%      188.000000\n",
       "max      376.000000\n",
       "Name: beer_servings, dtype: float64"
      ]
     },
     "execution_count": 19,
     "metadata": {},
     "output_type": "execute_result"
    }
   ],
   "source": [
    "drinks['beer_servings'].describe()"
   ]
  },
  {
   "cell_type": "markdown",
   "metadata": {
    "id": "UMIY3niM9nuC"
   },
   "source": [
    "### Discrete vs Continuous\n",
    "* Discrete data: This describes data that is counted. It can only take on certain values.\n",
    "  * beer_servings、spirit_servings、wine_servings：Discrete\n",
    "* Continuous data: This describes data that is measured. It exists on an infinite range of values.\n",
    "  * total_litres_of_pure_alcohol：Continuous\n"
   ]
  },
  {
   "cell_type": "markdown",
   "metadata": {
    "id": "3ohhxT7qv51k"
   },
   "source": [
    "## 3 The four levels of data\n",
    "\n",
    "| **Data Level** | **Can be Ordered?** | **Can Perform Addition/Subtraction?** | **Meaningful Ratios?** | **Examples**                |\n",
    "|----------------|---------------------|---------------------------------------|-------------------------|------------------------------|\n",
    "| **Nominal**   | ✖ No                | ✖ No                                  | ✖ No                   | Country, Gender, Color       |\n",
    "| **Ordinal**   | ✔ Yes               | ✖ No                                  | ✖ No                   | Ranking, Survey Score, Education Level |\n",
    "| **Interval**  | ✔ Yes               | ✔ Yes                                 | ✖ No                   | Temperature (°C/°F), Year    |\n",
    "| **Ratio**     | ✔ Yes               | ✔ Yes                                 | ✔ Yes                  | Height, Weight, Age, Income  |"
   ]
  },
  {
   "cell_type": "markdown",
   "metadata": {
    "id": "TvMtsfFg_Xe5"
   },
   "source": [
    "## 3.1 nominal level\n",
    "* description: consists of data that is described purely by name or category.\n",
    "* feature: mostly categorical\n",
    "* e.g., A type of animal...\n",
    "* qualitative\n",
    "* Mathematical operations\n",
    "  * Equality\n",
    "  * Set Membership\n",
    "\n",
    "\n"
   ]
  },
  {
   "cell_type": "markdown",
   "metadata": {
    "id": "uIMQmduZAyoQ"
   },
   "source": [
    "## 3.2 ordinal level\n",
    "* description: Data at the ordinal level provides us with a rank order or the means to place one observation before the other.\n",
    "However, it does not provide us with relative differences between observations, meaning that while we may order the observations from first to last, we cannot add or subtract them to get any real meaning.\n",
    "* e.g., Likert -> rate your satisfaction on a scale from 1 to 10.  \n",
    "  * p.s., 8 is better than 7 while 3 is worse than 9\n",
    "* Mathematical operations\n",
    "  * equality\n",
    "  * set membership\n",
    "  * Ordering：Ordering refers to the natural order provided to us by the data (Red, Orange, Yellow, Green, Blue, Indigo, and Violet); an artist may impose another order on the data, such as sorting the colors based on the cost of the material to make the said color.\n",
    "  * Comparison: we can talk about how putting a 7 on a survey is worse than putting a 10.\n",
    "* Measures of center"
   ]
  },
  {
   "cell_type": "code",
   "execution_count": null,
   "metadata": {
    "colab": {
     "base_uri": "https://localhost:8080/"
    },
    "executionInfo": {
     "elapsed": 30,
     "status": "ok",
     "timestamp": 1751267708108,
     "user": {
      "displayName": "shijian chen",
      "userId": "07194891437090795913"
     },
     "user_tz": -480
    },
    "id": "pwgynLG_r779",
    "outputId": "7fc9e11e-719f-4218-a903-31e1c8b337f1"
   },
   "outputs": [
    {
     "name": "stdout",
     "output_type": "stream",
     "text": [
      "[1, 1, 1, 2, 2, 2, 2, 2, 3, 3, 3, 3, 3, 3, 4, 4, 4, 4, 4, 4, 4, 4, 4, 4, 4, 5, 5, 5, 5, 5, 5, 5]\n",
      "3.4375\n",
      "4.0\n"
     ]
    }
   ],
   "source": [
    "## How happy are you to be working here on a scale from 1-5?”\n",
    "\n",
    "import numpy\n",
    "results = [5, 4, 3, 4, 5, 3, 2, 5, 3, 2, 1, 4, 5, 3, 4, 4, 5, 4, 2, 1,\n",
    "4, 5, 4, 3, 2, 4, 4, 5, 4, 3, 2, 1]\n",
    "sorted_results = sorted(results)\n",
    "print(sorted_results)\n",
    "\n",
    "print(numpy.mean(results)) # == 3.4375 -> make no sense\n",
    "\n",
    "# If addition/subtraction among the scores doesn’t make sense, the mean won’t make sense either\n",
    "\n",
    "print(numpy.median(results)) # == 4.0"
   ]
  },
  {
   "cell_type": "markdown",
   "metadata": {
    "id": "x5gMGU6VDuY6"
   },
   "source": [
    "## 3.3 interval level\n",
    "* description: data that can be expressed through very quantifiable means, and where much more complicated mathematical formulas are allowed. The basic difference between the ordinal level and the interval level is, well, just that difference. Data at the interval level allows meaningful subtraction between data points.\n",
    "* e.g., Temperature\n",
    "* Mathematical operations\n",
    "  * equality\n",
    "  * set membership\n",
    "  * Ordering\n",
    "  * Comparison\n",
    "  * Addition\n",
    "  * Subtraction\n",
    "* Measures of center"
   ]
  },
  {
   "cell_type": "code",
   "execution_count": null,
   "metadata": {
    "colab": {
     "base_uri": "https://localhost:8080/"
    },
    "executionInfo": {
     "elapsed": 16,
     "status": "ok",
     "timestamp": 1751274301771,
     "user": {
      "displayName": "shijian chen",
      "userId": "07194891437090795913"
     },
     "user_tz": -480
    },
    "id": "UtYVRj8ir7-M",
    "outputId": "7a6413f2-8388-40e5-e993-659b42ee639b"
   },
   "outputs": [
    {
     "name": "stdout",
     "output_type": "stream",
     "text": [
      "30.733333333333334\n",
      "31.0\n"
     ]
    }
   ],
   "source": [
    "'''\n",
    "Suppose we’re looking at the temperature of a fridge containing a pharmaceutical company’s new\n",
    " vaccine. We measure the temperature every hour with the following data points (in Fahrenheit):\n",
    "'''\n",
    "\n",
    "import numpy\n",
    "temps = [31, 32, 32, 31, 28, 29, 31, 38, 32, 31, 30, 29, 30, 31, 26]\n",
    "print(numpy.mean(temps))\n",
    "print(numpy.median(temps))\n",
    "\n",
    "\n",
    "# the mean and median are quite close to each other and both are around 31 degrees. The\n",
    "# question How cold is the fridge? on average has an answer of about 31."
   ]
  },
  {
   "cell_type": "code",
   "execution_count": null,
   "metadata": {
    "colab": {
     "base_uri": "https://localhost:8080/"
    },
    "executionInfo": {
     "elapsed": 12,
     "status": "ok",
     "timestamp": 1751274593602,
     "user": {
      "displayName": "shijian chen",
      "userId": "07194891437090795913"
     },
     "user_tz": -480
    },
    "id": "F95aYrljFTqB",
    "outputId": "7d458710-0d15-4733-c78e-1cb9a094a087"
   },
   "outputs": [
    {
     "name": "stdout",
     "output_type": "stream",
     "text": [
      "2.5157283018817607\n"
     ]
    }
   ],
   "source": [
    "import numpy\n",
    "temps = [31, 32, 32, 31, 28, 29, 31, 38, 32, 31, 30, 29, 30, 31, 26]\n",
    "mean = numpy.mean(temps)\n",
    "# == 30.73\n",
    "squared_differences = []\n",
    "# empty list o squared differences\n",
    "for temperature in temps:\n",
    "    difference = temperature - mean\n",
    "    # how far is the point from the mean\n",
    "    squared_difference = difference**2\n",
    "    # square the difference\n",
    "    squared_differences.append(squared_difference)\n",
    "    # add it to our list\n",
    "    average_squared_difference = numpy.mean(squared_differences)\n",
    "    # This number is also called the \"Variance\"\n",
    "standard_deviation = numpy.sqrt(average_squared_difference)\n",
    "# We did it!\n",
    "print(standard_deviation) # == 2.5157"
   ]
  },
  {
   "cell_type": "markdown",
   "metadata": {
    "id": "GRDvbRmcHqd9"
   },
   "source": [
    "## 3.4 ratio level\n",
    "* description: After moving through three different levels with differing levels of allowed mathematical operations, the ratio level proves to be the strongest of the four\n",
    "* Mathematical operations\n",
    "  * equality\n",
    "  * set membership\n",
    "  * Ordering\n",
    "  * Comparison\n",
    "  * Addition\n",
    "  * Subtraction\n",
    "  * multiply & divide (A true zero means the value zero reflects a real, measurable absence of the quantity.)\n",
    "* e.g.,\n",
    "  * Celsius and Fahrenheit are classified as Interval Level data: Their “zero point” is arbitrarily defined and does not represent the absolute absence of temperature.\n",
    "  * Kelvin is classified as Ratio Level data: A measurement of 0 Kelvin indicates absolute zero, meaning no thermal energy exists. Therefore, 200 K is scientifically considered twice as hot as 100 K.\n",
    "* Measures of center"
   ]
  },
  {
   "cell_type": "code",
   "execution_count": null,
   "metadata": {
    "colab": {
     "base_uri": "https://localhost:8080/"
    },
    "executionInfo": {
     "elapsed": 16,
     "status": "ok",
     "timestamp": 1751278491332,
     "user": {
      "displayName": "shijian chen",
      "userId": "07194891437090795913"
     },
     "user_tz": -480
    },
    "id": "dYujvoALsKe1",
    "outputId": "87ca2712-afdd-4e96-e231-a9e5442a56a4"
   },
   "outputs": [
    {
     "name": "stdout",
     "output_type": "stream",
     "text": [
      "30.63473484374659\n"
     ]
    }
   ],
   "source": [
    "# The arithmetic mean still holds meaning at this level, as does a new type of mean called the geometric\n",
    "# mean, which is the square root of the product of all the values.\n",
    "\n",
    "import numpy\n",
    "temps = [31, 32, 32, 31, 28, 29, 31, 38, 32, 31, 30, 29, 30, 31, 26]\n",
    "num_items = len(temps)\n",
    "product = 1.\n",
    "for temperature in temps:\n",
    "    product *= temperature\n",
    "geometric_mean = product**(1.0/num_items)\n",
    "print(geometric_mean)"
   ]
  }
 ],
 "metadata": {
  "colab": {
   "authorship_tag": "ABX9TyMF87SjGMQuMpKBzL/AiLB7",
   "mount_file_id": "1XTl6QLl2dSMVWK7Lz1JLmKSv8N3dicXy",
   "provenance": []
  },
  "kernelspec": {
   "display_name": "Python [conda env:base] *",
   "language": "python",
   "name": "conda-base-py"
  },
  "language_info": {
   "codemirror_mode": {
    "name": "ipython",
    "version": 3
   },
   "file_extension": ".py",
   "mimetype": "text/x-python",
   "name": "python",
   "nbconvert_exporter": "python",
   "pygments_lexer": "ipython3",
   "version": "3.12.7"
  }
 },
 "nbformat": 4,
 "nbformat_minor": 4
}
