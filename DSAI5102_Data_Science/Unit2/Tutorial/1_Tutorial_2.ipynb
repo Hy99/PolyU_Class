{
 "cells": [
  {
   "cell_type": "markdown",
   "metadata": {
    "id": "HfFGPsvT1M2h"
   },
   "source": [
    "## DSAI5102 — Tutorial 2\n",
    "  \n",
    "**Topic**: Random + NumPy + Pandas Basics & Titanic Mini Project\n",
    "\n",
    "\t•\tUnderstand reproducibility and seeding across libraries.\n",
    "\t•\tUse Python random and NumPy RNGs correctly.\n",
    "\t•\tPerform core matrix operations with NumPy.\n",
    "\t•\tManipulate tabular data with Pandas (load, clean, sample, save).\n",
    "\t•\tSimulate and visualize discrete/continuous probability distributions.\n",
    "\t•\tPersist data and results (CSV/NumPy files).\n"
   ]
  },
  {
   "cell_type": "markdown",
   "metadata": {
    "id": "J4RGzdw4EPfn"
   },
   "source": [
    "### Part 1 Random Number & Reproducibility Setup\n",
    "\n",
    "\t•\tWe’ll use both Python’s built-in random and NumPy’s RNGs.\n",
    "\t•\tReproducibility means others (or you later) get the same results with the same code + seed + environment.\n",
    "\n",
    "Checklist for reproducible runs\n",
    "\n",
    "\t•\tFix seeds (random, NumPy, and your ML framework, e.g., PyTorch).\n",
    "\t•\tRecord package versions (e.g., np.__version__, pd.__version__).\n",
    "\t•\tSave your data splits and outputs (CSV/NPZ).\n",
    "\t•\tAvoid re-seeding inside loops."
   ]
  },
  {
   "cell_type": "code",
   "execution_count": 12,
   "metadata": {
    "executionInfo": {
     "elapsed": 8,
     "status": "ok",
     "timestamp": 1757431371796,
     "user": {
      "displayName": "shijian chen",
      "userId": "07194891437090795913"
     },
     "user_tz": -480
    },
    "id": "Vgb43kgFEm27"
   },
   "outputs": [],
   "source": [
    "import random, os, sys\n",
    "import numpy as np\n",
    "import pandas as pd\n",
    "import matplotlib.pyplot as plt\n",
    "\n",
    "SEED = 42"
   ]
  },
  {
   "cell_type": "code",
   "execution_count": 13,
   "metadata": {
    "executionInfo": {
     "elapsed": 8,
     "status": "ok",
     "timestamp": 1757431427461,
     "user": {
      "displayName": "shijian chen",
      "userId": "07194891437090795913"
     },
     "user_tz": -480
    },
    "id": "QhnscFKJEqYs"
   },
   "outputs": [],
   "source": [
    "# 1) Python’s built-in RNG\n",
    "random.seed(SEED)"
   ]
  },
  {
   "cell_type": "code",
   "execution_count": 16,
   "metadata": {
    "colab": {
     "base_uri": "https://localhost:8080/"
    },
    "executionInfo": {
     "elapsed": 10,
     "status": "ok",
     "timestamp": 1757431572299,
     "user": {
      "displayName": "shijian chen",
      "userId": "07194891437090795913"
     },
     "user_tz": -480
    },
    "id": "WUNwxJWHE4GT",
    "outputId": "c4c29656-d487-4408-c1a1-60c68b87f55d"
   },
   "outputs": [
    {
     "name": "stdout",
     "output_type": "stream",
     "text": [
      "Seed set to: 42\n",
      "Python: 3.12.11 | NumPy: 2.0.2 | Pandas: 2.2.2\n"
     ]
    }
   ],
   "source": [
    "# 2) NumPy legacy global RNG (RandomState) — still common in codebases\n",
    "np.random.seed(SEED)\n",
    "\n",
    "print(\"Seed set to:\", SEED)\n",
    "print(\"Python:\", sys.version.split()[0],\n",
    "      \"| NumPy:\", np.__version__,\n",
    "      \"| Pandas:\", pd.__version__)"
   ]
  },
  {
   "cell_type": "markdown",
   "metadata": {
    "id": "ocQoikNQGAat"
   },
   "source": [
    "(Optional) Modern NumPy Generator API\n",
    "\n",
    "NumPy recommends using an independent generator instead of the global singleton:\n",
    "\n",
    "\t•\trng = np.random.default_rng(SEED) creates an isolated stream (PCG64).\n",
    "\t•\tSafer for libraries/modules to avoid interfering with each other.\n",
    "\n",
    "We’ll keep using the legacy global API for simplicity in this tutorial, but here is the modern pattern:"
   ]
  },
  {
   "cell_type": "code",
   "execution_count": 24,
   "metadata": {
    "colab": {
     "base_uri": "https://localhost:8080/"
    },
    "executionInfo": {
     "elapsed": 16,
     "status": "ok",
     "timestamp": 1757432026202,
     "user": {
      "displayName": "shijian chen",
      "userId": "07194891437090795913"
     },
     "user_tz": -480
    },
    "id": "WHBNFL1vFclw",
    "outputId": "3a0e90d9-2a49-4ec0-bac9-b7d03df984f7"
   },
   "outputs": [
    {
     "name": "stdout",
     "output_type": "stream",
     "text": [
      "[0.77395605 0.43887844 0.85859792] [0.77395605 0.43887844 0.85859792]\n"
     ]
    }
   ],
   "source": [
    "SEED = 42\n",
    "rng = np.random.default_rng(SEED)\n",
    "\n",
    "state0 = rng.bit_generator.state      # Save the generator state before any sampling\n",
    "s1 = rng.random(3)                    # First sampling & advance state\n",
    "rng.bit_generator.state = state0      # Restore to the state before sampling\n",
    "s1_again = rng.random(3)              # Should be identical to s1\n",
    "print(s1, s1_again)"
   ]
  },
  {
   "cell_type": "markdown",
   "metadata": {
    "id": "5es6jpnKIheP"
   },
   "source": [
    "Two common needs\n",
    "\n",
    "\t1.\tReproducibility: You want to ensure that every run generates the same random numbers (starting from the beginning).\n",
    "\t2.\tContinuation: You want to resume from where you left off in the random sequence, not restart it.\n",
    "\n",
    "Quick rule of thumb:\n",
    "\n",
    "\t•\tIf you just need consistent results → save the seed (simplest, recommended).\n",
    "\t•\tIf you need to continue the sequence → save the generator’s state to a file and restore it later."
   ]
  },
  {
   "cell_type": "code",
   "execution_count": 25,
   "metadata": {
    "colab": {
     "base_uri": "https://localhost:8080/"
    },
    "executionInfo": {
     "elapsed": 11,
     "status": "ok",
     "timestamp": 1757432436430,
     "user": {
      "displayName": "shijian chen",
      "userId": "07194891437090795913"
     },
     "user_tz": -480
    },
    "id": "ujLQG6w8ImGE",
    "outputId": "8fa7046d-0a16-42ac-86c7-eb0143abc511"
   },
   "outputs": [
    {
     "name": "stdout",
     "output_type": "stream",
     "text": [
      "[0.77395605 0.43887844 0.85859792 0.69736803 0.09417735]\n"
     ]
    }
   ],
   "source": [
    "# A. Saving only the seed (most common & simplest)\n",
    "# Use case: ensures reproducibility of experiments.\n",
    "\n",
    "SEED = 42  # record this in your README/Notebook\n",
    "rng = np.random.default_rng(SEED)\n",
    "\n",
    "# Every session with the same SEED will produce identical sequences\n",
    "print(rng.random(5))"
   ]
  },
  {
   "cell_type": "code",
   "execution_count": 40,
   "metadata": {
    "colab": {
     "base_uri": "https://localhost:8080/"
    },
    "executionInfo": {
     "elapsed": 14,
     "status": "ok",
     "timestamp": 1757432977864,
     "user": {
      "displayName": "shijian chen",
      "userId": "07194891437090795913"
     },
     "user_tz": -480
    },
    "id": "nBRqPXJ6IuhI",
    "outputId": "5b8a8844-c600-422c-ef85-36a3c2388e03"
   },
   "outputs": [
    {
     "name": "stdout",
     "output_type": "stream",
     "text": [
      "s1: [0.77395605 0.43887844 0.85859792]\n"
     ]
    }
   ],
   "source": [
    "# B. Saving & restoring the generator state (for continuation)\n",
    "# Using pickle (binary file)\n",
    "# Quick to use, but avoid loading pickled data from untrusted sources (security risk).\n",
    "\n",
    "# First session\n",
    "\n",
    "import numpy as np, pickle\n",
    "\n",
    "rng = np.random.default_rng(42)\n",
    "state0 = rng.bit_generator.state         # save BEFORE sampling\n",
    "s1 = rng.random(3)\n",
    "with open(\"rng_state.pkl\", \"wb\") as f:\n",
    "    pickle.dump(state0, f)\n",
    "print(\"s1:\", s1)"
   ]
  },
  {
   "cell_type": "code",
   "execution_count": 41,
   "metadata": {
    "colab": {
     "base_uri": "https://localhost:8080/"
    },
    "executionInfo": {
     "elapsed": 9,
     "status": "ok",
     "timestamp": 1757432979109,
     "user": {
      "displayName": "shijian chen",
      "userId": "07194891437090795913"
     },
     "user_tz": -480
    },
    "id": "nxGkAOVyJZfi",
    "outputId": "e761b403-027e-4d58-b05d-0dced76261cf"
   },
   "outputs": [
    {
     "name": "stdout",
     "output_type": "stream",
     "text": [
      "resume sample: [0.77395605 0.43887844 0.85859792]\n"
     ]
    }
   ],
   "source": [
    "# ===== New session: restore & continue =====\n",
    "import numpy as np, pickle\n",
    "\n",
    "rng = np.random.default_rng(42)  # create a generator\n",
    "with open(\"rng_state.pkl\", \"rb\") as f:\n",
    "    state = pickle.load(f)\n",
    "\n",
    "rng.bit_generator.state = state             # restore to the saved point\n",
    "print(\"resume sample:\", rng.random(3))      # continues sequence"
   ]
  },
  {
   "cell_type": "markdown",
   "metadata": {
    "id": "P9LdOZDWKy8o"
   },
   "source": [
    "---"
   ]
  },
  {
   "cell_type": "markdown",
   "metadata": {
    "id": "EQHzFTfKgkyf"
   },
   "source": [
    "### Part 2 — Introduction to NumPy\n",
    "\n",
    "NumPy = Numerical Python.\n",
    "It is not included in the base Python distribution, so we import it explicitly.\n",
    "\n",
    "We usually abbreviate it as np for convenience."
   ]
  },
  {
   "cell_type": "code",
   "execution_count": 42,
   "metadata": {
    "executionInfo": {
     "elapsed": 42,
     "status": "ok",
     "timestamp": 1757438742253,
     "user": {
      "displayName": "shijian chen",
      "userId": "07194891437090795913"
     },
     "user_tz": -480
    },
    "id": "Ke_-pkO6Kzh3"
   },
   "outputs": [],
   "source": [
    "#Code\n",
    "\n",
    "import numpy as np"
   ]
  },
  {
   "cell_type": "markdown",
   "metadata": {
    "id": "6Tsmw-cmgzqk"
   },
   "source": [
    "Arrays vs Python Lists\n",
    "\n",
    "\t•\tA NumPy array is a multidimensional container of numbers.\n",
    "\t•\tArrays support elementwise arithmetic.\n",
    "\t•\tCompare to Python lists: adding lists concatenates, while adding arrays performs elementwise addition.\n"
   ]
  },
  {
   "cell_type": "code",
   "execution_count": 45,
   "metadata": {
    "colab": {
     "base_uri": "https://localhost:8080/"
    },
    "executionInfo": {
     "elapsed": 10,
     "status": "ok",
     "timestamp": 1757438827704,
     "user": {
      "displayName": "shijian chen",
      "userId": "07194891437090795913"
     },
     "user_tz": -480
    },
    "id": "hH53H0CFgxaT",
    "outputId": "2d851934-dc8e-4147-f597-da741776bb11"
   },
   "outputs": [
    {
     "name": "stdout",
     "output_type": "stream",
     "text": [
      "x: [3 4 5]\n",
      "y: [4 9 7]\n",
      "x + y = [ 7 13 12]\n",
      "[3, 4, 5, 4, 9, 7]\n"
     ]
    }
   ],
   "source": [
    "x = np.array([3, 4, 5])\n",
    "y = np.array([4, 9, 7])\n",
    "\n",
    "print(\"x:\", x)\n",
    "print(\"y:\", y)\n",
    "print(\"x + y =\", x + y)   # elementwise addition\n",
    "\n",
    "\n",
    "# Compare with lists\n",
    "\n",
    "print([3,4,5] + [4,9,7])  # concatenation"
   ]
  },
  {
   "cell_type": "markdown",
   "metadata": {
    "id": "LEjzgf4VhVPS"
   },
   "source": [
    "Exercise 1\n",
    "\n",
    "\t1.\tCreate two arrays [1,2,3] and [4,5,6].\n",
    "\t2.\tCompute their sum and product.\n",
    "\t3.\tCompare the result to adding two Python lists."
   ]
  },
  {
   "cell_type": "code",
   "execution_count": null,
   "metadata": {
    "id": "YHSkHmfAhXgl"
   },
   "outputs": [],
   "source": [
    "# type your code here! >😊<"
   ]
  },
  {
   "cell_type": "markdown",
   "metadata": {
    "id": "bxqBLIY0hftV"
   },
   "source": [
    "Two-Dimensional Arrays (Matrices)\n",
    "\n",
    "  NumPy arrays can be multi-dimensional.\n",
    "\n",
    "\t•\tVectors = 1D arrays\n",
    "\t•\tMatrices = 2D arrays"
   ]
  },
  {
   "cell_type": "code",
   "execution_count": 48,
   "metadata": {
    "colab": {
     "base_uri": "https://localhost:8080/"
    },
    "executionInfo": {
     "elapsed": 18,
     "status": "ok",
     "timestamp": 1757439044468,
     "user": {
      "displayName": "shijian chen",
      "userId": "07194891437090795913"
     },
     "user_tz": -480
    },
    "id": "JbZ4y1mPhlvh",
    "outputId": "f77848ed-d86e-46f8-e1a4-98de8cf121ef"
   },
   "outputs": [
    {
     "name": "stdout",
     "output_type": "stream",
     "text": [
      "Matrix X:\n",
      " [[1 2]\n",
      " [3 4]]\n",
      "Number of dimensions: 2\n",
      "Shape (rows, cols): (2, 2)\n",
      "Data type: int64\n"
     ]
    }
   ],
   "source": [
    "X = np.array([[1, 2], [3, 4]])\n",
    "print(\"Matrix X:\\n\", X)\n",
    "\n",
    "print(\"Number of dimensions:\", X.ndim)\n",
    "print(\"Shape (rows, cols):\", X.shape)\n",
    "print(\"Data type:\", X.dtype)"
   ]
  },
  {
   "cell_type": "code",
   "execution_count": 49,
   "metadata": {
    "colab": {
     "base_uri": "https://localhost:8080/"
    },
    "executionInfo": {
     "elapsed": 43,
     "status": "ok",
     "timestamp": 1757439061763,
     "user": {
      "displayName": "shijian chen",
      "userId": "07194891437090795913"
     },
     "user_tz": -480
    },
    "id": "toMxWchkh6pt",
    "outputId": "c388b131-7e31-4294-f8c9-12827d19c2af"
   },
   "outputs": [
    {
     "name": "stdout",
     "output_type": "stream",
     "text": [
      "float64\n"
     ]
    }
   ],
   "source": [
    "# Note: NumPy chooses the data type based on the input.\n",
    "# \t  •\tIf you mix integers and floats, the result is a float array.\n",
    "print(np.array([[1, 2], [3.0, 4]]).dtype)  # float64\n"
   ]
  },
  {
   "cell_type": "markdown",
   "metadata": {
    "id": "bPLjagk3iFWs"
   },
   "source": [
    "Attributes and Methods\n",
    "\n",
    "\t•\tAttributes: ndim, dtype, shape, T (transpose)\n",
    "\t•\tMethods: sum(), reshape(), etc."
   ]
  },
  {
   "cell_type": "code",
   "execution_count": 53,
   "metadata": {
    "colab": {
     "base_uri": "https://localhost:8080/"
    },
    "executionInfo": {
     "elapsed": 10,
     "status": "ok",
     "timestamp": 1757439671926,
     "user": {
      "displayName": "shijian chen",
      "userId": "07194891437090795913"
     },
     "user_tz": -480
    },
    "id": "qn-ApXgsiHgM",
    "outputId": "4ace5df7-d6fc-4cf6-9514-192ace1ca6cb"
   },
   "outputs": [
    {
     "name": "stdout",
     "output_type": "stream",
     "text": [
      "Sum using method: 10\n",
      "Sum using function: 10\n",
      "Original x2: [1 2 3 4 5 6]\n",
      "Reshaped (2x3):\n",
      " [[1 2 3]\n",
      " [4 5 6]]\n"
     ]
    }
   ],
   "source": [
    "# sum\n",
    "x = np.array([1, 2, 3, 4])\n",
    "print(\"Sum using method:\", x.sum())\n",
    "print(\"Sum using function:\", np.sum(x))\n",
    "\n",
    "# reshape\n",
    "x2 = np.array([1, 2, 3, 4, 5, 6])\n",
    "print(\"Original x2:\", x2)\n",
    "print(\"Reshaped (2x3):\\n\", x2.reshape((2, 3)))\n"
   ]
  },
  {
   "cell_type": "markdown",
   "metadata": {
    "id": "LRUPP3JjkVvq"
   },
   "source": [
    "Exercise 2\n",
    "\n",
    "\t1.\tCreate a 1D array of length 6.\n",
    "\t2.\tReshape it into a 3x2 matrix.\n",
    "\t3.\tCompute its transpose."
   ]
  },
  {
   "cell_type": "code",
   "execution_count": null,
   "metadata": {
    "id": "78gaJhA0kaGk"
   },
   "outputs": [],
   "source": [
    "# type your code here! >😊<"
   ]
  },
  {
   "cell_type": "markdown",
   "metadata": {
    "id": "5GetQ_7ikc49"
   },
   "source": [
    "Indexing and Slicing\n",
    "\n",
    "NumPy uses 0-based indexing.\n",
    "\n",
    "\t•\tA[i, j] → element at row i, column j\n",
    "\t•\tSlices work like Python lists.\n"
   ]
  },
  {
   "cell_type": "code",
   "execution_count": 55,
   "metadata": {
    "colab": {
     "base_uri": "https://localhost:8080/"
    },
    "executionInfo": {
     "elapsed": 47,
     "status": "ok",
     "timestamp": 1757439751729,
     "user": {
      "displayName": "shijian chen",
      "userId": "07194891437090795913"
     },
     "user_tz": -480
    },
    "id": "XbCNTQyHiOO7",
    "outputId": "b5fc8925-0752-484f-85f4-1db8a32555ab"
   },
   "outputs": [
    {
     "name": "stdout",
     "output_type": "stream",
     "text": [
      "X:\n",
      " [[1 2 3]\n",
      " [4 5 6]]\n",
      "Top-left element: 1\n",
      "Element at (1,2): 6\n",
      "First row: [1 2 3]\n",
      "First column: [1 4]\n"
     ]
    }
   ],
   "source": [
    "X = np.array([[1, 2, 3],\n",
    "[4, 5, 6]])\n",
    "\n",
    "print(\"X:\\n\", X)\n",
    "print(\"Top-left element:\", X[0, 0])\n",
    "print(\"Element at (1,2):\", X[1, 2])\n",
    "print(\"First row:\", X[0])\n",
    "print(\"First column:\", X[:, 0])"
   ]
  },
  {
   "cell_type": "markdown",
   "metadata": {
    "id": "XYztBK_gkxIy"
   },
   "source": [
    "Array Views and Memory Sharing\n",
    "\n",
    "\t•\tReshaping an array often shares memory with the original array.\n",
    "\t•\tModifying one will modify the other."
   ]
  },
  {
   "cell_type": "code",
   "execution_count": 58,
   "metadata": {
    "colab": {
     "base_uri": "https://localhost:8080/"
    },
    "executionInfo": {
     "elapsed": 11,
     "status": "ok",
     "timestamp": 1757439815943,
     "user": {
      "displayName": "shijian chen",
      "userId": "07194891437090795913"
     },
     "user_tz": -480
    },
    "id": "GxKIkbB0iN6W",
    "outputId": "3556d98e-b468-487a-dd71-f34976d52957"
   },
   "outputs": [
    {
     "name": "stdout",
     "output_type": "stream",
     "text": [
      "x before: [1 2 3 4 5 6]\n",
      "x_reshape after modification:\n",
      " [[99  2  3]\n",
      " [ 4  5  6]]\n",
      "x after modification: [99  2  3  4  5  6]\n"
     ]
    }
   ],
   "source": [
    "x = np.array([1, 2, 3, 4, 5, 6])\n",
    "x_reshape = x.reshape((2, 3))\n",
    "\n",
    "print(\"x before:\", x)\n",
    "x_reshape[0, 0] = 99\n",
    "print(\"x_reshape after modification:\\n\", x_reshape)\n",
    "print(\"x after modification:\", x)"
   ]
  },
  {
   "cell_type": "markdown",
   "metadata": {
    "id": "u-Z78p60k7tW"
   },
   "source": [
    "Exercise 3\n",
    "\n",
    "\t1.\tCreate a 1D array of 8 integers.\n",
    "\t2.\tReshape it into 2x4.\n",
    "\t3.\tModify one element in the reshaped version and observe the original array."
   ]
  },
  {
   "cell_type": "code",
   "execution_count": null,
   "metadata": {
    "id": "7FBY84CZk-Wn"
   },
   "outputs": [],
   "source": [
    "# type your code here! >😊<"
   ]
  },
  {
   "cell_type": "markdown",
   "metadata": {
    "id": "2yzlgbQDk-60"
   },
   "source": [
    "Mathematical Functions\n",
    "\n",
    "NumPy applies math operations elementwise."
   ]
  },
  {
   "cell_type": "code",
   "execution_count": 62,
   "metadata": {
    "colab": {
     "base_uri": "https://localhost:8080/"
    },
    "executionInfo": {
     "elapsed": 13,
     "status": "ok",
     "timestamp": 1757440067729,
     "user": {
      "displayName": "shijian chen",
      "userId": "07194891437090795913"
     },
     "user_tz": -480
    },
    "id": "1GaRWLSElZRi",
    "outputId": "866fdbf4-1e42-42dd-fa2b-000e235b34dc"
   },
   "outputs": [
    {
     "name": "stdout",
     "output_type": "stream",
     "text": [
      "Square root: [1.         1.41421356 1.73205081 2.         2.23606798 2.44948974]\n",
      "Squared: [ 1  4  9 16 25 36]\n",
      "x**0.5: [1.         1.41421356 1.73205081 2.         2.23606798 2.44948974]\n"
     ]
    }
   ],
   "source": [
    "x = np.array([1, 2, 3, 4, 5, 6])\n",
    "\n",
    "print(\"Square root:\", np.sqrt(x))   # 元素开平方 -> 浮点结果\n",
    "print(\"Squared:\", x**2)             # 元素平方\n",
    "print(\"x**0.5:\", x**0.5)            # 与 sqrt 等价（当 x>=0）"
   ]
  },
  {
   "cell_type": "markdown",
   "metadata": {
    "id": "xq7YepNNmk4F"
   },
   "source": [
    "---"
   ]
  },
  {
   "cell_type": "markdown",
   "metadata": {
    "id": "b6L_Qd9kmmGM"
   },
   "source": [
    "### Part 3 — Matrix Computations with NumPy\n",
    "\n"
   ]
  },
  {
   "cell_type": "markdown",
   "metadata": {
    "id": "Jr6Inubsmy7j"
   },
   "source": [
    "Creating Matrices\n",
    "\n",
    "In NumPy, a matrix is usually represented as a 2D ndarray."
   ]
  },
  {
   "cell_type": "code",
   "execution_count": 63,
   "metadata": {
    "colab": {
     "base_uri": "https://localhost:8080/"
    },
    "executionInfo": {
     "elapsed": 46,
     "status": "ok",
     "timestamp": 1757440460475,
     "user": {
      "displayName": "shijian chen",
      "userId": "07194891437090795913"
     },
     "user_tz": -480
    },
    "id": "Nb8srsXfnTy3",
    "outputId": "20d624e4-0345-4a11-edf4-892024d61979"
   },
   "outputs": [
    {
     "name": "stdout",
     "output_type": "stream",
     "text": [
      "Matrix A:\n",
      " [[1 2]\n",
      " [3 4]]\n",
      "Matrix B:\n",
      " [[5 6]\n",
      " [7 8]]\n"
     ]
    }
   ],
   "source": [
    "import numpy as np\n",
    "\n",
    "# Create 2x2 matrices\n",
    "A = np.array([[1, 2], [3, 4]])\n",
    "B = np.array([[5, 6], [7, 8]])\n",
    "\n",
    "print(\"Matrix A:\\n\", A)\n",
    "print(\"Matrix B:\\n\", B)"
   ]
  },
  {
   "cell_type": "markdown",
   "metadata": {
    "id": "yjg0who8m2y1"
   },
   "source": [
    "Basic Matrix Operations\n",
    "\n",
    "\t•\tAddition / Subtraction: elementwise\n",
    "\t•\tScalar multiplication: multiply each element\n",
    "\t•\tElementwise multiplication: *\n",
    "\t•\tMatrix multiplication: @ or np.dot()"
   ]
  },
  {
   "cell_type": "code",
   "execution_count": 64,
   "metadata": {
    "colab": {
     "base_uri": "https://localhost:8080/"
    },
    "executionInfo": {
     "elapsed": 3,
     "status": "ok",
     "timestamp": 1757440468705,
     "user": {
      "displayName": "shijian chen",
      "userId": "07194891437090795913"
     },
     "user_tz": -480
    },
    "id": "oF_I-WHOnV6B",
    "outputId": "e1a471fe-a925-4a6d-b0c2-494bf6388470"
   },
   "outputs": [
    {
     "name": "stdout",
     "output_type": "stream",
     "text": [
      "A + B:\n",
      " [[ 6  8]\n",
      " [10 12]]\n",
      "A - B:\n",
      " [[-4 -4]\n",
      " [-4 -4]]\n",
      "2 * A:\n",
      " [[2 4]\n",
      " [6 8]]\n",
      "Elementwise product (Hadamard):\n",
      " [[ 5 12]\n",
      " [21 32]]\n",
      "Matrix product A @ B:\n",
      " [[19 22]\n",
      " [43 50]]\n"
     ]
    }
   ],
   "source": [
    "print(\"A + B:\\n\", A + B)\n",
    "print(\"A - B:\\n\", A - B)\n",
    "print(\"2 * A:\\n\", 2 * A)\n",
    "\n",
    "print(\"Elementwise product (Hadamard):\\n\", A * B)\n",
    "print(\"Matrix product A @ B:\\n\", A @ B)   # or np.dot(A, B)"
   ]
  },
  {
   "cell_type": "markdown",
   "metadata": {
    "id": "u24tCyn4m4Yl"
   },
   "source": [
    "Exercise 1\n",
    "\n",
    "\t1.\tCreate a 3×3 random integer matrix.\n",
    "\t2.\tCompute its transpose.\n",
    "\t3.\tCompute the matrix product with its transpose.\n"
   ]
  },
  {
   "cell_type": "markdown",
   "metadata": {
    "id": "yJAc51dim4bL"
   },
   "source": [
    "Transpose, Determinant, Inverse\n",
    "\n",
    "NumPy provides functions in np.linalg for linear algebra."
   ]
  },
  {
   "cell_type": "code",
   "execution_count": 65,
   "metadata": {
    "colab": {
     "base_uri": "https://localhost:8080/"
    },
    "executionInfo": {
     "elapsed": 13,
     "status": "ok",
     "timestamp": 1757440478886,
     "user": {
      "displayName": "shijian chen",
      "userId": "07194891437090795913"
     },
     "user_tz": -480
    },
    "id": "7GI607_7nYPw",
    "outputId": "4adda1de-289f-432b-9f2f-6fcba70f0096"
   },
   "outputs": [
    {
     "name": "stdout",
     "output_type": "stream",
     "text": [
      "A^T:\n",
      " [[1 3]\n",
      " [2 4]]\n",
      "det(A): -2.0000000000000004\n",
      "A^-1:\n",
      " [[-2.   1. ]\n",
      " [ 1.5 -0.5]]\n",
      "Check A @ A^-1:\n",
      " [[1.0000000e+00 0.0000000e+00]\n",
      " [8.8817842e-16 1.0000000e+00]]\n"
     ]
    }
   ],
   "source": [
    "# Transpose\n",
    "print(\"A^T:\\n\", A.T)\n",
    "\n",
    "# Determinant\n",
    "print(\"det(A):\", np.linalg.det(A))\n",
    "\n",
    "# Inverse\n",
    "A_inv = np.linalg.inv(A)\n",
    "print(\"A^-1:\\n\", A_inv)\n",
    "\n",
    "# Verify A @ A^-1 ≈ I\n",
    "print(\"Check A @ A^-1:\\n\", A @ A_inv)"
   ]
  },
  {
   "cell_type": "markdown",
   "metadata": {
    "id": "6y5xx_2fm4dA"
   },
   "source": [
    "Exercise 2\n",
    "\n",
    "\t1.\tGenerate a 2×2 matrix with random values.\n",
    "\t2.\tCompute its determinant.\n",
    "\t3.\tIf invertible (det ≠ 0), calculate its inverse."
   ]
  },
  {
   "cell_type": "markdown",
   "metadata": {
    "id": "dBsQfZ1Lm4fG"
   },
   "source": [
    "Solving Linear Systems\n",
    "\n",
    "To solve *A x = b*, use np.linalg.solve.\n"
   ]
  },
  {
   "cell_type": "code",
   "execution_count": 66,
   "metadata": {
    "colab": {
     "base_uri": "https://localhost:8080/"
    },
    "executionInfo": {
     "elapsed": 50,
     "status": "ok",
     "timestamp": 1757440494595,
     "user": {
      "displayName": "shijian chen",
      "userId": "07194891437090795913"
     },
     "user_tz": -480
    },
    "id": "t1oERnyvncWi",
    "outputId": "40ad3835-b860-4118-d9de-7a2df0f4eba1"
   },
   "outputs": [
    {
     "name": "stdout",
     "output_type": "stream",
     "text": [
      "Solution x: [0.  0.5]\n",
      "A @ x: [1. 2.]\n",
      "b: [1 2]\n"
     ]
    }
   ],
   "source": [
    "b = np.array([1, 2])\n",
    "x = np.linalg.solve(A, b)\n",
    "print(\"Solution x:\", x)\n",
    "\n",
    "# Verify\n",
    "print(\"A @ x:\", A @ x)\n",
    "print(\"b:\", b)"
   ]
  },
  {
   "cell_type": "markdown",
   "metadata": {
    "id": "mAoRlBIgnMsM"
   },
   "source": [
    "Eigenvalues and Eigenvectors\n",
    "\n",
    "Used in PCA, graph analysis, etc."
   ]
  },
  {
   "cell_type": "code",
   "execution_count": 67,
   "metadata": {
    "colab": {
     "base_uri": "https://localhost:8080/"
    },
    "executionInfo": {
     "elapsed": 12,
     "status": "ok",
     "timestamp": 1757440502248,
     "user": {
      "displayName": "shijian chen",
      "userId": "07194891437090795913"
     },
     "user_tz": -480
    },
    "id": "nY9BKTa9neQq",
    "outputId": "239e6814-77e0-4812-cc6d-07c54a4ef14c"
   },
   "outputs": [
    {
     "name": "stdout",
     "output_type": "stream",
     "text": [
      "Eigenvalues: [-0.37228132  5.37228132]\n",
      "Eigenvectors:\n",
      " [[-0.82456484 -0.41597356]\n",
      " [ 0.56576746 -0.90937671]]\n"
     ]
    }
   ],
   "source": [
    "w, v = np.linalg.eig(A)\n",
    "print(\"Eigenvalues:\", w)\n",
    "print(\"Eigenvectors:\\n\", v)"
   ]
  },
  {
   "cell_type": "markdown",
   "metadata": {
    "id": "dJtdnM09nMuj"
   },
   "source": [
    "Singular Value Decomposition (SVD)\n",
    "\n",
    "Important for dimensionality reduction, image compression, etc."
   ]
  },
  {
   "cell_type": "code",
   "execution_count": 68,
   "metadata": {
    "colab": {
     "base_uri": "https://localhost:8080/"
    },
    "executionInfo": {
     "elapsed": 9,
     "status": "ok",
     "timestamp": 1757440510305,
     "user": {
      "displayName": "shijian chen",
      "userId": "07194891437090795913"
     },
     "user_tz": -480
    },
    "id": "oIFvJi_9ngCN",
    "outputId": "2c6edb3d-978c-4cea-fb9e-5e4b88edee0b"
   },
   "outputs": [
    {
     "name": "stdout",
     "output_type": "stream",
     "text": [
      "U:\n",
      " [[-0.40455358 -0.9145143 ]\n",
      " [-0.9145143   0.40455358]]\n",
      "Singular values: [5.4649857  0.36596619]\n",
      "V^T:\n",
      " [[-0.57604844 -0.81741556]\n",
      " [ 0.81741556 -0.57604844]]\n"
     ]
    }
   ],
   "source": [
    "U, S, Vt = np.linalg.svd(A)\n",
    "print(\"U:\\n\", U)\n",
    "print(\"Singular values:\", S)\n",
    "print(\"V^T:\\n\", Vt)"
   ]
  },
  {
   "cell_type": "markdown",
   "metadata": {
    "id": "TQSROUlanMwX"
   },
   "source": [
    "---"
   ]
  },
  {
   "cell_type": "markdown",
   "metadata": {
    "id": "W3t5P_9dntKS"
   },
   "source": [
    "### Part 4 — Pandas Basics\n",
    "\n"
   ]
  },
  {
   "cell_type": "markdown",
   "metadata": {
    "id": "-aUbnK5ZoJoq"
   },
   "source": [
    "Creating a DataFrame\n",
    "\n",
    "Pandas provides two main objects:\n",
    "\n",
    "\t•\tSeries: a single column of data with an index.\n",
    "\t•\tDataFrame: a table of rows and columns (like Excel)."
   ]
  },
  {
   "cell_type": "code",
   "execution_count": 69,
   "metadata": {
    "colab": {
     "base_uri": "https://localhost:8080/"
    },
    "executionInfo": {
     "elapsed": 36,
     "status": "ok",
     "timestamp": 1757440695066,
     "user": {
      "displayName": "shijian chen",
      "userId": "07194891437090795913"
     },
     "user_tz": -480
    },
    "id": "qrAY6eqhoMDF",
    "outputId": "04e79727-8cfd-41ea-cfd2-01f9afb89302"
   },
   "outputs": [
    {
     "name": "stdout",
     "output_type": "stream",
     "text": [
      "DataFrame:\n",
      "     Name  Score  Age\n",
      "0  Alice     85   20\n",
      "1    Bob     92   21\n",
      "2  Cathy     78   20\n",
      "3  David     90   22\n"
     ]
    }
   ],
   "source": [
    "import pandas as pd\n",
    "\n",
    "# Create a DataFrame from a dictionary\n",
    "data = {\n",
    "    \"Name\": [\"Alice\", \"Bob\", \"Cathy\", \"David\"],\n",
    "    \"Score\": [85, 92, 78, 90],\n",
    "    \"Age\": [20, 21, 20, 22]\n",
    "}\n",
    "\n",
    "df = pd.DataFrame(data)\n",
    "print(\"DataFrame:\\n\", df)"
   ]
  },
  {
   "cell_type": "markdown",
   "metadata": {
    "id": "aDz7rQa_oZWp"
   },
   "source": [
    "Exploring the Data\n",
    "\n",
    "Some useful functions to quickly understand a dataset:\n",
    "\n",
    "\t•\tdf.head() → first rows\n",
    "\t•\tdf.info() → structure and datatypes\n",
    "\t•\tdf.describe() → summary statistics\n"
   ]
  },
  {
   "cell_type": "code",
   "execution_count": 70,
   "metadata": {
    "colab": {
     "base_uri": "https://localhost:8080/"
    },
    "executionInfo": {
     "elapsed": 91,
     "status": "ok",
     "timestamp": 1757440749236,
     "user": {
      "displayName": "shijian chen",
      "userId": "07194891437090795913"
     },
     "user_tz": -480
    },
    "id": "8kSCf_4joO7e",
    "outputId": "1bcfd0f8-8a06-479e-8f61-4ba4e294076f"
   },
   "outputs": [
    {
     "name": "stdout",
     "output_type": "stream",
     "text": [
      "First rows:\n",
      "     Name  Score  Age\n",
      "0  Alice     85   20\n",
      "1    Bob     92   21\n",
      "2  Cathy     78   20\n",
      "3  David     90   22\n",
      "\n",
      "Info:\n",
      "<class 'pandas.core.frame.DataFrame'>\n",
      "RangeIndex: 4 entries, 0 to 3\n",
      "Data columns (total 3 columns):\n",
      " #   Column  Non-Null Count  Dtype \n",
      "---  ------  --------------  ----- \n",
      " 0   Name    4 non-null      object\n",
      " 1   Score   4 non-null      int64 \n",
      " 2   Age     4 non-null      int64 \n",
      "dtypes: int64(2), object(1)\n",
      "memory usage: 228.0+ bytes\n",
      "None\n",
      "\n",
      "Statistics summary:\n",
      "            Score        Age\n",
      "count   4.000000   4.000000\n",
      "mean   86.250000  20.750000\n",
      "std     6.238322   0.957427\n",
      "min    78.000000  20.000000\n",
      "25%    83.250000  20.000000\n",
      "50%    87.500000  20.500000\n",
      "75%    90.500000  21.250000\n",
      "max    92.000000  22.000000\n"
     ]
    }
   ],
   "source": [
    "print(\"First rows:\\n\", df.head())\n",
    "print(\"\\nInfo:\")\n",
    "print(df.info())\n",
    "print(\"\\nStatistics summary:\\n\", df.describe())"
   ]
  },
  {
   "cell_type": "markdown",
   "metadata": {
    "id": "-QnvXnDSobiw"
   },
   "source": [
    "Selecting and Filtering\n",
    "\n",
    "\t•\tSelect a single column: df[\"Name\"]\n",
    "\t•\tSelect multiple columns: df[[\"Name\", \"Age\"]]\n",
    "\t•\tFilter rows with a condition: df[df[\"Age\"] > 20]"
   ]
  },
  {
   "cell_type": "code",
   "execution_count": 71,
   "metadata": {
    "colab": {
     "base_uri": "https://localhost:8080/"
    },
    "executionInfo": {
     "elapsed": 48,
     "status": "ok",
     "timestamp": 1757440774766,
     "user": {
      "displayName": "shijian chen",
      "userId": "07194891437090795913"
     },
     "user_tz": -480
    },
    "id": "5-O2RETXof7N",
    "outputId": "638bf7fd-c806-4861-d2bc-e1196763e272"
   },
   "outputs": [
    {
     "name": "stdout",
     "output_type": "stream",
     "text": [
      "Name column:\n",
      " 0    Alice\n",
      "1      Bob\n",
      "2    Cathy\n",
      "3    David\n",
      "Name: Name, dtype: object\n",
      "\n",
      "Name and Age columns:\n",
      "     Name  Age\n",
      "0  Alice   20\n",
      "1    Bob   21\n",
      "2  Cathy   20\n",
      "3  David   22\n",
      "\n",
      "Filter Age > 20:\n",
      "     Name  Score  Age\n",
      "1    Bob     92   21\n",
      "3  David     90   22\n"
     ]
    }
   ],
   "source": [
    "print(\"Name column:\\n\", df[\"Name\"])\n",
    "print(\"\\nName and Age columns:\\n\", df[[\"Name\", \"Age\"]])\n",
    "print(\"\\nFilter Age > 20:\\n\", df[df[\"Age\"] > 20])"
   ]
  },
  {
   "cell_type": "markdown",
   "metadata": {
    "id": "GQPOUsDaoiGz"
   },
   "source": [
    "Grouping and Aggregation\n",
    "\n",
    "Group rows by a key and apply an aggregate function.\n"
   ]
  },
  {
   "cell_type": "code",
   "execution_count": 72,
   "metadata": {
    "colab": {
     "base_uri": "https://localhost:8080/"
    },
    "executionInfo": {
     "elapsed": 46,
     "status": "ok",
     "timestamp": 1757440823540,
     "user": {
      "displayName": "shijian chen",
      "userId": "07194891437090795913"
     },
     "user_tz": -480
    },
    "id": "mLr2l3qOosBb",
    "outputId": "4ed27546-b2f5-4b78-e3db-dc9267cc8b8c"
   },
   "outputs": [
    {
     "name": "stdout",
     "output_type": "stream",
     "text": [
      "Average score by Age:\n",
      " Age\n",
      "20    81.5\n",
      "21    92.0\n",
      "22    90.0\n",
      "Name: Score, dtype: float64\n"
     ]
    }
   ],
   "source": [
    "print(\"Average score by Age:\\n\", df.groupby(\"Age\")[\"Score\"].mean())"
   ]
  },
  {
   "cell_type": "markdown",
   "metadata": {
    "id": "nhs3Sq74o6F9"
   },
   "source": [
    "Missing Data\n",
    "\n",
    "\t•\tdf.isna() checks for missing values.\n",
    "\t•\tdf.fillna() fills missing values.\n",
    "\t•\tdf.dropna() removes rows with missing values."
   ]
  },
  {
   "cell_type": "code",
   "execution_count": 73,
   "metadata": {
    "colab": {
     "base_uri": "https://localhost:8080/"
    },
    "executionInfo": {
     "elapsed": 52,
     "status": "ok",
     "timestamp": 1757440888534,
     "user": {
      "displayName": "shijian chen",
      "userId": "07194891437090795913"
     },
     "user_tz": -480
    },
    "id": "BrRtYiwLo7op",
    "outputId": "0e633cfc-93f7-41ea-963d-6ee54f3ad19c"
   },
   "outputs": [
    {
     "name": "stdout",
     "output_type": "stream",
     "text": [
      "With missing value:\n",
      "     Name  Score  Age\n",
      "0  Alice   85.0   20\n",
      "1    Bob    NaN   21\n",
      "2  Cathy   78.0   20\n",
      "3  David   90.0   22\n",
      "\n",
      "Missing values:\n",
      " Name     0\n",
      "Score    1\n",
      "Age      0\n",
      "dtype: int64\n",
      "\n",
      "After filling missing values:\n",
      "     Name      Score  Age\n",
      "0  Alice  85.000000   20\n",
      "1    Bob  84.333333   21\n",
      "2  Cathy  78.000000   20\n",
      "3  David  90.000000   22\n"
     ]
    }
   ],
   "source": [
    "# Introduce missing values\n",
    "df.loc[1, \"Score\"] = None\n",
    "print(\"With missing value:\\n\", df)\n",
    "\n",
    "# Check missing\n",
    "print(\"\\nMissing values:\\n\", df.isna().sum())\n",
    "\n",
    "# Fill missing values with mean\n",
    "df_filled = df.fillna(df[\"Score\"].mean())\n",
    "print(\"\\nAfter filling missing values:\\n\", df_filled)"
   ]
  },
  {
   "cell_type": "markdown",
   "metadata": {
    "id": "FckQ4zQdpBRl"
   },
   "source": [
    "Exercise\n",
    "\n",
    "\t1.\tCreate a DataFrame with at least 2 missing values.\n",
    "\t2.\tFill numeric missing values with median.\n",
    "\t3.\tDrop rows with missing categorical values."
   ]
  },
  {
   "cell_type": "markdown",
   "metadata": {
    "id": "j7r3wkdwpFel"
   },
   "source": [
    "Saving and Loading Data\n",
    "\n",
    "Save DataFrame to CSV and reload it."
   ]
  },
  {
   "cell_type": "code",
   "execution_count": 75,
   "metadata": {
    "colab": {
     "base_uri": "https://localhost:8080/"
    },
    "executionInfo": {
     "elapsed": 37,
     "status": "ok",
     "timestamp": 1757440929517,
     "user": {
      "displayName": "shijian chen",
      "userId": "07194891437090795913"
     },
     "user_tz": -480
    },
    "id": "lybpKG4ipAxT",
    "outputId": "8a46db0c-7e82-4f42-9ce8-59e0bcb4efbe"
   },
   "outputs": [
    {
     "name": "stdout",
     "output_type": "stream",
     "text": [
      "Reloaded DataFrame:\n",
      "     Name      Score  Age\n",
      "0  Alice  85.000000   20\n",
      "1    Bob  84.333333   21\n",
      "2  Cathy  78.000000   20\n",
      "3  David  90.000000   22\n"
     ]
    }
   ],
   "source": [
    "# Save\n",
    "df_filled.to_csv(\"students.csv\", index=False)\n",
    "\n",
    "# Load\n",
    "df_loaded = pd.read_csv(\"students.csv\")\n",
    "print(\"Reloaded DataFrame:\\n\", df_loaded)"
   ]
  },
  {
   "cell_type": "markdown",
   "metadata": {
    "id": "SygYOR5epM1K"
   },
   "source": [
    "---"
   ]
  },
  {
   "cell_type": "markdown",
   "metadata": {
    "id": "4r9FHWYXpPWp"
   },
   "source": [
    "### Part 5 🚢 Mini Project — Titanic: Machine Learning from Disaster"
   ]
  },
  {
   "cell_type": "markdown",
   "metadata": {
    "id": "5v25sXjFsuJX"
   },
   "source": [
    "Predict the binary target Survived (0/1) for passengers in test.csv using a baseline Logistic Regression pipeline. Emphasize reproducibility (fixed seed), NumPy/Pandas skills, and clear data handling.\n"
   ]
  },
  {
   "cell_type": "code",
   "execution_count": 2,
   "metadata": {
    "colab": {
     "base_uri": "https://localhost:8080/"
    },
    "executionInfo": {
     "elapsed": 4280,
     "status": "ok",
     "timestamp": 1757481635687,
     "user": {
      "displayName": "shijian chen",
      "userId": "07194891437090795913"
     },
     "user_tz": -480
    },
    "id": "3feizsAJpO4a",
    "outputId": "28a5333d-1875-4ec9-b92d-23a95e6aa824"
   },
   "outputs": [
    {
     "name": "stdout",
     "output_type": "stream",
     "text": [
      "Seed set to 42\n"
     ]
    }
   ],
   "source": [
    "# Reproducibility & imports\n",
    "import random\n",
    "import numpy as np\n",
    "import pandas as pd\n",
    "import matplotlib.pyplot as plt\n",
    "\n",
    "SEED = 42\n",
    "random.seed(SEED)\n",
    "np.random.seed(SEED)\n",
    "\n",
    "from sklearn.model_selection import train_test_split\n",
    "from sklearn.compose import ColumnTransformer\n",
    "from sklearn.pipeline import Pipeline\n",
    "from sklearn.preprocessing import OneHotEncoder, StandardScaler\n",
    "from sklearn.impute import SimpleImputer\n",
    "from sklearn.linear_model import LogisticRegression\n",
    "from sklearn.metrics import accuracy_score, roc_auc_score, confusion_matrix, classification_report\n",
    "\n",
    "print(\"Seed set to\", SEED)"
   ]
  },
  {
   "cell_type": "markdown",
   "metadata": {
    "id": "rqlDG0GDsy8p"
   },
   "source": [
    "Load the data\n",
    "\n",
    "\t•\tPlace train.csv and test.csv (from the Kaggle Titanic competition) in the current working directory.\n",
    "\t•\tInspect basic structure and missing values."
   ]
  },
  {
   "cell_type": "code",
   "execution_count": 4,
   "metadata": {
    "colab": {
     "base_uri": "https://localhost:8080/",
     "height": 796
    },
    "executionInfo": {
     "elapsed": 755,
     "status": "ok",
     "timestamp": 1757481837624,
     "user": {
      "displayName": "shijian chen",
      "userId": "07194891437090795913"
     },
     "user_tz": -480
    },
    "id": "UjmiKm-fsxSH",
    "outputId": "67490182-ba00-4c8f-fb3a-bc950581c638"
   },
   "outputs": [
    {
     "name": "stdout",
     "output_type": "stream",
     "text": [
      "Train shape: (891, 12)\n",
      "Test shape: (418, 11)\n",
      "\n",
      "Train head:\n"
     ]
    },
    {
     "data": {
      "application/vnd.google.colaboratory.intrinsic+json": {
       "summary": "{\n  \"name\": \"print(test_df\",\n  \"rows\": 5,\n  \"fields\": [\n    {\n      \"column\": \"PassengerId\",\n      \"properties\": {\n        \"dtype\": \"number\",\n        \"std\": 1,\n        \"min\": 1,\n        \"max\": 5,\n        \"num_unique_values\": 5,\n        \"samples\": [\n          2,\n          5,\n          3\n        ],\n        \"semantic_type\": \"\",\n        \"description\": \"\"\n      }\n    },\n    {\n      \"column\": \"Survived\",\n      \"properties\": {\n        \"dtype\": \"number\",\n        \"std\": 0,\n        \"min\": 0,\n        \"max\": 1,\n        \"num_unique_values\": 2,\n        \"samples\": [\n          1,\n          0\n        ],\n        \"semantic_type\": \"\",\n        \"description\": \"\"\n      }\n    },\n    {\n      \"column\": \"Pclass\",\n      \"properties\": {\n        \"dtype\": \"number\",\n        \"std\": 1,\n        \"min\": 1,\n        \"max\": 3,\n        \"num_unique_values\": 2,\n        \"samples\": [\n          1,\n          3\n        ],\n        \"semantic_type\": \"\",\n        \"description\": \"\"\n      }\n    },\n    {\n      \"column\": \"Name\",\n      \"properties\": {\n        \"dtype\": \"string\",\n        \"num_unique_values\": 5,\n        \"samples\": [\n          \"Cumings, Mrs. John Bradley (Florence Briggs Thayer)\",\n          \"Allen, Mr. William Henry\"\n        ],\n        \"semantic_type\": \"\",\n        \"description\": \"\"\n      }\n    },\n    {\n      \"column\": \"Sex\",\n      \"properties\": {\n        \"dtype\": \"category\",\n        \"num_unique_values\": 2,\n        \"samples\": [\n          \"female\",\n          \"male\"\n        ],\n        \"semantic_type\": \"\",\n        \"description\": \"\"\n      }\n    },\n    {\n      \"column\": \"Age\",\n      \"properties\": {\n        \"dtype\": \"number\",\n        \"std\": 6.833739825307955,\n        \"min\": 22.0,\n        \"max\": 38.0,\n        \"num_unique_values\": 4,\n        \"samples\": [\n          38.0,\n          35.0\n        ],\n        \"semantic_type\": \"\",\n        \"description\": \"\"\n      }\n    },\n    {\n      \"column\": \"SibSp\",\n      \"properties\": {\n        \"dtype\": \"number\",\n        \"std\": 0,\n        \"min\": 0,\n        \"max\": 1,\n        \"num_unique_values\": 2,\n        \"samples\": [\n          0,\n          1\n        ],\n        \"semantic_type\": \"\",\n        \"description\": \"\"\n      }\n    },\n    {\n      \"column\": \"Parch\",\n      \"properties\": {\n        \"dtype\": \"number\",\n        \"std\": 0,\n        \"min\": 0,\n        \"max\": 0,\n        \"num_unique_values\": 1,\n        \"samples\": [\n          0\n        ],\n        \"semantic_type\": \"\",\n        \"description\": \"\"\n      }\n    },\n    {\n      \"column\": \"Ticket\",\n      \"properties\": {\n        \"dtype\": \"string\",\n        \"num_unique_values\": 5,\n        \"samples\": [\n          \"PC 17599\"\n        ],\n        \"semantic_type\": \"\",\n        \"description\": \"\"\n      }\n    },\n    {\n      \"column\": \"Fare\",\n      \"properties\": {\n        \"dtype\": \"number\",\n        \"std\": 30.5100288352535,\n        \"min\": 7.25,\n        \"max\": 71.2833,\n        \"num_unique_values\": 5,\n        \"samples\": [\n          71.2833\n        ],\n        \"semantic_type\": \"\",\n        \"description\": \"\"\n      }\n    },\n    {\n      \"column\": \"Cabin\",\n      \"properties\": {\n        \"dtype\": \"category\",\n        \"num_unique_values\": 2,\n        \"samples\": [\n          \"C123\"\n        ],\n        \"semantic_type\": \"\",\n        \"description\": \"\"\n      }\n    },\n    {\n      \"column\": \"Embarked\",\n      \"properties\": {\n        \"dtype\": \"category\",\n        \"num_unique_values\": 2,\n        \"samples\": [\n          \"C\"\n        ],\n        \"semantic_type\": \"\",\n        \"description\": \"\"\n      }\n    }\n  ]\n}",
       "type": "dataframe"
      },
      "text/html": [
       "\n",
       "  <div id=\"df-1d688eef-b4bb-41b8-96ca-b380cd0c37ec\" class=\"colab-df-container\">\n",
       "    <div>\n",
       "<style scoped>\n",
       "    .dataframe tbody tr th:only-of-type {\n",
       "        vertical-align: middle;\n",
       "    }\n",
       "\n",
       "    .dataframe tbody tr th {\n",
       "        vertical-align: top;\n",
       "    }\n",
       "\n",
       "    .dataframe thead th {\n",
       "        text-align: right;\n",
       "    }\n",
       "</style>\n",
       "<table border=\"1\" class=\"dataframe\">\n",
       "  <thead>\n",
       "    <tr style=\"text-align: right;\">\n",
       "      <th></th>\n",
       "      <th>PassengerId</th>\n",
       "      <th>Survived</th>\n",
       "      <th>Pclass</th>\n",
       "      <th>Name</th>\n",
       "      <th>Sex</th>\n",
       "      <th>Age</th>\n",
       "      <th>SibSp</th>\n",
       "      <th>Parch</th>\n",
       "      <th>Ticket</th>\n",
       "      <th>Fare</th>\n",
       "      <th>Cabin</th>\n",
       "      <th>Embarked</th>\n",
       "    </tr>\n",
       "  </thead>\n",
       "  <tbody>\n",
       "    <tr>\n",
       "      <th>0</th>\n",
       "      <td>1</td>\n",
       "      <td>0</td>\n",
       "      <td>3</td>\n",
       "      <td>Braund, Mr. Owen Harris</td>\n",
       "      <td>male</td>\n",
       "      <td>22.0</td>\n",
       "      <td>1</td>\n",
       "      <td>0</td>\n",
       "      <td>A/5 21171</td>\n",
       "      <td>7.2500</td>\n",
       "      <td>NaN</td>\n",
       "      <td>S</td>\n",
       "    </tr>\n",
       "    <tr>\n",
       "      <th>1</th>\n",
       "      <td>2</td>\n",
       "      <td>1</td>\n",
       "      <td>1</td>\n",
       "      <td>Cumings, Mrs. John Bradley (Florence Briggs Th...</td>\n",
       "      <td>female</td>\n",
       "      <td>38.0</td>\n",
       "      <td>1</td>\n",
       "      <td>0</td>\n",
       "      <td>PC 17599</td>\n",
       "      <td>71.2833</td>\n",
       "      <td>C85</td>\n",
       "      <td>C</td>\n",
       "    </tr>\n",
       "    <tr>\n",
       "      <th>2</th>\n",
       "      <td>3</td>\n",
       "      <td>1</td>\n",
       "      <td>3</td>\n",
       "      <td>Heikkinen, Miss. Laina</td>\n",
       "      <td>female</td>\n",
       "      <td>26.0</td>\n",
       "      <td>0</td>\n",
       "      <td>0</td>\n",
       "      <td>STON/O2. 3101282</td>\n",
       "      <td>7.9250</td>\n",
       "      <td>NaN</td>\n",
       "      <td>S</td>\n",
       "    </tr>\n",
       "    <tr>\n",
       "      <th>3</th>\n",
       "      <td>4</td>\n",
       "      <td>1</td>\n",
       "      <td>1</td>\n",
       "      <td>Futrelle, Mrs. Jacques Heath (Lily May Peel)</td>\n",
       "      <td>female</td>\n",
       "      <td>35.0</td>\n",
       "      <td>1</td>\n",
       "      <td>0</td>\n",
       "      <td>113803</td>\n",
       "      <td>53.1000</td>\n",
       "      <td>C123</td>\n",
       "      <td>S</td>\n",
       "    </tr>\n",
       "    <tr>\n",
       "      <th>4</th>\n",
       "      <td>5</td>\n",
       "      <td>0</td>\n",
       "      <td>3</td>\n",
       "      <td>Allen, Mr. William Henry</td>\n",
       "      <td>male</td>\n",
       "      <td>35.0</td>\n",
       "      <td>0</td>\n",
       "      <td>0</td>\n",
       "      <td>373450</td>\n",
       "      <td>8.0500</td>\n",
       "      <td>NaN</td>\n",
       "      <td>S</td>\n",
       "    </tr>\n",
       "  </tbody>\n",
       "</table>\n",
       "</div>\n",
       "    <div class=\"colab-df-buttons\">\n",
       "\n",
       "  <div class=\"colab-df-container\">\n",
       "    <button class=\"colab-df-convert\" onclick=\"convertToInteractive('df-1d688eef-b4bb-41b8-96ca-b380cd0c37ec')\"\n",
       "            title=\"Convert this dataframe to an interactive table.\"\n",
       "            style=\"display:none;\">\n",
       "\n",
       "  <svg xmlns=\"http://www.w3.org/2000/svg\" height=\"24px\" viewBox=\"0 -960 960 960\">\n",
       "    <path d=\"M120-120v-720h720v720H120Zm60-500h600v-160H180v160Zm220 220h160v-160H400v160Zm0 220h160v-160H400v160ZM180-400h160v-160H180v160Zm440 0h160v-160H620v160ZM180-180h160v-160H180v160Zm440 0h160v-160H620v160Z\"/>\n",
       "  </svg>\n",
       "    </button>\n",
       "\n",
       "  <style>\n",
       "    .colab-df-container {\n",
       "      display:flex;\n",
       "      gap: 12px;\n",
       "    }\n",
       "\n",
       "    .colab-df-convert {\n",
       "      background-color: #E8F0FE;\n",
       "      border: none;\n",
       "      border-radius: 50%;\n",
       "      cursor: pointer;\n",
       "      display: none;\n",
       "      fill: #1967D2;\n",
       "      height: 32px;\n",
       "      padding: 0 0 0 0;\n",
       "      width: 32px;\n",
       "    }\n",
       "\n",
       "    .colab-df-convert:hover {\n",
       "      background-color: #E2EBFA;\n",
       "      box-shadow: 0px 1px 2px rgba(60, 64, 67, 0.3), 0px 1px 3px 1px rgba(60, 64, 67, 0.15);\n",
       "      fill: #174EA6;\n",
       "    }\n",
       "\n",
       "    .colab-df-buttons div {\n",
       "      margin-bottom: 4px;\n",
       "    }\n",
       "\n",
       "    [theme=dark] .colab-df-convert {\n",
       "      background-color: #3B4455;\n",
       "      fill: #D2E3FC;\n",
       "    }\n",
       "\n",
       "    [theme=dark] .colab-df-convert:hover {\n",
       "      background-color: #434B5C;\n",
       "      box-shadow: 0px 1px 3px 1px rgba(0, 0, 0, 0.15);\n",
       "      filter: drop-shadow(0px 1px 2px rgba(0, 0, 0, 0.3));\n",
       "      fill: #FFFFFF;\n",
       "    }\n",
       "  </style>\n",
       "\n",
       "    <script>\n",
       "      const buttonEl =\n",
       "        document.querySelector('#df-1d688eef-b4bb-41b8-96ca-b380cd0c37ec button.colab-df-convert');\n",
       "      buttonEl.style.display =\n",
       "        google.colab.kernel.accessAllowed ? 'block' : 'none';\n",
       "\n",
       "      async function convertToInteractive(key) {\n",
       "        const element = document.querySelector('#df-1d688eef-b4bb-41b8-96ca-b380cd0c37ec');\n",
       "        const dataTable =\n",
       "          await google.colab.kernel.invokeFunction('convertToInteractive',\n",
       "                                                    [key], {});\n",
       "        if (!dataTable) return;\n",
       "\n",
       "        const docLinkHtml = 'Like what you see? Visit the ' +\n",
       "          '<a target=\"_blank\" href=https://colab.research.google.com/notebooks/data_table.ipynb>data table notebook</a>'\n",
       "          + ' to learn more about interactive tables.';\n",
       "        element.innerHTML = '';\n",
       "        dataTable['output_type'] = 'display_data';\n",
       "        await google.colab.output.renderOutput(dataTable, element);\n",
       "        const docLink = document.createElement('div');\n",
       "        docLink.innerHTML = docLinkHtml;\n",
       "        element.appendChild(docLink);\n",
       "      }\n",
       "    </script>\n",
       "  </div>\n",
       "\n",
       "\n",
       "    <div id=\"df-915515f1-40f4-477b-8fdc-31c5ad2e0e1b\">\n",
       "      <button class=\"colab-df-quickchart\" onclick=\"quickchart('df-915515f1-40f4-477b-8fdc-31c5ad2e0e1b')\"\n",
       "                title=\"Suggest charts\"\n",
       "                style=\"display:none;\">\n",
       "\n",
       "<svg xmlns=\"http://www.w3.org/2000/svg\" height=\"24px\"viewBox=\"0 0 24 24\"\n",
       "     width=\"24px\">\n",
       "    <g>\n",
       "        <path d=\"M19 3H5c-1.1 0-2 .9-2 2v14c0 1.1.9 2 2 2h14c1.1 0 2-.9 2-2V5c0-1.1-.9-2-2-2zM9 17H7v-7h2v7zm4 0h-2V7h2v10zm4 0h-2v-4h2v4z\"/>\n",
       "    </g>\n",
       "</svg>\n",
       "      </button>\n",
       "\n",
       "<style>\n",
       "  .colab-df-quickchart {\n",
       "      --bg-color: #E8F0FE;\n",
       "      --fill-color: #1967D2;\n",
       "      --hover-bg-color: #E2EBFA;\n",
       "      --hover-fill-color: #174EA6;\n",
       "      --disabled-fill-color: #AAA;\n",
       "      --disabled-bg-color: #DDD;\n",
       "  }\n",
       "\n",
       "  [theme=dark] .colab-df-quickchart {\n",
       "      --bg-color: #3B4455;\n",
       "      --fill-color: #D2E3FC;\n",
       "      --hover-bg-color: #434B5C;\n",
       "      --hover-fill-color: #FFFFFF;\n",
       "      --disabled-bg-color: #3B4455;\n",
       "      --disabled-fill-color: #666;\n",
       "  }\n",
       "\n",
       "  .colab-df-quickchart {\n",
       "    background-color: var(--bg-color);\n",
       "    border: none;\n",
       "    border-radius: 50%;\n",
       "    cursor: pointer;\n",
       "    display: none;\n",
       "    fill: var(--fill-color);\n",
       "    height: 32px;\n",
       "    padding: 0;\n",
       "    width: 32px;\n",
       "  }\n",
       "\n",
       "  .colab-df-quickchart:hover {\n",
       "    background-color: var(--hover-bg-color);\n",
       "    box-shadow: 0 1px 2px rgba(60, 64, 67, 0.3), 0 1px 3px 1px rgba(60, 64, 67, 0.15);\n",
       "    fill: var(--button-hover-fill-color);\n",
       "  }\n",
       "\n",
       "  .colab-df-quickchart-complete:disabled,\n",
       "  .colab-df-quickchart-complete:disabled:hover {\n",
       "    background-color: var(--disabled-bg-color);\n",
       "    fill: var(--disabled-fill-color);\n",
       "    box-shadow: none;\n",
       "  }\n",
       "\n",
       "  .colab-df-spinner {\n",
       "    border: 2px solid var(--fill-color);\n",
       "    border-color: transparent;\n",
       "    border-bottom-color: var(--fill-color);\n",
       "    animation:\n",
       "      spin 1s steps(1) infinite;\n",
       "  }\n",
       "\n",
       "  @keyframes spin {\n",
       "    0% {\n",
       "      border-color: transparent;\n",
       "      border-bottom-color: var(--fill-color);\n",
       "      border-left-color: var(--fill-color);\n",
       "    }\n",
       "    20% {\n",
       "      border-color: transparent;\n",
       "      border-left-color: var(--fill-color);\n",
       "      border-top-color: var(--fill-color);\n",
       "    }\n",
       "    30% {\n",
       "      border-color: transparent;\n",
       "      border-left-color: var(--fill-color);\n",
       "      border-top-color: var(--fill-color);\n",
       "      border-right-color: var(--fill-color);\n",
       "    }\n",
       "    40% {\n",
       "      border-color: transparent;\n",
       "      border-right-color: var(--fill-color);\n",
       "      border-top-color: var(--fill-color);\n",
       "    }\n",
       "    60% {\n",
       "      border-color: transparent;\n",
       "      border-right-color: var(--fill-color);\n",
       "    }\n",
       "    80% {\n",
       "      border-color: transparent;\n",
       "      border-right-color: var(--fill-color);\n",
       "      border-bottom-color: var(--fill-color);\n",
       "    }\n",
       "    90% {\n",
       "      border-color: transparent;\n",
       "      border-bottom-color: var(--fill-color);\n",
       "    }\n",
       "  }\n",
       "</style>\n",
       "\n",
       "      <script>\n",
       "        async function quickchart(key) {\n",
       "          const quickchartButtonEl =\n",
       "            document.querySelector('#' + key + ' button');\n",
       "          quickchartButtonEl.disabled = true;  // To prevent multiple clicks.\n",
       "          quickchartButtonEl.classList.add('colab-df-spinner');\n",
       "          try {\n",
       "            const charts = await google.colab.kernel.invokeFunction(\n",
       "                'suggestCharts', [key], {});\n",
       "          } catch (error) {\n",
       "            console.error('Error during call to suggestCharts:', error);\n",
       "          }\n",
       "          quickchartButtonEl.classList.remove('colab-df-spinner');\n",
       "          quickchartButtonEl.classList.add('colab-df-quickchart-complete');\n",
       "        }\n",
       "        (() => {\n",
       "          let quickchartButtonEl =\n",
       "            document.querySelector('#df-915515f1-40f4-477b-8fdc-31c5ad2e0e1b button');\n",
       "          quickchartButtonEl.style.display =\n",
       "            google.colab.kernel.accessAllowed ? 'block' : 'none';\n",
       "        })();\n",
       "      </script>\n",
       "    </div>\n",
       "    </div>\n",
       "  </div>\n"
      ],
      "text/plain": [
       "   PassengerId  Survived  Pclass  \\\n",
       "0            1         0       3   \n",
       "1            2         1       1   \n",
       "2            3         1       3   \n",
       "3            4         1       1   \n",
       "4            5         0       3   \n",
       "\n",
       "                                                Name     Sex   Age  SibSp  \\\n",
       "0                            Braund, Mr. Owen Harris    male  22.0      1   \n",
       "1  Cumings, Mrs. John Bradley (Florence Briggs Th...  female  38.0      1   \n",
       "2                             Heikkinen, Miss. Laina  female  26.0      0   \n",
       "3       Futrelle, Mrs. Jacques Heath (Lily May Peel)  female  35.0      1   \n",
       "4                           Allen, Mr. William Henry    male  35.0      0   \n",
       "\n",
       "   Parch            Ticket     Fare Cabin Embarked  \n",
       "0      0         A/5 21171   7.2500   NaN        S  \n",
       "1      0          PC 17599  71.2833   C85        C  \n",
       "2      0  STON/O2. 3101282   7.9250   NaN        S  \n",
       "3      0            113803  53.1000  C123        S  \n",
       "4      0            373450   8.0500   NaN        S  "
      ]
     },
     "metadata": {},
     "output_type": "display_data"
    },
    {
     "name": "stdout",
     "output_type": "stream",
     "text": [
      "\n",
      "Missing values in train:\n",
      "PassengerId      0\n",
      "Survived         0\n",
      "Pclass           0\n",
      "Name             0\n",
      "Sex              0\n",
      "Age            177\n",
      "SibSp            0\n",
      "Parch            0\n",
      "Ticket           0\n",
      "Fare             0\n",
      "Cabin          687\n",
      "Embarked         2\n",
      "dtype: int64\n",
      "\n",
      "Missing values in test:\n",
      "PassengerId      0\n",
      "Pclass           0\n",
      "Name             0\n",
      "Sex              0\n",
      "Age             86\n",
      "SibSp            0\n",
      "Parch            0\n",
      "Ticket           0\n",
      "Fare             1\n",
      "Cabin          327\n",
      "Embarked         0\n",
      "dtype: int64\n"
     ]
    }
   ],
   "source": [
    "train_df = pd.read_csv(\"/content/drive/MyDrive/DSAI_5102/2_class_20250912Fri/data/train.csv\")\n",
    "test_df  = pd.read_csv(\"/content/drive/MyDrive/DSAI_5102/2_class_20250912Fri/data/test.csv\")\n",
    "\n",
    "print(\"Train shape:\", train_df.shape)\n",
    "print(\"Test shape:\", test_df.shape)\n",
    "\n",
    "print(\"\\nTrain head:\")\n",
    "display(train_df.head())\n",
    "\n",
    "print(\"\\nMissing values in train:\")\n",
    "print(train_df.isna().sum())\n",
    "\n",
    "print(\"\\nMissing values in test:\")\n",
    "print(test_df.isna().sum())"
   ]
  },
  {
   "cell_type": "markdown",
   "metadata": {
    "id": "4lfnRpXPFNkg"
   },
   "source": [
    "Quick EDA (distributions and simple group stats)\n",
    "\n",
    "Use only matplotlib (one chart per cell) and simple group means to understand survival patterns.\n"
   ]
  },
  {
   "cell_type": "code",
   "execution_count": 5,
   "metadata": {
    "colab": {
     "base_uri": "https://localhost:8080/",
     "height": 595
    },
    "executionInfo": {
     "elapsed": 774,
     "status": "ok",
     "timestamp": 1757481860497,
     "user": {
      "displayName": "shijian chen",
      "userId": "07194891437090795913"
     },
     "user_tz": -480
    },
    "id": "9fI96-AAER5h",
    "outputId": "f3c4ae7e-ef3a-4ffe-eb17-c8c265a31f91"
   },
   "outputs": [
    {
     "name": "stdout",
     "output_type": "stream",
     "text": [
      "Survival rate by Sex:\n",
      " Sex\n",
      "male      0.188908\n",
      "female    0.742038\n",
      "Name: Survived, dtype: float64\n"
     ]
    },
    {
     "data": {
      "image/png": "[encoded data removed]",
      "text/plain": [
       "<Figure size 640x480 with 1 Axes>"
      ]
     },
     "metadata": {},
     "output_type": "display_data"
    }
   ],
   "source": [
    "# Survival rate by Sex\n",
    "survival_by_sex = train_df.groupby(\"Sex\")[\"Survived\"].mean().sort_values()\n",
    "print(\"Survival rate by Sex:\\n\", survival_by_sex)\n",
    "\n",
    "survival_by_sex.plot(kind=\"bar\", title=\"Survival Rate by Sex\")\n",
    "plt.xlabel(\"Sex\")\n",
    "plt.ylabel(\"Mean Survival\")\n",
    "plt.show()"
   ]
  },
  {
   "cell_type": "code",
   "execution_count": 6,
   "metadata": {
    "colab": {
     "base_uri": "https://localhost:8080/",
     "height": 574
    },
    "executionInfo": {
     "elapsed": 300,
     "status": "ok",
     "timestamp": 1757481872798,
     "user": {
      "displayName": "shijian chen",
      "userId": "07194891437090795913"
     },
     "user_tz": -480
    },
    "id": "4AwVHNwhFSFT",
    "outputId": "aea4e623-8700-48aa-b490-35d935b93625"
   },
   "outputs": [
    {
     "name": "stdout",
     "output_type": "stream",
     "text": [
      "Survival rate by Pclass:\n",
      " Pclass\n",
      "1    0.629630\n",
      "2    0.472826\n",
      "3    0.242363\n",
      "Name: Survived, dtype: float64\n"
     ]
    },
    {
     "data": {
      "image/png": "[encoded data removed]",
      "text/plain": [
       "<Figure size 640x480 with 1 Axes>"
      ]
     },
     "metadata": {},
     "output_type": "display_data"
    }
   ],
   "source": [
    "# Survival rate by Pclass\n",
    "survival_by_pclass = train_df.groupby(\"Pclass\")[\"Survived\"].mean().sort_index()\n",
    "print(\"Survival rate by Pclass:\\n\", survival_by_pclass)\n",
    "\n",
    "survival_by_pclass.plot(kind=\"bar\", title=\"Survival Rate by Pclass\")\n",
    "plt.xlabel(\"Pclass\")\n",
    "plt.ylabel(\"Mean Survival\")\n",
    "plt.show()"
   ]
  },
  {
   "cell_type": "code",
   "execution_count": 7,
   "metadata": {
    "colab": {
     "base_uri": "https://localhost:8080/",
     "height": 579
    },
    "executionInfo": {
     "elapsed": 717,
     "status": "ok",
     "timestamp": 1757481884061,
     "user": {
      "displayName": "shijian chen",
      "userId": "07194891437090795913"
     },
     "user_tz": -480
    },
    "id": "4Cu9sTYmFU3b",
    "outputId": "5da55ea9-aa03-4ee9-d2be-660db51a91af"
   },
   "outputs": [
    {
     "name": "stdout",
     "output_type": "stream",
     "text": [
      "Conditional Survival (Pclass x Sex):\n",
      " Sex     female   male\n",
      "Pclass               \n",
      "1        0.968  0.369\n",
      "2        0.921  0.157\n",
      "3        0.500  0.135\n"
     ]
    },
    {
     "data": {
      "image/png": "[encoded data removed]",
      "text/plain": [
       "<Figure size 640x480 with 2 Axes>"
      ]
     },
     "metadata": {},
     "output_type": "display_data"
    }
   ],
   "source": [
    "# Joint view: Pclass x Sex (pivot)\n",
    "pivot = train_df.pivot_table(index=\"Pclass\", columns=\"Sex\", values=\"Survived\", aggfunc=\"mean\")\n",
    "print(\"Conditional Survival (Pclass x Sex):\\n\", pivot.round(3))\n",
    "\n",
    "plt.imshow(pivot.values, aspect=\"auto\")\n",
    "plt.xticks(range(len(pivot.columns)), pivot.columns)\n",
    "plt.yticks(range(len(pivot.index)), pivot.index)\n",
    "plt.colorbar(label=\"Mean Survival\")\n",
    "plt.title(\"Conditional Survival: Pclass x Sex\")\n",
    "plt.xlabel(\"Sex\")\n",
    "plt.ylabel(\"Pclass\")\n",
    "plt.show()"
   ]
  },
  {
   "cell_type": "markdown",
   "metadata": {
    "id": "N4qVdN11FY38"
   },
   "source": [
    "Feature selection & preprocessing\n",
    "\n",
    "We will use a compact, effective feature set:\n",
    "\t•\tNumeric: Age, SibSp, Parch, Fare\n",
    "\t•\tCategorical: Pclass, Sex, Embarked\n",
    "\n",
    "Handling:\n",
    "\t•\tImpute numeric with median; standardize.\n",
    "\t•\tImpute categorical with mode; one-hot encode.\n",
    "\t•\tKeep a fixed random_state and stratify by Survived."
   ]
  },
  {
   "cell_type": "code",
   "execution_count": 8,
   "metadata": {
    "executionInfo": {
     "elapsed": 134,
     "status": "ok",
     "timestamp": 1757481908566,
     "user": {
      "displayName": "shijian chen",
      "userId": "07194891437090795913"
     },
     "user_tz": -480
    },
    "id": "n5P2sN0KFYNf"
   },
   "outputs": [],
   "source": [
    "features = [\"Pclass\", \"Sex\", \"Age\", \"SibSp\", \"Parch\", \"Fare\", \"Embarked\"]\n",
    "target   = \"Survived\"\n",
    "\n",
    "X = train_df[features].copy()\n",
    "y = train_df[target].copy()\n",
    "\n",
    "num_features = [\"Age\", \"SibSp\", \"Parch\", \"Fare\"]\n",
    "cat_features = [\"Pclass\", \"Sex\", \"Embarked\"]\n",
    "\n",
    "numeric_transformer = Pipeline(steps=[\n",
    "    (\"imputer\", SimpleImputer(strategy=\"median\")),\n",
    "    (\"scaler\", StandardScaler())\n",
    "])\n",
    "\n",
    "categorical_transformer = Pipeline(steps=[\n",
    "    (\"imputer\", SimpleImputer(strategy=\"most_frequent\")),\n",
    "    (\"onehot\", OneHotEncoder(handle_unknown=\"ignore\"))\n",
    "])\n",
    "\n",
    "preprocess = ColumnTransformer(\n",
    "    transformers=[\n",
    "        (\"num\", numeric_transformer, num_features),\n",
    "        (\"cat\", categorical_transformer, cat_features)\n",
    "    ]\n",
    ")"
   ]
  },
  {
   "cell_type": "markdown",
   "metadata": {
    "id": "4vn71RqsFeHF"
   },
   "source": [
    "Train/validation split and baseline model\n",
    "\n",
    "\t•\tBaseline model: LogisticRegression (max_iter=1000).\n",
    "\t•\tEvaluate with Accuracy, ROC-AUC, confusion matrix, and a classification report."
   ]
  },
  {
   "cell_type": "code",
   "execution_count": 9,
   "metadata": {
    "colab": {
     "base_uri": "https://localhost:8080/"
    },
    "executionInfo": {
     "elapsed": 102,
     "status": "ok",
     "timestamp": 1757481933091,
     "user": {
      "displayName": "shijian chen",
      "userId": "07194891437090795913"
     },
     "user_tz": -480
    },
    "id": "IskrTnFGFhEs",
    "outputId": "ba56437b-4891-4687-ef16-11aa61d09eb9"
   },
   "outputs": [
    {
     "name": "stdout",
     "output_type": "stream",
     "text": [
      "Validation Accuracy: 0.8045\n",
      "Validation ROC-AUC:  0.8427\n",
      "Confusion matrix:\n",
      " [[98 12]\n",
      " [23 46]]\n",
      "\n",
      "Classification report:\n",
      "               precision    recall  f1-score   support\n",
      "\n",
      "           0       0.81      0.89      0.85       110\n",
      "           1       0.79      0.67      0.72        69\n",
      "\n",
      "    accuracy                           0.80       179\n",
      "   macro avg       0.80      0.78      0.79       179\n",
      "weighted avg       0.80      0.80      0.80       179\n",
      "\n"
     ]
    }
   ],
   "source": [
    "X_train, X_val, y_train, y_val = train_test_split(\n",
    "    X, y, test_size=0.2, stratify=y, random_state=SEED\n",
    ")\n",
    "\n",
    "clf = Pipeline(steps=[\n",
    "    (\"preprocess\", preprocess),\n",
    "    (\"model\", LogisticRegression(max_iter=1000, random_state=SEED))\n",
    "])\n",
    "\n",
    "clf.fit(X_train, y_train)\n",
    "\n",
    "y_pred = clf.predict(X_val)\n",
    "y_prob = clf.predict_proba(X_val)[:, 1]\n",
    "\n",
    "acc = accuracy_score(y_val, y_pred)\n",
    "auc = roc_auc_score(y_val, y_prob)\n",
    "cm  = confusion_matrix(y_val, y_pred)\n",
    "\n",
    "print(f\"Validation Accuracy: {acc:.4f}\")\n",
    "print(f\"Validation ROC-AUC:  {auc:.4f}\")\n",
    "print(\"Confusion matrix:\\n\", cm)\n",
    "print(\"\\nClassification report:\\n\", classification_report(y_val, y_pred))"
   ]
  },
  {
   "cell_type": "markdown",
   "metadata": {
    "id": "6gwhd0eoFju_"
   },
   "source": [
    "Predict on the test set and create submission\n",
    "\n",
    "\t•\tEnsure the test set receives identical preprocessing.\n",
    "\t•\tNote: test has occasional missing values (e.g., Fare) that the pipeline will impute.\n",
    "\t•\twe expects a CSV with two columns: PassengerId, Survived."
   ]
  },
  {
   "cell_type": "code",
   "execution_count": 16,
   "metadata": {
    "colab": {
     "base_uri": "https://localhost:8080/",
     "height": 224
    },
    "executionInfo": {
     "elapsed": 138,
     "status": "ok",
     "timestamp": 1757482815590,
     "user": {
      "displayName": "shijian chen",
      "userId": "07194891437090795913"
     },
     "user_tz": -480
    },
    "id": "JZxT_rLYFmHm",
    "outputId": "0f94fc80-09ab-4f67-fc5f-37a0623af346"
   },
   "outputs": [
    {
     "name": "stdout",
     "output_type": "stream",
     "text": [
      "Saved submission.csv\n"
     ]
    },
    {
     "data": {
      "application/vnd.google.colaboratory.intrinsic+json": {
       "summary": "{\n  \"name\": \"display(submission\",\n  \"rows\": 5,\n  \"fields\": [\n    {\n      \"column\": \"PassengerId\",\n      \"properties\": {\n        \"dtype\": \"number\",\n        \"std\": 1,\n        \"min\": 892,\n        \"max\": 896,\n        \"num_unique_values\": 5,\n        \"samples\": [\n          893,\n          896,\n          894\n        ],\n        \"semantic_type\": \"\",\n        \"description\": \"\"\n      }\n    },\n    {\n      \"column\": \"Survived\",\n      \"properties\": {\n        \"dtype\": \"number\",\n        \"std\": 0,\n        \"min\": 0,\n        \"max\": 1,\n        \"num_unique_values\": 2,\n        \"samples\": [\n          1,\n          0\n        ],\n        \"semantic_type\": \"\",\n        \"description\": \"\"\n      }\n    }\n  ]\n}",
       "type": "dataframe"
      },
      "text/html": [
       "\n",
       "  <div id=\"df-e4bdc13d-246f-4c75-8213-cf8b0499f4e5\" class=\"colab-df-container\">\n",
       "    <div>\n",
       "<style scoped>\n",
       "    .dataframe tbody tr th:only-of-type {\n",
       "        vertical-align: middle;\n",
       "    }\n",
       "\n",
       "    .dataframe tbody tr th {\n",
       "        vertical-align: top;\n",
       "    }\n",
       "\n",
       "    .dataframe thead th {\n",
       "        text-align: right;\n",
       "    }\n",
       "</style>\n",
       "<table border=\"1\" class=\"dataframe\">\n",
       "  <thead>\n",
       "    <tr style=\"text-align: right;\">\n",
       "      <th></th>\n",
       "      <th>PassengerId</th>\n",
       "      <th>Survived</th>\n",
       "    </tr>\n",
       "  </thead>\n",
       "  <tbody>\n",
       "    <tr>\n",
       "      <th>0</th>\n",
       "      <td>892</td>\n",
       "      <td>0</td>\n",
       "    </tr>\n",
       "    <tr>\n",
       "      <th>1</th>\n",
       "      <td>893</td>\n",
       "      <td>0</td>\n",
       "    </tr>\n",
       "    <tr>\n",
       "      <th>2</th>\n",
       "      <td>894</td>\n",
       "      <td>0</td>\n",
       "    </tr>\n",
       "    <tr>\n",
       "      <th>3</th>\n",
       "      <td>895</td>\n",
       "      <td>0</td>\n",
       "    </tr>\n",
       "    <tr>\n",
       "      <th>4</th>\n",
       "      <td>896</td>\n",
       "      <td>1</td>\n",
       "    </tr>\n",
       "  </tbody>\n",
       "</table>\n",
       "</div>\n",
       "    <div class=\"colab-df-buttons\">\n",
       "\n",
       "  <div class=\"colab-df-container\">\n",
       "    <button class=\"colab-df-convert\" onclick=\"convertToInteractive('df-e4bdc13d-246f-4c75-8213-cf8b0499f4e5')\"\n",
       "            title=\"Convert this dataframe to an interactive table.\"\n",
       "            style=\"display:none;\">\n",
       "\n",
       "  <svg xmlns=\"http://www.w3.org/2000/svg\" height=\"24px\" viewBox=\"0 -960 960 960\">\n",
       "    <path d=\"M120-120v-720h720v720H120Zm60-500h600v-160H180v160Zm220 220h160v-160H400v160Zm0 220h160v-160H400v160ZM180-400h160v-160H180v160Zm440 0h160v-160H620v160ZM180-180h160v-160H180v160Zm440 0h160v-160H620v160Z\"/>\n",
       "  </svg>\n",
       "    </button>\n",
       "\n",
       "  <style>\n",
       "    .colab-df-container {\n",
       "      display:flex;\n",
       "      gap: 12px;\n",
       "    }\n",
       "\n",
       "    .colab-df-convert {\n",
       "      background-color: #E8F0FE;\n",
       "      border: none;\n",
       "      border-radius: 50%;\n",
       "      cursor: pointer;\n",
       "      display: none;\n",
       "      fill: #1967D2;\n",
       "      height: 32px;\n",
       "      padding: 0 0 0 0;\n",
       "      width: 32px;\n",
       "    }\n",
       "\n",
       "    .colab-df-convert:hover {\n",
       "      background-color: #E2EBFA;\n",
       "      box-shadow: 0px 1px 2px rgba(60, 64, 67, 0.3), 0px 1px 3px 1px rgba(60, 64, 67, 0.15);\n",
       "      fill: #174EA6;\n",
       "    }\n",
       "\n",
       "    .colab-df-buttons div {\n",
       "      margin-bottom: 4px;\n",
       "    }\n",
       "\n",
       "    [theme=dark] .colab-df-convert {\n",
       "      background-color: #3B4455;\n",
       "      fill: #D2E3FC;\n",
       "    }\n",
       "\n",
       "    [theme=dark] .colab-df-convert:hover {\n",
       "      background-color: #434B5C;\n",
       "      box-shadow: 0px 1px 3px 1px rgba(0, 0, 0, 0.15);\n",
       "      filter: drop-shadow(0px 1px 2px rgba(0, 0, 0, 0.3));\n",
       "      fill: #FFFFFF;\n",
       "    }\n",
       "  </style>\n",
       "\n",
       "    <script>\n",
       "      const buttonEl =\n",
       "        document.querySelector('#df-e4bdc13d-246f-4c75-8213-cf8b0499f4e5 button.colab-df-convert');\n",
       "      buttonEl.style.display =\n",
       "        google.colab.kernel.accessAllowed ? 'block' : 'none';\n",
       "\n",
       "      async function convertToInteractive(key) {\n",
       "        const element = document.querySelector('#df-e4bdc13d-246f-4c75-8213-cf8b0499f4e5');\n",
       "        const dataTable =\n",
       "          await google.colab.kernel.invokeFunction('convertToInteractive',\n",
       "                                                    [key], {});\n",
       "        if (!dataTable) return;\n",
       "\n",
       "        const docLinkHtml = 'Like what you see? Visit the ' +\n",
       "          '<a target=\"_blank\" href=https://colab.research.google.com/notebooks/data_table.ipynb>data table notebook</a>'\n",
       "          + ' to learn more about interactive tables.';\n",
       "        element.innerHTML = '';\n",
       "        dataTable['output_type'] = 'display_data';\n",
       "        await google.colab.output.renderOutput(dataTable, element);\n",
       "        const docLink = document.createElement('div');\n",
       "        docLink.innerHTML = docLinkHtml;\n",
       "        element.appendChild(docLink);\n",
       "      }\n",
       "    </script>\n",
       "  </div>\n",
       "\n",
       "\n",
       "    <div id=\"df-018bef90-9f49-47e6-a2e1-905f2f8dc006\">\n",
       "      <button class=\"colab-df-quickchart\" onclick=\"quickchart('df-018bef90-9f49-47e6-a2e1-905f2f8dc006')\"\n",
       "                title=\"Suggest charts\"\n",
       "                style=\"display:none;\">\n",
       "\n",
       "<svg xmlns=\"http://www.w3.org/2000/svg\" height=\"24px\"viewBox=\"0 0 24 24\"\n",
       "     width=\"24px\">\n",
       "    <g>\n",
       "        <path d=\"M19 3H5c-1.1 0-2 .9-2 2v14c0 1.1.9 2 2 2h14c1.1 0 2-.9 2-2V5c0-1.1-.9-2-2-2zM9 17H7v-7h2v7zm4 0h-2V7h2v10zm4 0h-2v-4h2v4z\"/>\n",
       "    </g>\n",
       "</svg>\n",
       "      </button>\n",
       "\n",
       "<style>\n",
       "  .colab-df-quickchart {\n",
       "      --bg-color: #E8F0FE;\n",
       "      --fill-color: #1967D2;\n",
       "      --hover-bg-color: #E2EBFA;\n",
       "      --hover-fill-color: #174EA6;\n",
       "      --disabled-fill-color: #AAA;\n",
       "      --disabled-bg-color: #DDD;\n",
       "  }\n",
       "\n",
       "  [theme=dark] .colab-df-quickchart {\n",
       "      --bg-color: #3B4455;\n",
       "      --fill-color: #D2E3FC;\n",
       "      --hover-bg-color: #434B5C;\n",
       "      --hover-fill-color: #FFFFFF;\n",
       "      --disabled-bg-color: #3B4455;\n",
       "      --disabled-fill-color: #666;\n",
       "  }\n",
       "\n",
       "  .colab-df-quickchart {\n",
       "    background-color: var(--bg-color);\n",
       "    border: none;\n",
       "    border-radius: 50%;\n",
       "    cursor: pointer;\n",
       "    display: none;\n",
       "    fill: var(--fill-color);\n",
       "    height: 32px;\n",
       "    padding: 0;\n",
       "    width: 32px;\n",
       "  }\n",
       "\n",
       "  .colab-df-quickchart:hover {\n",
       "    background-color: var(--hover-bg-color);\n",
       "    box-shadow: 0 1px 2px rgba(60, 64, 67, 0.3), 0 1px 3px 1px rgba(60, 64, 67, 0.15);\n",
       "    fill: var(--button-hover-fill-color);\n",
       "  }\n",
       "\n",
       "  .colab-df-quickchart-complete:disabled,\n",
       "  .colab-df-quickchart-complete:disabled:hover {\n",
       "    background-color: var(--disabled-bg-color);\n",
       "    fill: var(--disabled-fill-color);\n",
       "    box-shadow: none;\n",
       "  }\n",
       "\n",
       "  .colab-df-spinner {\n",
       "    border: 2px solid var(--fill-color);\n",
       "    border-color: transparent;\n",
       "    border-bottom-color: var(--fill-color);\n",
       "    animation:\n",
       "      spin 1s steps(1) infinite;\n",
       "  }\n",
       "\n",
       "  @keyframes spin {\n",
       "    0% {\n",
       "      border-color: transparent;\n",
       "      border-bottom-color: var(--fill-color);\n",
       "      border-left-color: var(--fill-color);\n",
       "    }\n",
       "    20% {\n",
       "      border-color: transparent;\n",
       "      border-left-color: var(--fill-color);\n",
       "      border-top-color: var(--fill-color);\n",
       "    }\n",
       "    30% {\n",
       "      border-color: transparent;\n",
       "      border-left-color: var(--fill-color);\n",
       "      border-top-color: var(--fill-color);\n",
       "      border-right-color: var(--fill-color);\n",
       "    }\n",
       "    40% {\n",
       "      border-color: transparent;\n",
       "      border-right-color: var(--fill-color);\n",
       "      border-top-color: var(--fill-color);\n",
       "    }\n",
       "    60% {\n",
       "      border-color: transparent;\n",
       "      border-right-color: var(--fill-color);\n",
       "    }\n",
       "    80% {\n",
       "      border-color: transparent;\n",
       "      border-right-color: var(--fill-color);\n",
       "      border-bottom-color: var(--fill-color);\n",
       "    }\n",
       "    90% {\n",
       "      border-color: transparent;\n",
       "      border-bottom-color: var(--fill-color);\n",
       "    }\n",
       "  }\n",
       "</style>\n",
       "\n",
       "      <script>\n",
       "        async function quickchart(key) {\n",
       "          const quickchartButtonEl =\n",
       "            document.querySelector('#' + key + ' button');\n",
       "          quickchartButtonEl.disabled = true;  // To prevent multiple clicks.\n",
       "          quickchartButtonEl.classList.add('colab-df-spinner');\n",
       "          try {\n",
       "            const charts = await google.colab.kernel.invokeFunction(\n",
       "                'suggestCharts', [key], {});\n",
       "          } catch (error) {\n",
       "            console.error('Error during call to suggestCharts:', error);\n",
       "          }\n",
       "          quickchartButtonEl.classList.remove('colab-df-spinner');\n",
       "          quickchartButtonEl.classList.add('colab-df-quickchart-complete');\n",
       "        }\n",
       "        (() => {\n",
       "          let quickchartButtonEl =\n",
       "            document.querySelector('#df-018bef90-9f49-47e6-a2e1-905f2f8dc006 button');\n",
       "          quickchartButtonEl.style.display =\n",
       "            google.colab.kernel.accessAllowed ? 'block' : 'none';\n",
       "        })();\n",
       "      </script>\n",
       "    </div>\n",
       "    </div>\n",
       "  </div>\n"
      ],
      "text/plain": [
       "   PassengerId  Survived\n",
       "0          892         0\n",
       "1          893         0\n",
       "2          894         0\n",
       "3          895         0\n",
       "4          896         1"
      ]
     },
     "metadata": {},
     "output_type": "display_data"
    }
   ],
   "source": [
    "# Make sure the test has the same feature columns\n",
    "X_test = test_df[features].copy()\n",
    "\n",
    "# Predict labels\n",
    "test_pred = clf.predict(X_test)\n",
    "\n",
    "submission = pd.DataFrame({\n",
    "    \"PassengerId\": test_df[\"PassengerId\"],\n",
    "    \"Survived\": test_pred\n",
    "})\n",
    "submission.to_csv(\"/content/drive/MyDrive/DSAI_5102/2_class_20250912Fri/data/result/submission.csv\", index=False)\n",
    "\n",
    "print(\"Saved submission.csv\")\n",
    "display(submission.head())"
   ]
  },
  {
   "cell_type": "markdown",
   "metadata": {
    "id": "Sog2zurqFuL_"
   },
   "source": [
    "Stretch ideas (optional)\n",
    "\n",
    "\t•\tFeature engineering:\n",
    "\t  •\tFamilySize = SibSp + Parch + 1\n",
    "\t  •\tIsAlone = (FamilySize == 1).astype(int)\n",
    "\t  •\tExtract Title from Name (e.g., Mr/Mrs/Miss/Master)\n",
    "\t  •\tBinary indicator: HasCabin = ~Cabin.isna()\n",
    "\n",
    "\t•\tModel comparisons:\n",
    "\t  •\tTry KNeighborsClassifier, DecisionTreeClassifier, or RandomForestClassifier.\n",
    "\n",
    "\t•\tCalibration & curves:\n",
    "\t  •\tPlot ROC curve and Precision-Recall curve using sklearn.metrics.\n",
    "    \n",
    "\t•\tReproducibility:\n",
    "\t  •\tKeep SEED fixed, log versions (np.__version__, pd.__version__, sklearn.__version__).\n",
    "\t  •\tSave your validation predictions to CSV for grading."
   ]
  },
  {
   "cell_type": "markdown",
   "metadata": {
    "id": "WtPe-dv8Jcbl"
   },
   "source": [
    "Submitting to Kaggle\n",
    "\n",
    "Once you have generated your submission.csv file, you can upload it to Kaggle to see your score.\n",
    "\n",
    "https://www.kaggle.com/competitions/titanic/submissions#\n",
    "\n",
    "\t1.\tGo to the Titanic Competition Submission Page.\n",
    "\t2.\tMake sure you are logged in to your Kaggle account.\n",
    "\t3.\tClick on Upload Submission.\n",
    "\t4.\tSelect your submission.csv file and submit it.\n",
    "\t5.\tKaggle will automatically evaluate your predictions against the hidden test labels and give you an Accuracy score on the leaderboard."
   ]
  }
 ],
 "metadata": {
  "colab": {
   "authorship_tag": "ABX9TyNR9xN6K5QNkXF5NGoK13OV",
   "mount_file_id": "1-HjTT3EF6LTN-bfmz5D36Q11TnUoY0c6",
   "provenance": []
  },
  "kernelspec": {
   "display_name": "Python [conda env:base] *",
   "language": "python",
   "name": "conda-base-py"
  },
  "language_info": {
   "codemirror_mode": {
    "name": "ipython",
    "version": 3
   },
   "file_extension": ".py",
   "mimetype": "text/x-python",
   "name": "python",
   "nbconvert_exporter": "python",
   "pygments_lexer": "ipython3",
   "version": "3.12.7"
  }
 },
 "nbformat": 4,
 "nbformat_minor": 4
}
