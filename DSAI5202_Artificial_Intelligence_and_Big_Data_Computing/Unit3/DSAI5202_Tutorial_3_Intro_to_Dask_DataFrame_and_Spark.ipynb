{
  "cells": [
    {
      "cell_type": "markdown",
      "metadata": {
        "id": "uuQ1risHqeuW"
      },
      "source": [
        "## 1. Dask DataFrame"
      ]
    },
    {
      "cell_type": "markdown",
      "metadata": {
        "id": "hu9oBYnxOQMA"
      },
      "source": [
        "Please note that not all Pandas API functions are implemented by Dask. When we need some older functions that may be deprecated but still operational, a warning message will appear. We can simply suppress these warning messages by executing the cell below."
      ]
    },
    {
      "cell_type": "code",
      "execution_count": 1,
      "metadata": {
        "id": "3U-7m654OMVZ"
      },
      "outputs": [],
      "source": [
        "import warnings\n",
        "warnings.filterwarnings('ignore')"
      ]
    },
    {
      "cell_type": "markdown",
      "metadata": {
        "id": "SzV3yJT8Nc9D"
      },
      "source": [
        "#### 1.1 Analyzing and working with datasets"
      ]
    },
    {
      "cell_type": "markdown",
      "metadata": {
        "id": "hnRIMbYSN3zo"
      },
      "source": [
        "In this part of the tutorial, we will utilize the flights data from New York City Airport covering the years 1990 to 1999. The zip file has been uploaded to Blackboard. Please unzip the folder and upload it to Colab or place it in the appropriate location for access.\n"
      ]
    },
    {
      "cell_type": "markdown",
      "metadata": {
        "id": "hGLD3G-LO0yL"
      },
      "source": [
        "\n",
        "Please note that Dask has not yet loaded the data. It has:\n",
        "- Analyzed the input path and identified ten matching files\n",
        "- Created a set of jobs for each chunk, specifically one for each original CSV file in this instance.\n",
        "\n",
        "**The representation of the `DataFrame` object contains no data**\n",
        "- Dask has only read the beginning of the first file to infer the column names and data types.\n",
        "  - The function `dask.dataframe.read_csv` reads only a sample from the start of the file.\n",
        "- We assume that all files will have the same set of column names and data types. These inferred data types are enforced when reading all partitions.\n",
        "\n",
        "In this case, some of the inferred data types from the sample may be incorrect.\n",
        "\n",
        "When this occurs, we can specify the data types directly using the `dtype` keyword."
      ]
    },
    {
      "cell_type": "code",
      "execution_count": 3,
      "metadata": {
        "id": "0mp7S6U_45oo"
      },
      "outputs": [],
      "source": [
        "import dask.dataframe as dd\n",
        "ddf = dd.read_csv('data/*.csv', parse_dates={\"Date\": [0,1,2]}, dtype={'CRSElapsedTime': 'float64',\n",
        "       'TailNum': 'str',  \"Cancelled\": bool})"
      ]
    },
    {
      "cell_type": "markdown",
      "metadata": {
        "id": "lpu7DwFcQgfA"
      },
      "source": [
        "**Lazy Evaluation**\n",
        "\n",
        "Most Dask Collections, including Dask DataFrame, are evaluated lazily. This means that Dask constructs the logic for your computation, known as a task graph immediately but \"evaluates\" them only when necessary."
      ]
    },
    {
      "cell_type": "markdown",
      "metadata": {
        "id": "SozFIeo-PzqO"
      },
      "source": [
        "Certain functions will trigger computation (requesting data), such as `len`, `head`, `tail`, and others.\n",
        "\n",
        "When the `len` function is called, Dask will:\n",
        "- Load the actual data by importing each file into a pandas DataFrame.\n",
        "- Apply the function to each pandas DataFrame.\n",
        "- Combine the subtotals to provide the final count of records."
      ]
    },
    {
      "cell_type": "code",
      "execution_count": 4,
      "metadata": {
        "colab": {
          "base_uri": "https://localhost:8080/",
          "height": 342
        },
        "id": "xVUq7q8qQoz1",
        "outputId": "28fc9f8e-679d-4f56-c767-bbbcb331a2c7"
      },
      "outputs": [
        {
          "data": {
            "text/html": [
              "<div>\n",
              "<style scoped>\n",
              "    .dataframe tbody tr th:only-of-type {\n",
              "        vertical-align: middle;\n",
              "    }\n",
              "\n",
              "    .dataframe tbody tr th {\n",
              "        vertical-align: top;\n",
              "    }\n",
              "\n",
              "    .dataframe thead th {\n",
              "        text-align: right;\n",
              "    }\n",
              "</style>\n",
              "<table border=\"1\" class=\"dataframe\">\n",
              "  <thead>\n",
              "    <tr style=\"text-align: right;\">\n",
              "      <th></th>\n",
              "      <th>Date</th>\n",
              "      <th>DayOfWeek</th>\n",
              "      <th>DepTime</th>\n",
              "      <th>CRSDepTime</th>\n",
              "      <th>ArrTime</th>\n",
              "      <th>CRSArrTime</th>\n",
              "      <th>UniqueCarrier</th>\n",
              "      <th>FlightNum</th>\n",
              "      <th>TailNum</th>\n",
              "      <th>ActualElapsedTime</th>\n",
              "      <th>...</th>\n",
              "      <th>AirTime</th>\n",
              "      <th>ArrDelay</th>\n",
              "      <th>DepDelay</th>\n",
              "      <th>Origin</th>\n",
              "      <th>Dest</th>\n",
              "      <th>Distance</th>\n",
              "      <th>TaxiIn</th>\n",
              "      <th>TaxiOut</th>\n",
              "      <th>Cancelled</th>\n",
              "      <th>Diverted</th>\n",
              "    </tr>\n",
              "  </thead>\n",
              "  <tbody>\n",
              "    <tr>\n",
              "      <th>0</th>\n",
              "      <td>1990-01-01</td>\n",
              "      <td>1</td>\n",
              "      <td>1621.0</td>\n",
              "      <td>1540</td>\n",
              "      <td>1747.0</td>\n",
              "      <td>1701</td>\n",
              "      <td>US</td>\n",
              "      <td>33</td>\n",
              "      <td>&lt;NA&gt;</td>\n",
              "      <td>86.0</td>\n",
              "      <td>...</td>\n",
              "      <td>NaN</td>\n",
              "      <td>46.0</td>\n",
              "      <td>41.0</td>\n",
              "      <td>EWR</td>\n",
              "      <td>PIT</td>\n",
              "      <td>319.0</td>\n",
              "      <td>NaN</td>\n",
              "      <td>NaN</td>\n",
              "      <td>False</td>\n",
              "      <td>0</td>\n",
              "    </tr>\n",
              "    <tr>\n",
              "      <th>1</th>\n",
              "      <td>1990-01-02</td>\n",
              "      <td>2</td>\n",
              "      <td>1547.0</td>\n",
              "      <td>1540</td>\n",
              "      <td>1700.0</td>\n",
              "      <td>1701</td>\n",
              "      <td>US</td>\n",
              "      <td>33</td>\n",
              "      <td>&lt;NA&gt;</td>\n",
              "      <td>73.0</td>\n",
              "      <td>...</td>\n",
              "      <td>NaN</td>\n",
              "      <td>-1.0</td>\n",
              "      <td>7.0</td>\n",
              "      <td>EWR</td>\n",
              "      <td>PIT</td>\n",
              "      <td>319.0</td>\n",
              "      <td>NaN</td>\n",
              "      <td>NaN</td>\n",
              "      <td>False</td>\n",
              "      <td>0</td>\n",
              "    </tr>\n",
              "    <tr>\n",
              "      <th>2</th>\n",
              "      <td>1990-01-03</td>\n",
              "      <td>3</td>\n",
              "      <td>1546.0</td>\n",
              "      <td>1540</td>\n",
              "      <td>1710.0</td>\n",
              "      <td>1701</td>\n",
              "      <td>US</td>\n",
              "      <td>33</td>\n",
              "      <td>&lt;NA&gt;</td>\n",
              "      <td>84.0</td>\n",
              "      <td>...</td>\n",
              "      <td>NaN</td>\n",
              "      <td>9.0</td>\n",
              "      <td>6.0</td>\n",
              "      <td>EWR</td>\n",
              "      <td>PIT</td>\n",
              "      <td>319.0</td>\n",
              "      <td>NaN</td>\n",
              "      <td>NaN</td>\n",
              "      <td>False</td>\n",
              "      <td>0</td>\n",
              "    </tr>\n",
              "    <tr>\n",
              "      <th>3</th>\n",
              "      <td>1990-01-04</td>\n",
              "      <td>4</td>\n",
              "      <td>1542.0</td>\n",
              "      <td>1540</td>\n",
              "      <td>1710.0</td>\n",
              "      <td>1701</td>\n",
              "      <td>US</td>\n",
              "      <td>33</td>\n",
              "      <td>&lt;NA&gt;</td>\n",
              "      <td>88.0</td>\n",
              "      <td>...</td>\n",
              "      <td>NaN</td>\n",
              "      <td>9.0</td>\n",
              "      <td>2.0</td>\n",
              "      <td>EWR</td>\n",
              "      <td>PIT</td>\n",
              "      <td>319.0</td>\n",
              "      <td>NaN</td>\n",
              "      <td>NaN</td>\n",
              "      <td>False</td>\n",
              "      <td>0</td>\n",
              "    </tr>\n",
              "    <tr>\n",
              "      <th>4</th>\n",
              "      <td>1990-01-05</td>\n",
              "      <td>5</td>\n",
              "      <td>1549.0</td>\n",
              "      <td>1540</td>\n",
              "      <td>1706.0</td>\n",
              "      <td>1701</td>\n",
              "      <td>US</td>\n",
              "      <td>33</td>\n",
              "      <td>&lt;NA&gt;</td>\n",
              "      <td>77.0</td>\n",
              "      <td>...</td>\n",
              "      <td>NaN</td>\n",
              "      <td>5.0</td>\n",
              "      <td>9.0</td>\n",
              "      <td>EWR</td>\n",
              "      <td>PIT</td>\n",
              "      <td>319.0</td>\n",
              "      <td>NaN</td>\n",
              "      <td>NaN</td>\n",
              "      <td>False</td>\n",
              "      <td>0</td>\n",
              "    </tr>\n",
              "  </tbody>\n",
              "</table>\n",
              "<p>5 rows × 21 columns</p>\n",
              "</div>"
            ],
            "text/plain": [
              "        Date  DayOfWeek  DepTime  CRSDepTime  ArrTime  CRSArrTime  \\\n",
              "0 1990-01-01          1   1621.0        1540   1747.0        1701   \n",
              "1 1990-01-02          2   1547.0        1540   1700.0        1701   \n",
              "2 1990-01-03          3   1546.0        1540   1710.0        1701   \n",
              "3 1990-01-04          4   1542.0        1540   1710.0        1701   \n",
              "4 1990-01-05          5   1549.0        1540   1706.0        1701   \n",
              "\n",
              "  UniqueCarrier  FlightNum TailNum  ActualElapsedTime  ...  AirTime  ArrDelay  \\\n",
              "0            US         33    <NA>               86.0  ...      NaN      46.0   \n",
              "1            US         33    <NA>               73.0  ...      NaN      -1.0   \n",
              "2            US         33    <NA>               84.0  ...      NaN       9.0   \n",
              "3            US         33    <NA>               88.0  ...      NaN       9.0   \n",
              "4            US         33    <NA>               77.0  ...      NaN       5.0   \n",
              "\n",
              "   DepDelay  Origin Dest Distance  TaxiIn  TaxiOut  Cancelled  Diverted  \n",
              "0      41.0     EWR  PIT    319.0     NaN      NaN      False         0  \n",
              "1       7.0     EWR  PIT    319.0     NaN      NaN      False         0  \n",
              "2       6.0     EWR  PIT    319.0     NaN      NaN      False         0  \n",
              "3       2.0     EWR  PIT    319.0     NaN      NaN      False         0  \n",
              "4       9.0     EWR  PIT    319.0     NaN      NaN      False         0  \n",
              "\n",
              "[5 rows x 21 columns]"
            ]
          },
          "execution_count": 4,
          "metadata": {},
          "output_type": "execute_result"
        }
      ],
      "source": [
        "ddf.head()"
      ]
    },
    {
      "cell_type": "code",
      "execution_count": 5,
      "metadata": {
        "colab": {
          "base_uri": "https://localhost:8080/"
        },
        "id": "2sKLbfdIPrrs",
        "outputId": "2f6ba014-70e7-4893-adc1-206f4ea2268f"
      },
      "outputs": [
        {
          "data": {
            "text/plain": [
              "2611892"
            ]
          },
          "execution_count": 5,
          "metadata": {},
          "output_type": "execute_result"
        }
      ],
      "source": [
        "# Let's load and count the number of rows in the files\n",
        "len(ddf)"
      ]
    },
    {
      "cell_type": "code",
      "execution_count": 6,
      "metadata": {
        "colab": {
          "base_uri": "https://localhost:8080/",
          "height": 342
        },
        "id": "ibkCyMAESsBK",
        "outputId": "d4b1a035-c0e6-48d3-97e7-dd625869802c"
      },
      "outputs": [
        {
          "data": {
            "text/html": [
              "<div>\n",
              "<style scoped>\n",
              "    .dataframe tbody tr th:only-of-type {\n",
              "        vertical-align: middle;\n",
              "    }\n",
              "\n",
              "    .dataframe tbody tr th {\n",
              "        vertical-align: top;\n",
              "    }\n",
              "\n",
              "    .dataframe thead th {\n",
              "        text-align: right;\n",
              "    }\n",
              "</style>\n",
              "<table border=\"1\" class=\"dataframe\">\n",
              "  <thead>\n",
              "    <tr style=\"text-align: right;\">\n",
              "      <th></th>\n",
              "      <th>Date</th>\n",
              "      <th>DayOfWeek</th>\n",
              "      <th>DepTime</th>\n",
              "      <th>CRSDepTime</th>\n",
              "      <th>ArrTime</th>\n",
              "      <th>CRSArrTime</th>\n",
              "      <th>UniqueCarrier</th>\n",
              "      <th>FlightNum</th>\n",
              "      <th>TailNum</th>\n",
              "      <th>ActualElapsedTime</th>\n",
              "      <th>...</th>\n",
              "      <th>AirTime</th>\n",
              "      <th>ArrDelay</th>\n",
              "      <th>DepDelay</th>\n",
              "      <th>Origin</th>\n",
              "      <th>Dest</th>\n",
              "      <th>Distance</th>\n",
              "      <th>TaxiIn</th>\n",
              "      <th>TaxiOut</th>\n",
              "      <th>Cancelled</th>\n",
              "      <th>Diverted</th>\n",
              "    </tr>\n",
              "  </thead>\n",
              "  <tbody>\n",
              "    <tr>\n",
              "      <th>269176</th>\n",
              "      <td>1999-12-27</td>\n",
              "      <td>1</td>\n",
              "      <td>1645.0</td>\n",
              "      <td>1645</td>\n",
              "      <td>1830.0</td>\n",
              "      <td>1901</td>\n",
              "      <td>UA</td>\n",
              "      <td>1753</td>\n",
              "      <td>N516UA</td>\n",
              "      <td>225.0</td>\n",
              "      <td>...</td>\n",
              "      <td>205.0</td>\n",
              "      <td>-31.0</td>\n",
              "      <td>0.0</td>\n",
              "      <td>LGA</td>\n",
              "      <td>DEN</td>\n",
              "      <td>1619.0</td>\n",
              "      <td>7.0</td>\n",
              "      <td>13.0</td>\n",
              "      <td>False</td>\n",
              "      <td>0</td>\n",
              "    </tr>\n",
              "    <tr>\n",
              "      <th>269177</th>\n",
              "      <td>1999-12-28</td>\n",
              "      <td>2</td>\n",
              "      <td>1726.0</td>\n",
              "      <td>1645</td>\n",
              "      <td>1928.0</td>\n",
              "      <td>1901</td>\n",
              "      <td>UA</td>\n",
              "      <td>1753</td>\n",
              "      <td>N504UA</td>\n",
              "      <td>242.0</td>\n",
              "      <td>...</td>\n",
              "      <td>214.0</td>\n",
              "      <td>27.0</td>\n",
              "      <td>41.0</td>\n",
              "      <td>LGA</td>\n",
              "      <td>DEN</td>\n",
              "      <td>1619.0</td>\n",
              "      <td>5.0</td>\n",
              "      <td>23.0</td>\n",
              "      <td>False</td>\n",
              "      <td>0</td>\n",
              "    </tr>\n",
              "    <tr>\n",
              "      <th>269178</th>\n",
              "      <td>1999-12-29</td>\n",
              "      <td>3</td>\n",
              "      <td>1646.0</td>\n",
              "      <td>1645</td>\n",
              "      <td>1846.0</td>\n",
              "      <td>1901</td>\n",
              "      <td>UA</td>\n",
              "      <td>1753</td>\n",
              "      <td>N592UA</td>\n",
              "      <td>240.0</td>\n",
              "      <td>...</td>\n",
              "      <td>220.0</td>\n",
              "      <td>-15.0</td>\n",
              "      <td>1.0</td>\n",
              "      <td>LGA</td>\n",
              "      <td>DEN</td>\n",
              "      <td>1619.0</td>\n",
              "      <td>5.0</td>\n",
              "      <td>15.0</td>\n",
              "      <td>False</td>\n",
              "      <td>0</td>\n",
              "    </tr>\n",
              "    <tr>\n",
              "      <th>269179</th>\n",
              "      <td>1999-12-30</td>\n",
              "      <td>4</td>\n",
              "      <td>1651.0</td>\n",
              "      <td>1645</td>\n",
              "      <td>1908.0</td>\n",
              "      <td>1901</td>\n",
              "      <td>UA</td>\n",
              "      <td>1753</td>\n",
              "      <td>N575UA</td>\n",
              "      <td>257.0</td>\n",
              "      <td>...</td>\n",
              "      <td>233.0</td>\n",
              "      <td>7.0</td>\n",
              "      <td>6.0</td>\n",
              "      <td>LGA</td>\n",
              "      <td>DEN</td>\n",
              "      <td>1619.0</td>\n",
              "      <td>5.0</td>\n",
              "      <td>19.0</td>\n",
              "      <td>False</td>\n",
              "      <td>0</td>\n",
              "    </tr>\n",
              "    <tr>\n",
              "      <th>269180</th>\n",
              "      <td>1999-12-31</td>\n",
              "      <td>5</td>\n",
              "      <td>1642.0</td>\n",
              "      <td>1645</td>\n",
              "      <td>1851.0</td>\n",
              "      <td>1901</td>\n",
              "      <td>UA</td>\n",
              "      <td>1753</td>\n",
              "      <td>N539UA</td>\n",
              "      <td>249.0</td>\n",
              "      <td>...</td>\n",
              "      <td>232.0</td>\n",
              "      <td>-10.0</td>\n",
              "      <td>-3.0</td>\n",
              "      <td>LGA</td>\n",
              "      <td>DEN</td>\n",
              "      <td>1619.0</td>\n",
              "      <td>6.0</td>\n",
              "      <td>11.0</td>\n",
              "      <td>False</td>\n",
              "      <td>0</td>\n",
              "    </tr>\n",
              "  </tbody>\n",
              "</table>\n",
              "<p>5 rows × 21 columns</p>\n",
              "</div>"
            ],
            "text/plain": [
              "             Date  DayOfWeek  DepTime  CRSDepTime  ArrTime  CRSArrTime  \\\n",
              "269176 1999-12-27          1   1645.0        1645   1830.0        1901   \n",
              "269177 1999-12-28          2   1726.0        1645   1928.0        1901   \n",
              "269178 1999-12-29          3   1646.0        1645   1846.0        1901   \n",
              "269179 1999-12-30          4   1651.0        1645   1908.0        1901   \n",
              "269180 1999-12-31          5   1642.0        1645   1851.0        1901   \n",
              "\n",
              "       UniqueCarrier  FlightNum TailNum  ActualElapsedTime  ...  AirTime  \\\n",
              "269176            UA       1753  N516UA              225.0  ...    205.0   \n",
              "269177            UA       1753  N504UA              242.0  ...    214.0   \n",
              "269178            UA       1753  N592UA              240.0  ...    220.0   \n",
              "269179            UA       1753  N575UA              257.0  ...    233.0   \n",
              "269180            UA       1753  N539UA              249.0  ...    232.0   \n",
              "\n",
              "        ArrDelay  DepDelay  Origin Dest Distance  TaxiIn  TaxiOut  Cancelled  \\\n",
              "269176     -31.0       0.0     LGA  DEN   1619.0     7.0     13.0      False   \n",
              "269177      27.0      41.0     LGA  DEN   1619.0     5.0     23.0      False   \n",
              "269178     -15.0       1.0     LGA  DEN   1619.0     5.0     15.0      False   \n",
              "269179       7.0       6.0     LGA  DEN   1619.0     5.0     19.0      False   \n",
              "269180     -10.0      -3.0     LGA  DEN   1619.0     6.0     11.0      False   \n",
              "\n",
              "        Diverted  \n",
              "269176         0  \n",
              "269177         0  \n",
              "269178         0  \n",
              "269179         0  \n",
              "269180         0  \n",
              "\n",
              "[5 rows x 21 columns]"
            ]
          },
          "execution_count": 6,
          "metadata": {},
          "output_type": "execute_result"
        }
      ],
      "source": [
        "ddf.tail()"
      ]
    },
    {
      "cell_type": "markdown",
      "metadata": {
        "id": "A4I_Uf6rQ-1m"
      },
      "source": [
        "#### 1.2 Data Processing with dask.dataframe"
      ]
    },
    {
      "cell_type": "markdown",
      "metadata": {
        "id": "Wr2BzKjGlBKW"
      },
      "source": [
        "First, let's calculate the maximum delay in departure times across all flight records.\n",
        "\n",
        "Using Pandas, we need to iterate through each file to determine the maximum delay for each one. After that, we can compare the maximum delays from all files to compute the final result."
      ]
    },
    {
      "cell_type": "code",
      "execution_count": 15,
      "metadata": {
        "colab": {
          "base_uri": "https://localhost:8080/"
        },
        "id": "0Uuqa5cnl1MS",
        "outputId": "21b6a5d4-77c2-4ae1-e580-846078d10246"
      },
      "outputs": [
        {
          "name": "stdout",
          "output_type": "stream",
          "text": [
            "1435.0\n",
            "CPU times: total: 3.8 s\n",
            "Wall time: 3.89 s\n"
          ]
        }
      ],
      "source": [
        "%%time\n",
        "import os\n",
        "import pandas as pd\n",
        "files = os.listdir('./data')\n",
        "maximum_delays = []\n",
        "for file in files:\n",
        "    if file.endswith('.csv'):\n",
        "      df = pd.read_csv('./data/' + file)\n",
        "      maximum_delays.append(df['DepDelay'].max())\n",
        "result = max(maximum_delays)\n",
        "\n",
        "print(result)"
      ]
    },
    {
      "cell_type": "markdown",
      "metadata": {
        "id": "Wg_uSZiEmZtW"
      },
      "source": [
        "Dask DataFrame allows us to write code similar to Pandas that can process datasets larger than memory in parallel."
      ]
    },
    {
      "cell_type": "code",
      "execution_count": 16,
      "metadata": {
        "colab": {
          "base_uri": "https://localhost:8080/"
        },
        "id": "D1iy3vQtmsDz",
        "outputId": "0f00fd36-f858-44e4-b98f-6a98f4bc88fd"
      },
      "outputs": [
        {
          "name": "stdout",
          "output_type": "stream",
          "text": [
            "CPU times: total: 14.8 s\n",
            "Wall time: 11.1 s\n"
          ]
        },
        {
          "data": {
            "text/plain": [
              "1435.0"
            ]
          },
          "execution_count": 16,
          "metadata": {},
          "output_type": "execute_result"
        }
      ],
      "source": [
        "%%time\n",
        "result = ddf['DepDelay'].max()\n",
        "result.compute()"
      ]
    },
    {
      "cell_type": "markdown",
      "metadata": {
        "id": "01PTMoT4m1j3"
      },
      "source": [
        "Keep in mind that Dask will remove intermediate results as soon as possible. This allows us to work with datasets larger than memory.\n",
        "\n",
        "However, repeated computations will require loading all the data each time.\n",
        "\n",
        "Let's compare the running times for both versions."
      ]
    },
    {
      "cell_type": "markdown",
      "metadata": {
        "id": "MDrbDFdcnhpR"
      },
      "source": [
        "In this section, let's explore data processing using `dask.dataframe`.\n",
        "\n",
        "If you're familiar with Pandas, this should feel quite similar.\n",
        "\n",
        "You'll need to consider when it's appropriate to call `compute()`."
      ]
    },
    {
      "cell_type": "code",
      "execution_count": null,
      "metadata": {
        "colab": {
          "base_uri": "https://localhost:8080/"
        },
        "id": "IwFeV9Erxxo3",
        "outputId": "ab581953-4ead-41d1-a87f-5ee37971dc01"
      },
      "outputs": [
        {
          "data": {
            "text/plain": [
              "2540961"
            ]
          },
          "execution_count": 17,
          "metadata": {},
          "output_type": "execute_result"
        }
      ],
      "source": [
        "#TODO 1: Investigate how many flights were taken that were not canceled."
      ]
    },
    {
      "cell_type": "code",
      "execution_count": null,
      "metadata": {
        "colab": {
          "base_uri": "https://localhost:8080/",
          "height": 210
        },
        "id": "hinfOwOKyksD",
        "outputId": "2c319276-9808-4ba0-a076-209b0ec9fd63"
      },
      "outputs": [
        {
          "data": {
            "text/html": [
              "<div>\n",
              "<style scoped>\n",
              "    .dataframe tbody tr th:only-of-type {\n",
              "        vertical-align: middle;\n",
              "    }\n",
              "\n",
              "    .dataframe tbody tr th {\n",
              "        vertical-align: top;\n",
              "    }\n",
              "\n",
              "    .dataframe thead th {\n",
              "        text-align: right;\n",
              "    }\n",
              "</style>\n",
              "<table border=\"1\" class=\"dataframe\">\n",
              "  <thead>\n",
              "    <tr style=\"text-align: right;\">\n",
              "      <th></th>\n",
              "      <th>Origin</th>\n",
              "    </tr>\n",
              "    <tr>\n",
              "      <th>Origin</th>\n",
              "      <th></th>\n",
              "    </tr>\n",
              "  </thead>\n",
              "  <tbody>\n",
              "    <tr>\n",
              "      <th>EWR</th>\n",
              "      <td>1139451</td>\n",
              "    </tr>\n",
              "    <tr>\n",
              "      <th>JFK</th>\n",
              "      <td>427243</td>\n",
              "    </tr>\n",
              "    <tr>\n",
              "      <th>LGA</th>\n",
              "      <td>974267</td>\n",
              "    </tr>\n",
              "  </tbody>\n",
              "</table>\n",
              "</div><br><label><b>dtype:</b> int64</label>"
            ],
            "text/plain": [
              "Origin\n",
              "EWR    1139451\n",
              "JFK     427243\n",
              "LGA     974267\n",
              "Name: Origin, dtype: int64"
            ]
          },
          "execution_count": 18,
          "metadata": {},
          "output_type": "execute_result"
        }
      ],
      "source": [
        "#TODO 2: Show the count of non-canceled flights originating from each airport."
      ]
    },
    {
      "cell_type": "code",
      "execution_count": null,
      "metadata": {
        "colab": {
          "base_uri": "https://localhost:8080/",
          "height": 210
        },
        "id": "SmcgWggLyvEZ",
        "outputId": "275a5899-652a-4205-b4f7-79e1bcc550d8"
      },
      "outputs": [
        {
          "data": {
            "text/html": [
              "<div>\n",
              "<style scoped>\n",
              "    .dataframe tbody tr th:only-of-type {\n",
              "        vertical-align: middle;\n",
              "    }\n",
              "\n",
              "    .dataframe tbody tr th {\n",
              "        vertical-align: top;\n",
              "    }\n",
              "\n",
              "    .dataframe thead th {\n",
              "        text-align: right;\n",
              "    }\n",
              "</style>\n",
              "<table border=\"1\" class=\"dataframe\">\n",
              "  <thead>\n",
              "    <tr style=\"text-align: right;\">\n",
              "      <th></th>\n",
              "      <th>DepDelay</th>\n",
              "    </tr>\n",
              "    <tr>\n",
              "      <th>Origin</th>\n",
              "      <th></th>\n",
              "    </tr>\n",
              "  </thead>\n",
              "  <tbody>\n",
              "    <tr>\n",
              "      <th>EWR</th>\n",
              "      <td>10.295469</td>\n",
              "    </tr>\n",
              "    <tr>\n",
              "      <th>JFK</th>\n",
              "      <td>10.351299</td>\n",
              "    </tr>\n",
              "    <tr>\n",
              "      <th>LGA</th>\n",
              "      <td>7.431142</td>\n",
              "    </tr>\n",
              "  </tbody>\n",
              "</table>\n",
              "</div><br><label><b>dtype:</b> float64</label>"
            ],
            "text/plain": [
              "Origin\n",
              "EWR    10.295469\n",
              "JFK    10.351299\n",
              "LGA     7.431142\n",
              "Name: DepDelay, dtype: float64"
            ]
          },
          "execution_count": 16,
          "metadata": {},
          "output_type": "execute_result"
        }
      ],
      "source": [
        "#TODO 3: Calculate the average departure delay for each airport."
      ]
    },
    {
      "cell_type": "code",
      "execution_count": null,
      "metadata": {
        "colab": {
          "base_uri": "https://localhost:8080/"
        },
        "id": "VS__VwUTy-d-",
        "outputId": "c8fed48d-818a-4fcd-e2c1-fc23d2c4cc19"
      },
      "outputs": [
        {
          "data": {
            "text/plain": [
              "np.int64(5)"
            ]
          },
          "execution_count": 19,
          "metadata": {},
          "output_type": "execute_result"
        }
      ],
      "source": [
        "#TODO 4: Determine which day of the week experiences the highest average departure delay."
      ]
    },
    {
      "cell_type": "code",
      "execution_count": null,
      "metadata": {
        "colab": {
          "base_uri": "https://localhost:8080/",
          "height": 458
        },
        "id": "kW7FrNFpzlfJ",
        "outputId": "65f072f8-9480-4844-f394-3f3b3b338707"
      },
      "outputs": [
        {
          "data": {
            "text/html": [
              "<div>\n",
              "<style scoped>\n",
              "    .dataframe tbody tr th:only-of-type {\n",
              "        vertical-align: middle;\n",
              "    }\n",
              "\n",
              "    .dataframe tbody tr th {\n",
              "        vertical-align: top;\n",
              "    }\n",
              "\n",
              "    .dataframe thead th {\n",
              "        text-align: right;\n",
              "    }\n",
              "</style>\n",
              "<table border=\"1\" class=\"dataframe\">\n",
              "  <thead>\n",
              "    <tr style=\"text-align: right;\">\n",
              "      <th></th>\n",
              "      <th>Distance</th>\n",
              "    </tr>\n",
              "  </thead>\n",
              "  <tbody>\n",
              "    <tr>\n",
              "      <th>0</th>\n",
              "      <td>329.0</td>\n",
              "    </tr>\n",
              "    <tr>\n",
              "      <th>1</th>\n",
              "      <td>329.0</td>\n",
              "    </tr>\n",
              "    <tr>\n",
              "      <th>2</th>\n",
              "      <td>329.0</td>\n",
              "    </tr>\n",
              "    <tr>\n",
              "      <th>3</th>\n",
              "      <td>329.0</td>\n",
              "    </tr>\n",
              "    <tr>\n",
              "      <th>4</th>\n",
              "      <td>329.0</td>\n",
              "    </tr>\n",
              "    <tr>\n",
              "      <th>...</th>\n",
              "      <td>...</td>\n",
              "    </tr>\n",
              "    <tr>\n",
              "      <th>269176</th>\n",
              "      <td>1629.0</td>\n",
              "    </tr>\n",
              "    <tr>\n",
              "      <th>269177</th>\n",
              "      <td>1629.0</td>\n",
              "    </tr>\n",
              "    <tr>\n",
              "      <th>269178</th>\n",
              "      <td>1629.0</td>\n",
              "    </tr>\n",
              "    <tr>\n",
              "      <th>269179</th>\n",
              "      <td>1629.0</td>\n",
              "    </tr>\n",
              "    <tr>\n",
              "      <th>269180</th>\n",
              "      <td>1629.0</td>\n",
              "    </tr>\n",
              "  </tbody>\n",
              "</table>\n",
              "<p>2611892 rows × 1 columns</p>\n",
              "</div><br><label><b>dtype:</b> float64</label>"
            ],
            "text/plain": [
              "0          329.0\n",
              "1          329.0\n",
              "2          329.0\n",
              "3          329.0\n",
              "4          329.0\n",
              "           ...  \n",
              "269176    1629.0\n",
              "269177    1629.0\n",
              "269178    1629.0\n",
              "269179    1629.0\n",
              "269180    1629.0\n",
              "Name: Distance, Length: 2611892, dtype: float64"
            ]
          },
          "execution_count": 19,
          "metadata": {},
          "output_type": "execute_result"
        }
      ],
      "source": [
        "#TODO 5: Given that the distance column is problematic,\n",
        "#        how can we add 10 to each value in that column?"
      ]
    },
    {
      "cell_type": "markdown",
      "metadata": {
        "id": "50IJfYkrAVNa"
      },
      "source": [
        "#### 1.3 Sharing Intermediate Results"
      ]
    },
    {
      "cell_type": "markdown",
      "metadata": {
        "id": "WRFTpagoA_dy"
      },
      "source": [
        "In certain scenarios, we may need to perform the same operation multiple times. For most operations, `dask.dataframe` stores the arguments, enabling shared execution of duplicate computations, which means they only run once.\n",
        "\n",
        "For instance, let’s calculate the mean and standard deviation of departure delays for all non-canceled flights.\n",
        "\n",
        "Since Dask operations are executed lazily, these values are not final results; they merely represent the steps needed to obtain the outcome.\n",
        "\n",
        "If you invoke two compute calls, the intermediate computations will not be shared."
      ]
    },
    {
      "cell_type": "code",
      "execution_count": 17,
      "metadata": {
        "id": "_btTLxNgA_Rj"
      },
      "outputs": [],
      "source": [
        "#  compute with two calls to compute\n",
        "\n",
        "non_cancelled_flights = ddf[~ddf['Cancelled']]\n",
        "mean_delay = non_cancelled_flights['DepDelay'].mean()\n",
        "std_delay = non_cancelled_flights['DepDelay'].std()"
      ]
    },
    {
      "cell_type": "code",
      "execution_count": 18,
      "metadata": {
        "colab": {
          "base_uri": "https://localhost:8080/"
        },
        "id": "pBEm0UEaAZP4",
        "outputId": "ee7a99a1-80d3-4478-b7d7-acc007b16b9a"
      },
      "outputs": [
        {
          "name": "stdout",
          "output_type": "stream",
          "text": [
            "CPU times: total: 30 s\n",
            "Wall time: 22.2 s\n"
          ]
        }
      ],
      "source": [
        "%%time\n",
        "mean_delay_result = mean_delay.compute()\n",
        "std_delay_result = std_delay.compute()"
      ]
    },
    {
      "cell_type": "markdown",
      "metadata": {
        "id": "-Zh6SAPGCYbd"
      },
      "source": [
        "Let's try to using single compute call both functions"
      ]
    },
    {
      "cell_type": "code",
      "execution_count": 19,
      "metadata": {
        "colab": {
          "base_uri": "https://localhost:8080/"
        },
        "id": "ihJvwbVLCdEo",
        "outputId": "5f31fa23-d245-46c5-f6ca-b3a6fbe89a20"
      },
      "outputs": [
        {
          "name": "stdout",
          "output_type": "stream",
          "text": [
            "CPU times: total: 17 s\n",
            "Wall time: 12.8 s\n"
          ]
        }
      ],
      "source": [
        "%%time\n",
        "import dask\n",
        "mean_delay_result, std_delay_result = dask.compute(mean_delay, std_delay)"
      ]
    },
    {
      "cell_type": "markdown",
      "metadata": {
        "id": "_jLZTawEC-Co"
      },
      "source": [
        "If you are using Jupyter Notebook on your own computer, you can utilize the dask.visualize function to analyze the merged task graphs from multiple results and identify common elements. However, it appears that Colab does not permit us to visualize this computation."
      ]
    },
    {
      "cell_type": "code",
      "execution_count": 20,
      "metadata": {
        "id": "Bc_lZpUQC0ZU"
      },
      "outputs": [
        {
          "data": {
            "image/png": "[encoded data removed]",
            "text/plain": [
              "<IPython.core.display.Image object>"
            ]
          },
          "execution_count": 20,
          "metadata": {},
          "output_type": "execute_result"
        }
      ],
      "source": [
        "# dask.visualize(mean_delay, std_delay)\n",
        "mean_delay\n",
        "std_delay\n",
        "dask.visualize(mean_delay, std_delay)"
      ]
    },
    {
      "cell_type": "markdown",
      "metadata": {
        "id": "UBVbR3UVDumn"
      },
      "source": [
        "#### 1.4 persist function: store the result in cache"
      ]
    },
    {
      "cell_type": "markdown",
      "metadata": {
        "id": "LCoO-9K9EfeX"
      },
      "source": [
        "With a distributed scheduler, frequently accessed data can be stored in distributed memory.  \n",
        "\n",
        "The `persist()` function produces outputs and organizes them in the same structure as your results. You can apply `persist()` to any data or computation that fits within memory.  \n",
        "\n",
        "To analyze data on non-canceled flights departing from JFK airport, you can use two compute calls, as shown in the earlier section."
      ]
    },
    {
      "cell_type": "code",
      "execution_count": 21,
      "metadata": {
        "id": "uPTBs-eZDh6l"
      },
      "outputs": [],
      "source": [
        "non_cancelled_flights = ddf[~ddf['Cancelled']]\n",
        "ddf_jfk = non_cancelled_flights[non_cancelled_flights['Origin'] == \"JFK\"]"
      ]
    },
    {
      "cell_type": "code",
      "execution_count": 22,
      "metadata": {
        "colab": {
          "base_uri": "https://localhost:8080/"
        },
        "id": "BBMscVSpFpMt",
        "outputId": "c61f4fa9-1904-45c0-db59-3e4e71205d55"
      },
      "outputs": [
        {
          "name": "stdout",
          "output_type": "stream",
          "text": [
            "CPU times: total: 30.3 s\n",
            "Wall time: 22.4 s\n"
          ]
        },
        {
          "data": {
            "text/plain": [
              "np.float64(31.242509798271147)"
            ]
          },
          "execution_count": 22,
          "metadata": {},
          "output_type": "execute_result"
        }
      ],
      "source": [
        "%%time\n",
        "ddf_jfk.DepDelay.mean().compute()\n",
        "ddf_jfk.DepDelay.std().compute()"
      ]
    },
    {
      "cell_type": "markdown",
      "metadata": {
        "id": "aX9c-FFmF4BM"
      },
      "source": [
        "Now, we consider persisting the subset of data in the memory"
      ]
    },
    {
      "cell_type": "code",
      "execution_count": 23,
      "metadata": {
        "id": "bIEKVYV_F0cO"
      },
      "outputs": [],
      "source": [
        "ddf_jfk = ddf_jfk.persist()"
      ]
    },
    {
      "cell_type": "code",
      "execution_count": 24,
      "metadata": {
        "colab": {
          "base_uri": "https://localhost:8080/"
        },
        "id": "dWvpGDtiGFI5",
        "outputId": "28b53902-c0f7-4c02-d848-8147c5dff412"
      },
      "outputs": [
        {
          "name": "stdout",
          "output_type": "stream",
          "text": [
            "CPU times: total: 46.9 ms\n",
            "Wall time: 45.1 ms\n"
          ]
        },
        {
          "data": {
            "text/plain": [
              "np.float64(31.242509798271147)"
            ]
          },
          "execution_count": 24,
          "metadata": {},
          "output_type": "execute_result"
        }
      ],
      "source": [
        "%%time\n",
        "ddf_jfk.DepDelay.mean().compute()\n",
        "ddf_jfk.DepDelay.std().compute()"
      ]
    },
    {
      "cell_type": "markdown",
      "metadata": {
        "id": "39URbUZDGXdW"
      },
      "source": [
        "Persisted data is faster because we avoid repeating the loading and selection operations for non-canceled flights departing from JFK."
      ]
    },
    {
      "cell_type": "markdown",
      "metadata": {
        "id": "qaizFzqhNOG8"
      },
      "source": [
        "## 2. Spark Setup"
      ]
    },
    {
      "cell_type": "markdown",
      "metadata": {
        "id": "xBs_JYE2gppg"
      },
      "source": [
        "Install Required Library"
      ]
    },
    {
      "cell_type": "markdown",
      "metadata": {
        "id": "44AS8AApXka4"
      },
      "source": [
        "Everytime you use the Python engine provided by Google Cloud, you need to install all the libraries to run the code."
      ]
    },
    {
      "cell_type": "code",
      "execution_count": null,
      "metadata": {
        "colab": {
          "base_uri": "https://localhost:8080/"
        },
        "id": "EA6UR3NtXhcu",
        "outputId": "ce7a1740-f6a4-488e-80ac-22249e9e446e"
      },
      "outputs": [],
      "source": [
        "!pip install pyspark"
      ]
    },
    {
      "cell_type": "markdown",
      "metadata": {
        "id": "-NmkbcrxYHKk"
      },
      "source": [
        "#### 2.1 Create SparkContext and SparkSession"
      ]
    },
    {
      "cell_type": "markdown",
      "metadata": {
        "id": "qNhVfZPNX29f"
      },
      "source": [
        "Before examining examples, let's first set up the SparkSession and SparkContext using the builder pattern method specified in the SparkSession class. During this initialization, we must specify the master and application name as demonstrated below."
      ]
    },
    {
      "cell_type": "code",
      "execution_count": null,
      "metadata": {
        "id": "KIZfl6KKXz6m"
      },
      "outputs": [],
      "source": [
        "from pyspark.sql import SparkSession\n",
        "\n",
        "ss  = SparkSession.builder \\\n",
        "                            .master(\"local[1]\")\\\n",
        "                            .appName(\"SparkByExamples.com\")\\\n",
        "                            .getOrCreate()\n",
        "spark = ss.sparkContext"
      ]
    },
    {
      "cell_type": "markdown",
      "metadata": {
        "id": "0i5Yvzs4YLEh"
      },
      "source": [
        "1. SparkSession.builder:    \n",
        "This initiates the process of creating a SparkSession.\n",
        "\n",
        "2. `.master(\"local[1]\")`:        \n",
        "Sets the master name for the Spark application.\n",
        "\"local[1]\" means that Spark will run locally with one thread. This is useful for development and testing purposes, allowing you to run Spark on your local machine without needing a cluster.\n",
        "\n",
        "    - Use `local[x]` when running in Standalone mode (i.e., local machine). `x` should be an integer value and should be greater than 0; this represents how many partitions it should create when using RDD, DataFrame, and Dataset. Ideally, `x` value should be the number of CPU cores you have.\n",
        "\n",
        "3. `.appName(\"SparkByExamples.com\")`:     \n",
        "Assigns a name to the Spark application.\n",
        "\"SparkByExamples.com\" is just an example name; you can choose any name that helps identify your application.\n",
        "\n",
        "4. `.getOrCreate()`:     \n",
        "Either retrieves an existing SparkSession or creates a new one if none exists.\n",
        "It ensures that you **don't accidentally create multiple sessions**, which can lead to resource management issues.\n",
        "\n",
        "5. `spark = ss.sparkContext`:      \n",
        "Retrieves the SparkContext from the SparkSession.\n",
        "The SparkContext is the primary entry point for Spark functionality and is responsible for coordinating the execution of tasks across the cluster (or in this case, locally)."
      ]
    },
    {
      "cell_type": "markdown",
      "metadata": {
        "id": "kD_RX9XJoEnn"
      },
      "source": [
        "#### 2.2 SparkContext"
      ]
    },
    {
      "cell_type": "markdown",
      "metadata": {
        "id": "hdAM43t8n-M0"
      },
      "source": [
        "SparkContext is a main entry point for Spark functionality. A SparkContext represents the connection to a Spark cluster, and can be used to create RDDs, accumlators and broadcast variables on that cluster.\n",
        "\n",
        "Here, we will try to get the setting in the current SparkContext."
      ]
    },
    {
      "cell_type": "code",
      "execution_count": null,
      "metadata": {
        "colab": {
          "base_uri": "https://localhost:8080/"
        },
        "id": "A-DwfuftX12u",
        "outputId": "8781d05c-3ae1-4760-a6ce-2915c87aa070"
      },
      "outputs": [
        {
          "data": {
            "text/plain": [
              "[('spark.app.name', 'SparkByExamples.com'),\n",
              " ('spark.app.id', 'local-1757651882592'),\n",
              " ('spark.driver.extraJavaOptions',\n",
              "  '-Djava.net.preferIPv6Addresses=false -XX:+IgnoreUnrecognizedVMOptions --add-opens=java.base/java.lang=ALL-UNNAMED --add-opens=java.base/java.lang.invoke=ALL-UNNAMED --add-opens=java.base/java.lang.reflect=ALL-UNNAMED --add-opens=java.base/java.io=ALL-UNNAMED --add-opens=java.base/java.net=ALL-UNNAMED --add-opens=java.base/java.nio=ALL-UNNAMED --add-opens=java.base/java.util=ALL-UNNAMED --add-opens=java.base/java.util.concurrent=ALL-UNNAMED --add-opens=java.base/java.util.concurrent.atomic=ALL-UNNAMED --add-opens=java.base/jdk.internal.ref=ALL-UNNAMED --add-opens=java.base/sun.nio.ch=ALL-UNNAMED --add-opens=java.base/sun.nio.cs=ALL-UNNAMED --add-opens=java.base/sun.security.action=ALL-UNNAMED --add-opens=java.base/sun.util.calendar=ALL-UNNAMED --add-opens=java.security.jgss/sun.security.krb5=ALL-UNNAMED -Djdk.reflect.useDirectMethodHandle=false'),\n",
              " ('spark.executor.id', 'driver'),\n",
              " ('spark.driver.host', 'fbe2f35686e8'),\n",
              " ('spark.rdd.compress', 'True'),\n",
              " ('spark.executor.extraJavaOptions',\n",
              "  '-Djava.net.preferIPv6Addresses=false -XX:+IgnoreUnrecognizedVMOptions --add-opens=java.base/java.lang=ALL-UNNAMED --add-opens=java.base/java.lang.invoke=ALL-UNNAMED --add-opens=java.base/java.lang.reflect=ALL-UNNAMED --add-opens=java.base/java.io=ALL-UNNAMED --add-opens=java.base/java.net=ALL-UNNAMED --add-opens=java.base/java.nio=ALL-UNNAMED --add-opens=java.base/java.util=ALL-UNNAMED --add-opens=java.base/java.util.concurrent=ALL-UNNAMED --add-opens=java.base/java.util.concurrent.atomic=ALL-UNNAMED --add-opens=java.base/jdk.internal.ref=ALL-UNNAMED --add-opens=java.base/sun.nio.ch=ALL-UNNAMED --add-opens=java.base/sun.nio.cs=ALL-UNNAMED --add-opens=java.base/sun.security.action=ALL-UNNAMED --add-opens=java.base/sun.util.calendar=ALL-UNNAMED --add-opens=java.security.jgss/sun.security.krb5=ALL-UNNAMED -Djdk.reflect.useDirectMethodHandle=false'),\n",
              " ('spark.app.submitTime', '1757651880276'),\n",
              " ('spark.serializer.objectStreamReset', '100'),\n",
              " ('spark.submit.pyFiles', ''),\n",
              " ('spark.submit.deployMode', 'client'),\n",
              " ('spark.ui.showConsoleProgress', 'true'),\n",
              " ('spark.master', 'local[1]'),\n",
              " ('spark.app.startTime', '1757651880487'),\n",
              " ('spark.driver.port', '45675')]"
            ]
          },
          "execution_count": 4,
          "metadata": {},
          "output_type": "execute_result"
        }
      ],
      "source": [
        "spark.getConf().getAll()"
      ]
    },
    {
      "cell_type": "markdown",
      "metadata": {
        "id": "CQBHe4igoQzE"
      },
      "source": [
        "When running operations on Pyspark, there will be many log giving the information of different ops. We can adjust the log level to control the information displayed. By default, the log level is warn in Pyspark. The log level in Pyspark is:\n",
        "\n",
        "\n",
        "|  Log Levels   | Meanings  |\n",
        "|  ----  | ----  |\n",
        "| DEBUG  | The DEBUG Level designates fine-grained infomration events that are most useful to debug an application |\n",
        "| INFO  | The INFO level designates infomrational messages that highlights the progresss of the application at coarse-grained level. |\n",
        "| WARN  | The WARN level designates potentially harmful situations. |\n",
        "| ERROR  | The ERROR level designates error events that might still allow the application to continue running. |\n",
        "| TRACE  | The TRACE Level designates finer-grained informational events than the DEBUG. |\n",
        "| FATAL  | The FATAL Level designates very severe error events that will presumably lead the application to abort. |\n",
        "| ALL  | The ALL Level has the lowest possible rank and is intended to turn on all logging. |\n",
        "| OFF  | The OFF Level has the highest possible rank and is intended to turn off logging. |"
      ]
    },
    {
      "cell_type": "markdown",
      "metadata": {
        "id": "ZQZcKSIJseQf"
      },
      "source": [
        "If you can run the following code, that means the Pyspark is running. Let's run a simple program to do a letter count."
      ]
    },
    {
      "cell_type": "code",
      "execution_count": null,
      "metadata": {
        "colab": {
          "base_uri": "https://localhost:8080/"
        },
        "id": "rhHC-KXhoRY9",
        "outputId": "1c835a07-91d0-472c-9e3a-4a07e9bde521"
      },
      "outputs": [
        {
          "name": "stdout",
          "output_type": "stream",
          "text": [
            "l: 3\n",
            "o: 2\n",
            "H: 1\n",
            "e: 1\n",
            " : 1\n",
            "W: 1\n",
            "r: 1\n",
            "d: 1\n"
          ]
        }
      ],
      "source": [
        "from pyspark import SparkContext\n",
        "from operator import add\n",
        "\n",
        "data = spark.parallelize(list(\"Hello World\"))\n",
        "data.collect()\n",
        "counts = data.map(lambda x:\n",
        "\t(x, 1)).reduceByKey(add).sortBy(lambda x: x[1],\n",
        "\t ascending=False).collect()\n",
        "\n",
        "for (word, count) in counts:\n",
        "    print(\"{}: {}\".format(word, count))"
      ]
    },
    {
      "cell_type": "markdown",
      "metadata": {
        "id": "6q3a8axYU24f"
      },
      "source": [
        "Find all k-mers with count greater than 1 that are palindromes."
      ]
    },
    {
      "cell_type": "markdown",
      "metadata": {
        "id": "XmBPRRnKgVW3"
      },
      "source": [
        "## 3: Spark Programming Examples"
      ]
    },
    {
      "cell_type": "markdown",
      "metadata": {
        "id": "OBbQAX6Zalvd"
      },
      "source": [
        "### 3.1 Create RDD\n",
        "`pyspark.SparkContext` creates a client which connects to a Spark cluster. This client can be used to create an RDD object. There are two methods from this class for directly creating RDD objects:\n",
        "* `parallelize()`\n",
        "* `textFile()`"
      ]
    },
    {
      "cell_type": "markdown",
      "metadata": {
        "id": "IFBizn7haxue"
      },
      "source": [
        "### 3.1.1 `parallelize()` distribute a local **python collection** to form an RDD. Common built-in python collections include `dist`, `list`, `tuple` or `set`."
      ]
    },
    {
      "cell_type": "markdown",
      "metadata": {
        "id": "ULVh8foxa1pA"
      },
      "source": [
        "**Important**: Use `collect()` to get back the value in RDD"
      ]
    },
    {
      "cell_type": "code",
      "execution_count": null,
      "metadata": {
        "colab": {
          "base_uri": "https://localhost:8080/"
        },
        "id": "Y1WmbGb6a3et",
        "outputId": "13968340-64a4-47bd-aaee-92370348a8dd"
      },
      "outputs": [
        {
          "data": {
            "text/plain": [
              "ParallelCollectionRDD[6] at readRDDFromFile at PythonRDD.scala:289"
            ]
          },
          "execution_count": 6,
          "metadata": {},
          "output_type": "execute_result"
        }
      ],
      "source": [
        "# from a list\n",
        "rdd_data = spark.parallelize([1,2,3])\n",
        "rdd_data"
      ]
    },
    {
      "cell_type": "code",
      "execution_count": null,
      "metadata": {
        "colab": {
          "base_uri": "https://localhost:8080/"
        },
        "id": "_WBe5OSva7P_",
        "outputId": "a3fefed3-22ea-491c-9463-4de9d8d84c16"
      },
      "outputs": [
        {
          "data": {
            "text/plain": [
              "[1, 2, 3]"
            ]
          },
          "execution_count": 7,
          "metadata": {},
          "output_type": "execute_result"
        }
      ],
      "source": [
        "rdd_data.collect()"
      ]
    },
    {
      "cell_type": "code",
      "execution_count": null,
      "metadata": {
        "colab": {
          "base_uri": "https://localhost:8080/"
        },
        "id": "VHZsJ3MVa9ZX",
        "outputId": "d2085f33-c453-4110-db04-517517941760"
      },
      "outputs": [
        {
          "data": {
            "text/plain": [
              "['cat', 'dog', 'fish']"
            ]
          },
          "execution_count": 8,
          "metadata": {},
          "output_type": "execute_result"
        }
      ],
      "source": [
        "# from a tuple\n",
        "rdd_data = spark.parallelize(('cat', 'dog', 'fish'))\n",
        "rdd_data.collect()"
      ]
    },
    {
      "cell_type": "code",
      "execution_count": null,
      "metadata": {
        "colab": {
          "base_uri": "https://localhost:8080/"
        },
        "id": "GjrntoUua_JJ",
        "outputId": "aa63536c-5aa8-4a76-9f3c-4a88aa56e6d5"
      },
      "outputs": [
        {
          "data": {
            "text/plain": [
              "[('cat', 'dog', 'fish'), ('orange', 'apple')]"
            ]
          },
          "execution_count": 9,
          "metadata": {},
          "output_type": "execute_result"
        }
      ],
      "source": [
        "# from a list of tuple\n",
        "list_t = [('cat', 'dog', 'fish'), ('orange', 'apple')]\n",
        "rdd_data = spark.parallelize(list_t)\n",
        "rdd_data.collect()"
      ]
    },
    {
      "cell_type": "code",
      "execution_count": null,
      "metadata": {
        "colab": {
          "base_uri": "https://localhost:8080/"
        },
        "id": "YRGbp4babBtS",
        "outputId": "dc6a4ff6-a25e-40cd-c739-6e7fed51d64a"
      },
      "outputs": [
        {
          "data": {
            "text/plain": [
              "['cat', 'fish', 'dog']"
            ]
          },
          "execution_count": 10,
          "metadata": {},
          "output_type": "execute_result"
        }
      ],
      "source": [
        "# from a set\n",
        "s = {'cat', 'dog', 'fish', 'cat', 'dog', 'dog'}\n",
        "rdd_data = spark.parallelize(s)\n",
        "rdd_data.collect()"
      ]
    },
    {
      "cell_type": "markdown",
      "metadata": {
        "id": "QuIZGaKXbGGg"
      },
      "source": [
        "### 3.1.2 `textfile()` convert a txt file to RDD object."
      ]
    },
    {
      "cell_type": "code",
      "execution_count": null,
      "metadata": {
        "colab": {
          "base_uri": "https://localhost:8080/"
        },
        "id": "NcwrwqLwbP7M",
        "outputId": "6688b0c0-9fea-4b07-8357-abbf955d9aed"
      },
      "outputs": [
        {
          "data": {
            "text/plain": [
              "['I am Ken, studying in Computer Science.',\n",
              " 'Billy is studying in Data Science.']"
            ]
          },
          "execution_count": 12,
          "metadata": {},
          "output_type": "execute_result"
        }
      ],
      "source": [
        "textFile = spark.textFile(\"wordCount.txt\")\n",
        "textFile.collect()"
      ]
    },
    {
      "cell_type": "markdown",
      "metadata": {
        "id": "GiJ_Rw9VbtRx"
      },
      "source": [
        "### 3.2 RDD transformation (Single RDD)."
      ]
    },
    {
      "cell_type": "markdown",
      "metadata": {
        "id": "T-ge0zAfb_3_"
      },
      "source": [
        "RDD transformation is a list of **operations** that apply on the source RDD and construct a new RDD"
      ]
    },
    {
      "cell_type": "markdown",
      "metadata": {
        "id": "sPTp5Q0Gah__"
      },
      "source": [
        "#### 3.2.1 `Map()`\n",
        "\n",
        "`map()` returns a new RDD formed by passing each element of the source RDD throguh a function"
      ]
    },
    {
      "cell_type": "code",
      "execution_count": null,
      "metadata": {
        "colab": {
          "base_uri": "https://localhost:8080/"
        },
        "id": "uyMlrEA6cNAO",
        "outputId": "d59f08fb-4338-4fe5-bb38-b77fbba4df66"
      },
      "outputs": [
        {
          "data": {
            "text/plain": [
              "[2, 3, 4]"
            ]
          },
          "execution_count": 13,
          "metadata": {},
          "output_type": "execute_result"
        }
      ],
      "source": [
        "# define a function\n",
        "def addOne(x):\n",
        "    return x+1\n",
        "\n",
        "rdd_data = spark.parallelize([1,2,3])\n",
        "results = rdd_data.map(addOne)\n",
        "results.collect()"
      ]
    },
    {
      "cell_type": "markdown",
      "metadata": {
        "id": "6YrFU3uVcYtL"
      },
      "source": [
        "Use `map()` to perform map transformation, add one to each element in RDD, and use `collect()` to get the results"
      ]
    },
    {
      "cell_type": "markdown",
      "metadata": {
        "id": "fLuVVjOycdnm"
      },
      "source": [
        "Instead of function, you can use a closure instead"
      ]
    },
    {
      "cell_type": "code",
      "execution_count": null,
      "metadata": {
        "colab": {
          "base_uri": "https://localhost:8080/"
        },
        "id": "0dAwx5LXcUGT",
        "outputId": "0f25afa2-f5be-4295-fba0-38da0b1e1cc3"
      },
      "outputs": [
        {
          "data": {
            "text/plain": [
              "[2, 3, 4]"
            ]
          },
          "execution_count": 14,
          "metadata": {},
          "output_type": "execute_result"
        }
      ],
      "source": [
        "results1 = rdd_data.map(lambda x: x+1)\n",
        "results1.collect()"
      ]
    },
    {
      "cell_type": "markdown",
      "metadata": {
        "id": "XtmPQXgzchyN"
      },
      "source": [
        "``map()`` can also apply on **String** datatype"
      ]
    },
    {
      "cell_type": "code",
      "execution_count": null,
      "metadata": {
        "colab": {
          "base_uri": "https://localhost:8080/"
        },
        "id": "8URUgze9cfFj",
        "outputId": "fc5f7a62-2e6c-4528-f129-c93eea521121"
      },
      "outputs": [
        {
          "data": {
            "text/plain": [
              "['object: cat',\n",
              " 'object: dog',\n",
              " 'object: fish',\n",
              " 'object: orange',\n",
              " 'object: apple']"
            ]
          },
          "execution_count": 15,
          "metadata": {},
          "output_type": "execute_result"
        }
      ],
      "source": [
        "list_t1 = ['cat', 'dog', 'fish', 'orange', 'apple']\n",
        "rdd_data1 = spark.parallelize(list_t1)\n",
        "\n",
        "results2 = rdd_data1.map(lambda x: 'object: '+ x)\n",
        "results2.collect()"
      ]
    },
    {
      "cell_type": "markdown",
      "metadata": {
        "id": "DFFHbZJwcrTU"
      },
      "source": [
        "``map()`` can also apply to create **(String, Int)** Pair"
      ]
    },
    {
      "cell_type": "code",
      "execution_count": null,
      "metadata": {
        "colab": {
          "base_uri": "https://localhost:8080/"
        },
        "id": "nhuGNl2gckPN",
        "outputId": "95c517ed-38e5-41d0-cfb8-1ac739459518"
      },
      "outputs": [
        {
          "data": {
            "text/plain": [
              "[('cat', 1), ('cat', 1), ('dog', 1), ('fish', 1), ('orange', 1), ('apple', 1)]"
            ]
          },
          "execution_count": 16,
          "metadata": {},
          "output_type": "execute_result"
        }
      ],
      "source": [
        "list_t1 = ['cat', 'cat', 'dog', 'fish', 'orange', 'apple']\n",
        "rdd_data1 = spark.parallelize(list_t1)\n",
        "\n",
        "results2 = rdd_data1.map(lambda x: (x, 1))\n",
        "results2.collect()"
      ]
    },
    {
      "cell_type": "markdown",
      "metadata": {
        "id": "GYgkFwWCc14l"
      },
      "source": [
        "#### 3.2.2 `filter()`\n",
        "``filter()`` returns a new dataset formed by selecting those elements of the source on which function return **True**."
      ]
    },
    {
      "cell_type": "code",
      "execution_count": null,
      "metadata": {
        "colab": {
          "base_uri": "https://localhost:8080/"
        },
        "id": "XuutjxNocs0j",
        "outputId": "cbe7343d-f511-4559-dd5e-65f887bbc69f"
      },
      "outputs": [
        {
          "data": {
            "text/plain": [
              "[3, 5, 5]"
            ]
          },
          "execution_count": 17,
          "metadata": {},
          "output_type": "execute_result"
        }
      ],
      "source": [
        "rdd_data2 = spark.parallelize([3,1,2,5,5])\n",
        "result3 = rdd_data2.filter(lambda x: x > 2)\n",
        "result3.collect()"
      ]
    },
    {
      "cell_type": "markdown",
      "metadata": {
        "id": "_LeZsUU3dCO2"
      },
      "source": [
        "Let's try filter with **multiple** condition"
      ]
    },
    {
      "cell_type": "code",
      "execution_count": null,
      "metadata": {
        "colab": {
          "base_uri": "https://localhost:8080/"
        },
        "id": "lMJGuZaac705",
        "outputId": "13e43cf4-fa9e-4862-e979-b937b20aed66"
      },
      "outputs": [
        {
          "data": {
            "text/plain": [
              "[6]"
            ]
          },
          "execution_count": 18,
          "metadata": {},
          "output_type": "execute_result"
        }
      ],
      "source": [
        "rdd_data2 = spark.parallelize([3,1,2,6,5])\n",
        "result3 = rdd_data2.filter(lambda x: (x > 2) & (x % 2 ==0)) # larger than 2 and divisible by 2\n",
        "result3.collect()"
      ]
    },
    {
      "cell_type": "markdown",
      "metadata": {
        "id": "0tv8qq5-dGUU"
      },
      "source": [
        "#### 3.2.3 `distinct()`\n",
        "``Distinct()`` is used to filter out repetitive items"
      ]
    },
    {
      "cell_type": "code",
      "execution_count": null,
      "metadata": {
        "colab": {
          "base_uri": "https://localhost:8080/"
        },
        "id": "nsLuKD6ic-tu",
        "outputId": "e2fb77a1-3e7e-482e-a0d8-33b9fe892e02"
      },
      "outputs": [
        {
          "data": {
            "text/plain": [
              "[3, 1, 2, 5]"
            ]
          },
          "execution_count": 19,
          "metadata": {},
          "output_type": "execute_result"
        }
      ],
      "source": [
        "rdd_data2 = spark.parallelize([3,1,2,5,5,5])\n",
        "result4 = rdd_data2.distinct()\n",
        "result4.collect()"
      ]
    },
    {
      "cell_type": "markdown",
      "metadata": {
        "id": "3BD2nYK5dfDZ"
      },
      "source": [
        "Similar to example above, just this time we use **string** instead of **integer**"
      ]
    },
    {
      "cell_type": "code",
      "execution_count": null,
      "metadata": {
        "colab": {
          "base_uri": "https://localhost:8080/"
        },
        "id": "q6ms4nucdbyO",
        "outputId": "b90cd4af-e55d-47c7-8843-4e55fe81bba6"
      },
      "outputs": [
        {
          "data": {
            "text/plain": [
              "['cat', 'dog', 'fish', 'orange', 'apple']"
            ]
          },
          "execution_count": 20,
          "metadata": {},
          "output_type": "execute_result"
        }
      ],
      "source": [
        "rdd_data2 = spark.parallelize(['cat', 'cat', 'dog', 'fish', 'orange', 'apple'])\n",
        "result5 = rdd_data2.distinct()\n",
        "result5.collect()"
      ]
    },
    {
      "cell_type": "markdown",
      "metadata": {
        "id": "-jzxzGTRdlK2"
      },
      "source": [
        "#### 3.2.4 ``RandomSplit()``"
      ]
    },
    {
      "cell_type": "markdown",
      "metadata": {
        "id": "-BMmJBubdphH"
      },
      "source": [
        "Split the RDD into 60/40"
      ]
    },
    {
      "cell_type": "code",
      "execution_count": null,
      "metadata": {
        "colab": {
          "base_uri": "https://localhost:8080/"
        },
        "id": "EMD71SCydeR7",
        "outputId": "c12e569f-17e5-4ecf-e74f-003ed44f2008"
      },
      "outputs": [
        {
          "name": "stdout",
          "output_type": "stream",
          "text": [
            "full data: [0, 1, 2, 3, 4, 5, 6, 7, 8, 9]\n",
            "first half: [0, 1, 3, 5, 6, 9]\n",
            "second half: [2, 4, 7, 8]\n"
          ]
        }
      ],
      "source": [
        "rdd_data3 = spark.parallelize(range(10), 1) # create a list of 1 to 10\n",
        "print('full data: %s'% rdd_data3.collect())\n",
        "\n",
        "res = rdd_data3.randomSplit([0.6, 0.4])  # here, you will have two segment return\n",
        "\n",
        "## obtain the first segment\n",
        "print('first half: %s'% res[0].collect())\n",
        "\n",
        "## obtain the second segment\n",
        "print('second half: %s'% res[1].collect())"
      ]
    },
    {
      "cell_type": "markdown",
      "metadata": {
        "id": "uHLiMgUBdzd7"
      },
      "source": [
        "Often, you need to split the dataset in a way that you can reproduce the result. Then you will pre-define a seed so that each time the splitting pattern is identical. You can re-run example above to see if spliting results in each trial is the same."
      ]
    },
    {
      "cell_type": "code",
      "execution_count": null,
      "metadata": {
        "colab": {
          "base_uri": "https://localhost:8080/"
        },
        "id": "Hnhc1fB7dq1i",
        "outputId": "5e26341a-728e-409f-f5a5-bdf6f5f71317"
      },
      "outputs": [
        {
          "name": "stdout",
          "output_type": "stream",
          "text": [
            "first half: [0, 2, 5, 6, 7, 8, 9]\n",
            "second half: [1, 3, 4]\n"
          ]
        }
      ],
      "source": [
        "rdd_data3 = spark.parallelize(range(10), 1)\n",
        "res = rdd_data3.randomSplit([0.6, 0.4], seed=1234)  # here, give a fix seed to ensure every time splitting is same\n",
        "\n",
        "## obtain the first segment\n",
        "print('first half: %s'% res[0].collect())\n",
        "\n",
        "## obtain the second segment\n",
        "print('second half: %s'% res[1].collect())"
      ]
    },
    {
      "cell_type": "markdown",
      "metadata": {
        "id": "Sh6ZQRGoebKv"
      },
      "source": [
        "#### 3.2.5 ``GroupBy()``\n",
        "Return an RDD of grouped items based on a pre-defined **condition**"
      ]
    },
    {
      "cell_type": "code",
      "execution_count": null,
      "metadata": {
        "colab": {
          "base_uri": "https://localhost:8080/"
        },
        "id": "jYgU2dQ1eC1-",
        "outputId": "57b38700-2a9a-43fc-8088-02d47f2047a6"
      },
      "outputs": [
        {
          "name": "stdout",
          "output_type": "stream",
          "text": [
            "[(1, [1, 1, 3, 5]), (0, [2, 8])]\n"
          ]
        }
      ],
      "source": [
        "#Grouped by even number\n",
        "rdd_data4 = spark.parallelize([1, 1, 2, 3, 5, 8])\n",
        "result = rdd_data4.groupBy(lambda x: x % 2)  # groupby number divisible by 2\n",
        "\n",
        "# groupBy will return a key-value pair\n",
        "res = result.collect()\n",
        "\n",
        "# to view it, we need to convert the value to list\n",
        "print([(x, list(y)) for (x, y) in res])"
      ]
    },
    {
      "cell_type": "markdown",
      "metadata": {
        "id": "oRvotxLWes7I"
      },
      "source": [
        "#### 3.2.6 ``flatMap()``"
      ]
    },
    {
      "cell_type": "markdown",
      "metadata": {
        "id": "y83OPDt3evvt"
      },
      "source": [
        "Sometimes we want to produce multiple output elements for each input elements. The operation to do this is called\n",
        "``flatMap()``."
      ]
    },
    {
      "cell_type": "markdown",
      "metadata": {
        "id": "UOovQlX-fNwa"
      },
      "source": [
        "For example, we can apply a ``split()`` function on each phrase in the RDD to split them by space"
      ]
    },
    {
      "cell_type": "code",
      "execution_count": null,
      "metadata": {
        "colab": {
          "base_uri": "https://localhost:8080/"
        },
        "id": "W7UsYh0ffIjV",
        "outputId": "8dab49c7-6e3c-4aa8-a9e9-fda9f31f2a2a"
      },
      "outputs": [
        {
          "data": {
            "text/plain": [
              "['hello', 'world', 'hi', 'dog', 'fish', 'orange', 'apple']"
            ]
          },
          "execution_count": 24,
          "metadata": {},
          "output_type": "execute_result"
        }
      ],
      "source": [
        "rdd_data7 = spark.parallelize(['hello world', 'hi', 'dog', 'fish', 'orange', 'apple'])\n",
        "result7 = rdd_data7.flatMap(lambda x: x.split(' ')) # split each phrase by space\n",
        "result7.collect()"
      ]
    },
    {
      "cell_type": "markdown",
      "metadata": {
        "id": "3Foqda77fQDi"
      },
      "source": [
        "``flatMap()`` vs ``map()``       \n",
        "``map()`` will not **flatten** the results. Hence, 3 input will have 3 output.        \n",
        "In contrast, ``flatMap()`` flatten the output, so 3 input will have 1 output."
      ]
    },
    {
      "cell_type": "code",
      "execution_count": null,
      "metadata": {
        "colab": {
          "base_uri": "https://localhost:8080/"
        },
        "id": "n5iEJ649eoLt",
        "outputId": "a26a0b12-a2c4-4fdc-f0d5-3a3a04bfc393"
      },
      "outputs": [
        {
          "name": "stdout",
          "output_type": "stream",
          "text": [
            "Flatmap(): ['hello', 'world', 'hi', 'dog', 'fish', 'orange', 'apple']\n",
            "map(): [['hello', 'world'], ['hi'], ['dog'], ['fish'], ['orange'], ['apple']]\n"
          ]
        }
      ],
      "source": [
        "rdd_data7 = spark.parallelize(['hello world', 'hi', 'dog', 'fish', 'orange', 'apple'])\n",
        "result7 = rdd_data7.flatMap(lambda x: x.split(' ')) # split each phrase by space\n",
        "print(\"Flatmap(): %s\" % result7.collect())\n",
        "\n",
        "result8 = rdd_data7.map(lambda x: x.split(' '))\n",
        "print(\"map(): %s\" % result8.collect())"
      ]
    },
    {
      "cell_type": "markdown",
      "metadata": {
        "id": "mKCWohFpfbaK"
      },
      "source": [
        "### 3.3 RDD Transformation (Multiple RDD)\n",
        "Here, we introduce transformation operators that apply on multiple RDD (e.g., union, intersection)"
      ]
    },
    {
      "cell_type": "markdown",
      "metadata": {
        "id": "FOtjF2Wjg0r1"
      },
      "source": [
        "#### 3.3.1 ``union()``\n",
        "Return the combination of all input RDD"
      ]
    },
    {
      "cell_type": "code",
      "execution_count": null,
      "metadata": {
        "colab": {
          "base_uri": "https://localhost:8080/"
        },
        "id": "Z6voyri3g7bL",
        "outputId": "fcc48e53-6b35-416f-a845-6f6f4e88ae85"
      },
      "outputs": [
        {
          "data": {
            "text/plain": [
              "[1, 1, 2, 3, 4, 5, 6, 7, 21, 22, 23, 25]"
            ]
          },
          "execution_count": 26,
          "metadata": {},
          "output_type": "execute_result"
        }
      ],
      "source": [
        "rddData1 = spark.parallelize([1, 1, 2, 3])\n",
        "rddData2 = spark.parallelize([4, 5, 6, 7])\n",
        "rddData3 = spark.parallelize([21, 22, 23, 25])\n",
        "rddData1.union(rddData2).union(rddData3).collect()"
      ]
    },
    {
      "cell_type": "markdown",
      "metadata": {
        "id": "tN_e30LChAah"
      },
      "source": [
        "#### 3.3.2 ``intersection()``\n",
        "Return the **overlap** of all input RDD. For example, {1,2,3} interaction {3,4,5} = {3}"
      ]
    },
    {
      "cell_type": "code",
      "execution_count": null,
      "metadata": {
        "colab": {
          "base_uri": "https://localhost:8080/"
        },
        "id": "MDP1_E3XhGY6",
        "outputId": "4f78f8a9-cc18-4d2d-89cd-4c495231693f"
      },
      "outputs": [
        {
          "data": {
            "text/plain": [
              "[3]"
            ]
          },
          "execution_count": 27,
          "metadata": {},
          "output_type": "execute_result"
        }
      ],
      "source": [
        "rddData1 = spark.parallelize([1, 1, 2, 3])\n",
        "rddData2 = spark.parallelize([3, 4, 5, 7])\n",
        "rddData1.intersection(rddData2).collect()"
      ]
    },
    {
      "cell_type": "markdown",
      "metadata": {
        "id": "FzIR7gQ-hhkv"
      },
      "source": [
        "#### 3.3.3 ``subtract()``\n",
        "Return each value in self that is not contained in other. For example {1,2,3} subtract {3,4,5} = {1,2}"
      ]
    },
    {
      "cell_type": "code",
      "execution_count": null,
      "metadata": {
        "colab": {
          "base_uri": "https://localhost:8080/"
        },
        "id": "LQrwIkQshIYp",
        "outputId": "568ad203-eadf-4a8d-d6c2-7b346da099f5"
      },
      "outputs": [
        {
          "data": {
            "text/plain": [
              "[1, 1, 2]"
            ]
          },
          "execution_count": 28,
          "metadata": {},
          "output_type": "execute_result"
        }
      ],
      "source": [
        "rddData1 = spark.parallelize([1, 1, 2, 3])\n",
        "rddData2 = spark.parallelize([3, 4, 5, 7])\n",
        "sorted(rddData1.subtract(rddData2).collect())"
      ]
    },
    {
      "cell_type": "markdown",
      "metadata": {
        "id": "W5pguh9zhPM6"
      },
      "source": [
        "#### 3.3.4 ``cartesian()``\n",
        "Return the Cartesian product of this RDD and another one.\n",
        "For example, {1,2,3} cartesian {3,4,5} = {{1,3}, {1,4}...{3,5}}"
      ]
    },
    {
      "cell_type": "code",
      "execution_count": null,
      "metadata": {
        "colab": {
          "base_uri": "https://localhost:8080/"
        },
        "id": "K24O5zmQhLOk",
        "outputId": "41549f22-2fdf-43ad-87b2-c6a876f4f780"
      },
      "outputs": [
        {
          "data": {
            "text/plain": [
              "[(1, 3),\n",
              " (1, 4),\n",
              " (1, 5),\n",
              " (1, 7),\n",
              " (1, 3),\n",
              " (1, 4),\n",
              " (1, 5),\n",
              " (1, 7),\n",
              " (2, 3),\n",
              " (2, 4),\n",
              " (2, 5),\n",
              " (2, 7),\n",
              " (3, 3),\n",
              " (3, 4),\n",
              " (3, 5),\n",
              " (3, 7)]"
            ]
          },
          "execution_count": 29,
          "metadata": {},
          "output_type": "execute_result"
        }
      ],
      "source": [
        "rddData1 = spark.parallelize([1, 1, 2, 3])\n",
        "rddData2 = spark.parallelize([3, 4, 5, 7])\n",
        "rddData1.cartesian(rddData2).collect()"
      ]
    },
    {
      "cell_type": "markdown",
      "metadata": {
        "id": "_5tu_iZWfuIS"
      },
      "source": [
        "### 3.4 RDD Actions"
      ]
    },
    {
      "cell_type": "markdown",
      "metadata": {
        "id": "KhQEkG6rh8h7"
      },
      "source": [
        "#### 3.4.1 ``first()``\n",
        "Return the first element in the RDD"
      ]
    },
    {
      "cell_type": "code",
      "execution_count": null,
      "metadata": {
        "colab": {
          "base_uri": "https://localhost:8080/"
        },
        "id": "_5AEk0PAkJiv",
        "outputId": "1bf56a0c-a125-4d91-831e-3f9b5ed558bd"
      },
      "outputs": [
        {
          "data": {
            "text/plain": [
              "21"
            ]
          },
          "execution_count": 30,
          "metadata": {},
          "output_type": "execute_result"
        }
      ],
      "source": [
        "rddData1 = spark.parallelize([21, 1, 2, 3])\n",
        "rddData1.first()"
      ]
    },
    {
      "cell_type": "markdown",
      "metadata": {
        "id": "pGAqysBUkfiY"
      },
      "source": [
        "#### 3.4.2 ``take()``\n",
        "Get the first N elements in the RDD"
      ]
    },
    {
      "cell_type": "code",
      "execution_count": null,
      "metadata": {
        "colab": {
          "base_uri": "https://localhost:8080/"
        },
        "id": "OcnLRneJkJX0",
        "outputId": "5a49cfa8-4b3d-4514-de1d-140c430fbc20"
      },
      "outputs": [
        {
          "data": {
            "text/plain": [
              "[21, 1]"
            ]
          },
          "execution_count": 31,
          "metadata": {},
          "output_type": "execute_result"
        }
      ],
      "source": [
        "rddData1 = spark.parallelize([21, 1, 2, 3])\n",
        "rddData1.take(2)"
      ]
    },
    {
      "cell_type": "markdown",
      "metadata": {
        "id": "JwcMTV3pkkIy"
      },
      "source": [
        "#### 3.4.2 ``takeOrdered()``\n",
        "Get the N elements from an RDD ordered in ascending order or as specified by the optional key function"
      ]
    },
    {
      "cell_type": "code",
      "execution_count": null,
      "metadata": {
        "colab": {
          "base_uri": "https://localhost:8080/"
        },
        "id": "JBMKvl71kSpq",
        "outputId": "27efaed0-54fc-45cb-c584-5918091f5929"
      },
      "outputs": [
        {
          "data": {
            "text/plain": [
              "[1, 2, 3, 4, 5, 6]"
            ]
          },
          "execution_count": 32,
          "metadata": {},
          "output_type": "execute_result"
        }
      ],
      "source": [
        "#You can take the first N item in ascending order\n",
        "spark.parallelize([10, 1, 2, 9, 3, 4, 5, 6, 7]).takeOrdered(6)"
      ]
    },
    {
      "cell_type": "code",
      "execution_count": null,
      "metadata": {
        "colab": {
          "base_uri": "https://localhost:8080/"
        },
        "id": "88X2P0eHkV7v",
        "outputId": "06aae1d1-7b6a-4f81-db5e-0941e91cbf4f"
      },
      "outputs": [
        {
          "data": {
            "text/plain": [
              "[10, 9, 7, 6, 5, 4]"
            ]
          },
          "execution_count": 33,
          "metadata": {},
          "output_type": "execute_result"
        }
      ],
      "source": [
        "#You can take the first N item in **decending** order\n",
        "spark.parallelize([10, 1, 2, 9, 3, 4, 5, 6, 7]).takeOrdered(6, lambda x: -1*x)"
      ]
    },
    {
      "cell_type": "markdown",
      "metadata": {
        "id": "-wo4s14vfy9J"
      },
      "source": [
        "### 3.5 Basic Statistics in RDD\n",
        "Here, we will learn few RDD operators for getting the statistics in RDD\n",
        "- `min()` - get the minimum value in the RDD\n",
        "- `max()` - get the maximum value in the RDD\n",
        "- `stdev()` - compute the standard derivation of the RDD\n",
        "- `count()` - Find the number of element in the RDD\n",
        "- `sum()` - Find the sum of elements in the RDD\n",
        "- `mean()` - Find the average of elements in the RDD"
      ]
    },
    {
      "cell_type": "code",
      "execution_count": null,
      "metadata": {
        "colab": {
          "base_uri": "https://localhost:8080/"
        },
        "id": "q35vpBX5k3_e",
        "outputId": "c7ce2173-2472-4fdd-f930-d2431b0c435e"
      },
      "outputs": [
        {
          "data": {
            "text/plain": [
              "1"
            ]
          },
          "execution_count": 34,
          "metadata": {},
          "output_type": "execute_result"
        }
      ],
      "source": [
        "spark.parallelize([10, 1, 2, 9, 3, 4, 5, 6, 7]).min()"
      ]
    },
    {
      "cell_type": "code",
      "execution_count": null,
      "metadata": {
        "colab": {
          "base_uri": "https://localhost:8080/"
        },
        "id": "BYeHGb9Y3V0J",
        "outputId": "4c681fd8-5870-4158-b5e9-ccca11a95ae7"
      },
      "outputs": [
        {
          "data": {
            "text/plain": [
              "10"
            ]
          },
          "execution_count": 35,
          "metadata": {},
          "output_type": "execute_result"
        }
      ],
      "source": [
        "spark.parallelize([10, 1, 2, 9, 3, 4, 5, 6, 7]).max()"
      ]
    },
    {
      "cell_type": "code",
      "execution_count": null,
      "metadata": {
        "colab": {
          "base_uri": "https://localhost:8080/"
        },
        "id": "n9UuH8K73YIc",
        "outputId": "f4b4757a-29a8-4d23-8493-13cf86156f36"
      },
      "outputs": [
        {
          "data": {
            "text/plain": [
              "np.float64(2.897423291201177)"
            ]
          },
          "execution_count": 36,
          "metadata": {},
          "output_type": "execute_result"
        }
      ],
      "source": [
        "spark.parallelize([10, 1, 2, 9, 3, 4, 5, 6, 7]).stdev()"
      ]
    },
    {
      "cell_type": "code",
      "execution_count": null,
      "metadata": {
        "colab": {
          "base_uri": "https://localhost:8080/"
        },
        "id": "LEygXcHS3ar4",
        "outputId": "eaa63203-e7cf-4fe4-c20e-10ade396622d"
      },
      "outputs": [
        {
          "data": {
            "text/plain": [
              "3"
            ]
          },
          "execution_count": 37,
          "metadata": {},
          "output_type": "execute_result"
        }
      ],
      "source": [
        "spark.parallelize([2, 3, 4]).count()"
      ]
    },
    {
      "cell_type": "code",
      "execution_count": null,
      "metadata": {
        "colab": {
          "base_uri": "https://localhost:8080/"
        },
        "id": "XbenpN_S3c_i",
        "outputId": "7d1a1a2d-3201-4e7f-adfe-905fcdca57d6"
      },
      "outputs": [
        {
          "data": {
            "text/plain": [
              "10"
            ]
          },
          "execution_count": 38,
          "metadata": {},
          "output_type": "execute_result"
        }
      ],
      "source": [
        "spark.parallelize([1, 2, 3, 4]).sum()"
      ]
    },
    {
      "cell_type": "code",
      "execution_count": null,
      "metadata": {
        "colab": {
          "base_uri": "https://localhost:8080/"
        },
        "id": "ZgtpZGFH3gDa",
        "outputId": "306e32ac-bc80-4570-afb4-1b531f1a578a"
      },
      "outputs": [
        {
          "data": {
            "text/plain": [
              "2.5"
            ]
          },
          "execution_count": 39,
          "metadata": {},
          "output_type": "execute_result"
        }
      ],
      "source": [
        "spark.parallelize([1, 2, 3, 4]).mean()"
      ]
    },
    {
      "cell_type": "markdown",
      "metadata": {
        "id": "G4itjCa3f4Hw"
      },
      "source": [
        "### 3.6 Single *key-value* pair transformations"
      ]
    },
    {
      "cell_type": "markdown",
      "metadata": {
        "id": "xwt1HFpv4F1h"
      },
      "source": [
        "Key-value pair RDD is a specific type of RDD, in which the data will be stored in *key-value* format.\n",
        "The *key* serves as a unique ID for retrieving the values in the RDD."
      ]
    },
    {
      "cell_type": "code",
      "execution_count": null,
      "metadata": {
        "colab": {
          "base_uri": "https://localhost:8080/"
        },
        "id": "C1crlvG54Num",
        "outputId": "a98dd4f8-2836-4c66-8139-addcfb104723"
      },
      "outputs": [
        {
          "data": {
            "text/plain": [
              "[3, 3, 5, 1]"
            ]
          },
          "execution_count": 40,
          "metadata": {},
          "output_type": "execute_result"
        }
      ],
      "source": [
        "# get all keys\n",
        "kvRDD = spark.parallelize([(3,4), (3,6), (5,6), (1,2)])\n",
        "kvRDD.keys().collect()"
      ]
    },
    {
      "cell_type": "code",
      "execution_count": null,
      "metadata": {
        "colab": {
          "base_uri": "https://localhost:8080/"
        },
        "id": "icfhHRH94QiJ",
        "outputId": "217bb9a8-de82-415d-8c7a-5cea44f9f14d"
      },
      "outputs": [
        {
          "data": {
            "text/plain": [
              "[4, 6, 6, 2]"
            ]
          },
          "execution_count": 41,
          "metadata": {},
          "output_type": "execute_result"
        }
      ],
      "source": [
        "# get all values\n",
        "kvRDD = spark.parallelize([(3,4), (3,6), (5,6), (1,2)])\n",
        "kvRDD.values().collect()"
      ]
    },
    {
      "cell_type": "code",
      "execution_count": null,
      "metadata": {
        "colab": {
          "base_uri": "https://localhost:8080/"
        },
        "id": "u6Ae8aF-4TH7",
        "outputId": "a53a8dcb-63ba-4012-a648-a82ab1c578ca"
      },
      "outputs": [
        {
          "data": {
            "text/plain": [
              "[(3, 4), (3, 6), (1, 2)]"
            ]
          },
          "execution_count": 42,
          "metadata": {},
          "output_type": "execute_result"
        }
      ],
      "source": [
        "# filter by keys\n",
        "kvRDD = spark.parallelize([(3,4), (3,6), (5,6), (1,2)])\n",
        "kvRDD.filter(lambda kv: kv[0] < 5).collect()  #kv[0] = key"
      ]
    },
    {
      "cell_type": "code",
      "execution_count": null,
      "metadata": {
        "colab": {
          "base_uri": "https://localhost:8080/"
        },
        "id": "cfd15j9F4a0T",
        "outputId": "24ea59e1-6d9d-4b2c-f11e-248fb24e964b"
      },
      "outputs": [
        {
          "data": {
            "text/plain": [
              "[(3, 4), (1, 2)]"
            ]
          },
          "execution_count": 43,
          "metadata": {},
          "output_type": "execute_result"
        }
      ],
      "source": [
        "# filter by values\n",
        "kvRDD = spark.parallelize([(3,4), (3,6), (5,6), (1,2)])\n",
        "kvRDD.filter(lambda kv: kv[1] < 5).collect()  #kv[1] = value"
      ]
    },
    {
      "cell_type": "code",
      "execution_count": null,
      "metadata": {
        "colab": {
          "base_uri": "https://localhost:8080/"
        },
        "id": "_C-B8HbC4e5g",
        "outputId": "fe4264da-e4f2-4b6a-ccab-20a7808bca63"
      },
      "outputs": [
        {
          "data": {
            "text/plain": [
              "[(1, 2), (3, 4), (3, 1), (5, 6)]"
            ]
          },
          "execution_count": 44,
          "metadata": {},
          "output_type": "execute_result"
        }
      ],
      "source": [
        "# sort by keys\n",
        "kvRDD = spark.parallelize([(3,4), (3,1), (5,6), (1,2)])\n",
        "kvRDD.sortBy(lambda kv: kv[0], ascending=True).collect()"
      ]
    },
    {
      "cell_type": "code",
      "execution_count": null,
      "metadata": {
        "colab": {
          "base_uri": "https://localhost:8080/"
        },
        "id": "7weNbwal4jIE",
        "outputId": "a1482883-d3a6-4ae2-a946-174909c4ace1"
      },
      "outputs": [
        {
          "data": {
            "text/plain": [
              "[(3, 1), (1, 2), (3, 4), (5, 6)]"
            ]
          },
          "execution_count": 45,
          "metadata": {},
          "output_type": "execute_result"
        }
      ],
      "source": [
        "# sort by values\n",
        "kvRDD = spark.parallelize([(3,4), (3,1), (5,6), (1,2)])\n",
        "kvRDD.sortBy(lambda kv: kv[1], ascending=True).collect()"
      ]
    },
    {
      "cell_type": "markdown",
      "metadata": {
        "id": "k9A31s2e4_DM"
      },
      "source": [
        "Key-value map is similar to our previous case used in example 3.2.1. Just this time the map() is apply on key-value only. Here, we try replacing each key with its value"
      ]
    },
    {
      "cell_type": "code",
      "execution_count": null,
      "metadata": {
        "colab": {
          "base_uri": "https://localhost:8080/"
        },
        "id": "791wJ_zH42tg",
        "outputId": "675b8642-76da-4332-ff26-ef1f6bb8a6c4"
      },
      "outputs": [
        {
          "data": {
            "text/plain": [
              "[(4, 4), (1, 1), (6, 6), (2, 2)]"
            ]
          },
          "execution_count": 46,
          "metadata": {},
          "output_type": "execute_result"
        }
      ],
      "source": [
        "# apply map on each value\n",
        "kvRDD = spark.parallelize([(3,4), (3,1), (5,6), (1,2)])\n",
        "kvRDD.map(lambda kv: (kv[1], kv[1])).collect()"
      ]
    },
    {
      "cell_type": "code",
      "execution_count": null,
      "metadata": {
        "colab": {
          "base_uri": "https://localhost:8080/"
        },
        "id": "gdOJnCTx57-I",
        "outputId": "d01b290b-7d9e-4c81-f3e7-75c9aca26029"
      },
      "outputs": [
        {
          "data": {
            "text/plain": [
              "[(4, 3), (1, 3), (6, 5), (2, 1)]"
            ]
          },
          "execution_count": 47,
          "metadata": {},
          "output_type": "execute_result"
        }
      ],
      "source": [
        "# swap the key and value\n",
        "kvRDD = spark.parallelize([(3,4), (3,1), (5,6), (1,2)])\n",
        "kvRDD.map(lambda kv: (kv[1], kv[0])).collect()"
      ]
    },
    {
      "cell_type": "code",
      "execution_count": null,
      "metadata": {
        "colab": {
          "base_uri": "https://localhost:8080/"
        },
        "id": "jTn231hS6CZt",
        "outputId": "324c86fd-840c-4bd0-979d-4af4218baaed"
      },
      "outputs": [
        {
          "data": {
            "text/plain": [
              "[(3, 16), (3, 1), (5, 36), (1, 4)]"
            ]
          },
          "execution_count": 48,
          "metadata": {},
          "output_type": "execute_result"
        }
      ],
      "source": [
        "# We can use mapValues() to apply function on only value\n",
        "kvRDD = spark.parallelize([(3,4), (3,1), (5,6), (1,2)])\n",
        "kvRDD.mapValues(lambda kv: kv**2).collect()"
      ]
    },
    {
      "cell_type": "markdown",
      "metadata": {
        "id": "7rsLAgug6Z_L"
      },
      "source": [
        "``reduceByKey()`` means grouping the keys together, and apply a function on its values.\n",
        "For example, we can group all data with key=3, then add their values"
      ]
    },
    {
      "cell_type": "code",
      "execution_count": null,
      "metadata": {
        "colab": {
          "base_uri": "https://localhost:8080/"
        },
        "id": "FvXLS1qr6dD5",
        "outputId": "cc20570a-dac4-4598-fb8a-389941d918b2"
      },
      "outputs": [
        {
          "data": {
            "text/plain": [
              "[(3, 5), (5, 8)]"
            ]
          },
          "execution_count": 49,
          "metadata": {},
          "output_type": "execute_result"
        }
      ],
      "source": [
        "from operator import add\n",
        "kvRDD = spark.parallelize([(3,4), (3,1), (5,6), (5,2)])\n",
        "kvRDD.reduceByKey(add).collect()"
      ]
    },
    {
      "cell_type": "code",
      "execution_count": null,
      "metadata": {
        "colab": {
          "base_uri": "https://localhost:8080/"
        },
        "id": "3ifh88Og6nWa",
        "outputId": "fad5bd29-ead0-4d42-c420-b3865648d7f8"
      },
      "outputs": [
        {
          "data": {
            "text/plain": [
              "[(3, 7), (5, 8)]"
            ]
          },
          "execution_count": 50,
          "metadata": {},
          "output_type": "execute_result"
        }
      ],
      "source": [
        "kvRDD = spark.parallelize([(3,4),(3,1),(3,2), (5,6), (5,2)])\n",
        "kvRDD.reduceByKey(lambda x, y: x+y).collect()"
      ]
    },
    {
      "cell_type": "markdown",
      "metadata": {
        "id": "k-R_J9zKf8Q9"
      },
      "source": [
        "### 3.7 Multiple *key-value* pair transformations"
      ]
    },
    {
      "cell_type": "markdown",
      "metadata": {
        "id": "BYs5z0iN-SXk"
      },
      "source": [
        "We can use ``join()`` to combine multiple key-value pair RDD"
      ]
    },
    {
      "cell_type": "markdown",
      "metadata": {
        "id": "ybmOuJhW_HKA"
      },
      "source": [
        "We will **inner join** two RDDs. Here, two elements will join only if they shared same keys. For example ``{(1,2), (3,4), (3,6)} join {(3,7)} = {(3,(4,7)), (3,(6,7))}``"
      ]
    },
    {
      "cell_type": "code",
      "execution_count": null,
      "metadata": {
        "colab": {
          "base_uri": "https://localhost:8080/"
        },
        "id": "RGJjMNkr_FeR",
        "outputId": "280bdcf7-e545-46d1-a373-b3b922904f6d"
      },
      "outputs": [
        {
          "data": {
            "text/plain": [
              "[(3, (4, 7)), (3, (6, 7))]"
            ]
          },
          "execution_count": 51,
          "metadata": {},
          "output_type": "execute_result"
        }
      ],
      "source": [
        "kvRDD1 = spark.parallelize([(1,2), (3,4), (3,6)])\n",
        "kvRDD2 = spark.parallelize([(3,7)])\n",
        "kvRDD1.join(kvRDD2).collect()"
      ]
    },
    {
      "cell_type": "markdown",
      "metadata": {
        "id": "ZOEfqQ4z_iE8"
      },
      "source": [
        "For `leftOuterJoin()`, key must exist in the left RDD"
      ]
    },
    {
      "cell_type": "code",
      "execution_count": null,
      "metadata": {
        "colab": {
          "base_uri": "https://localhost:8080/"
        },
        "id": "KR6MHxJd_f12",
        "outputId": "24860246-2131-45cb-9520-ff373a7a861d"
      },
      "outputs": [
        {
          "data": {
            "text/plain": [
              "[(1, (2, None)), (3, (4, 7)), (3, (6, 7))]"
            ]
          },
          "execution_count": 52,
          "metadata": {},
          "output_type": "execute_result"
        }
      ],
      "source": [
        "kvRDD1 = spark.parallelize([(1,2), (3,4), (3,6)])\n",
        "kvRDD2 = spark.parallelize([(3,7)])\n",
        "result = kvRDD1.leftOuterJoin(kvRDD2)\n",
        "result.collect()"
      ]
    },
    {
      "cell_type": "markdown",
      "metadata": {
        "id": "nJEW6Jqu_7pN"
      },
      "source": [
        "<font color='red'>TODO #6: we saw \"None\" in result variable. How can we replace None with \"error\"?</span>"
      ]
    },
    {
      "cell_type": "code",
      "execution_count": null,
      "metadata": {
        "colab": {
          "base_uri": "https://localhost:8080/"
        },
        "id": "3btZSPdVAjdD",
        "outputId": "17deaf80-fb06-4769-fc80-0b3267b67e1e"
      },
      "outputs": [
        {
          "data": {
            "text/plain": [
              "[(1, (2, 'error')), (3, (4, 7)), (3, (6, 7))]"
            ]
          },
          "execution_count": 53,
          "metadata": {},
          "output_type": "execute_result"
        }
      ],
      "source": [
        "#TODO #6: we saw \"None\" in result variable. How can we replace None with \"error\""
      ]
    },
    {
      "cell_type": "markdown",
      "metadata": {
        "id": "GaGErI0JNrKA"
      },
      "source": [
        "For ``rightOuterJoin()``, key must exist in the **right** RDD"
      ]
    },
    {
      "cell_type": "code",
      "execution_count": null,
      "metadata": {
        "colab": {
          "base_uri": "https://localhost:8080/"
        },
        "id": "vDinF3JENvLk",
        "outputId": "b81f144e-b24b-4435-dd7c-a2ac515636a4"
      },
      "outputs": [
        {
          "data": {
            "text/plain": [
              "[(3, (4, 7)), (3, (6, 7))]"
            ]
          },
          "execution_count": 54,
          "metadata": {},
          "output_type": "execute_result"
        }
      ],
      "source": [
        "kvRDD1 = spark.parallelize([(1,2), (3,4), (3,6)])\n",
        "kvRDD2 = spark.parallelize([(3,7)])\n",
        "result = kvRDD1.rightOuterJoin(kvRDD2)\n",
        "result.collect()"
      ]
    },
    {
      "cell_type": "markdown",
      "metadata": {
        "id": "QrPaGtTqOQKj"
      },
      "source": [
        "For ``subtractByKey()``, a key appears in both RDD will be removed"
      ]
    },
    {
      "cell_type": "code",
      "execution_count": null,
      "metadata": {
        "colab": {
          "base_uri": "https://localhost:8080/"
        },
        "id": "2tadzTEaOVPS",
        "outputId": "19b9c05c-6ec9-4a9e-c570-f26a9bc61ac5"
      },
      "outputs": [
        {
          "data": {
            "text/plain": [
              "[(1, 2)]"
            ]
          },
          "execution_count": 55,
          "metadata": {},
          "output_type": "execute_result"
        }
      ],
      "source": [
        "kvRDD1 = spark.parallelize([(1,2), (3,4), (3,6)])\n",
        "kvRDD2 = spark.parallelize([(3,7)])\n",
        "result = kvRDD1.subtractByKey(kvRDD2)\n",
        "result.collect()"
      ]
    },
    {
      "cell_type": "markdown",
      "metadata": {
        "id": "zaZHppQAgAAb"
      },
      "source": [
        "### 3.8 Key Value RDD actions"
      ]
    },
    {
      "cell_type": "markdown",
      "metadata": {
        "id": "tbMVOUpuOlbj"
      },
      "source": [
        "Similar to section 3.4.1, we use `first()` to get the first element of key and value"
      ]
    },
    {
      "cell_type": "code",
      "execution_count": null,
      "metadata": {
        "colab": {
          "base_uri": "https://localhost:8080/"
        },
        "id": "NqNSCG1oOkhe",
        "outputId": "ffab5419-ab0a-4a17-a1e6-6d979b6a5953"
      },
      "outputs": [
        {
          "name": "stdout",
          "output_type": "stream",
          "text": [
            "First key-value: 1 2\n",
            "First key: 1\n",
            "First value: 2\n"
          ]
        }
      ],
      "source": [
        "kvRDD1 = spark.parallelize([(1,2), (3,4), (3,6)])\n",
        "\n",
        "# Get first element\n",
        "print(\"First key-value: %s %s\" % kvRDD1.first())\n",
        "\n",
        "# Get first key\n",
        "print(\"First key: %s\" % kvRDD1.keys().first())\n",
        "\n",
        "# Get first value\n",
        "print(\"First value: %s\" % kvRDD1.values().first())"
      ]
    },
    {
      "cell_type": "markdown",
      "metadata": {
        "id": "P3xDHzeYO57c"
      },
      "source": [
        "Similar to section 3.4.2, we use `take()` to get the first N elements of key and value"
      ]
    },
    {
      "cell_type": "code",
      "execution_count": null,
      "metadata": {
        "colab": {
          "base_uri": "https://localhost:8080/"
        },
        "id": "l9Wl47mdO_2R",
        "outputId": "97b1af92-39c1-495e-d7a7-939ad94df672"
      },
      "outputs": [
        {
          "name": "stdout",
          "output_type": "stream",
          "text": [
            "First 2 key-value: [(1, 2), (3, 4)]\n",
            "First 2 key: [1, 3]\n",
            "First2 value: [2, 4]\n"
          ]
        }
      ],
      "source": [
        "kvRDD1 = spark.parallelize([(1,2), (3,4), (3,6), (4,1), (5,6)])\n",
        "\n",
        "# Get first element\n",
        "print(\"First 2 key-value:\", kvRDD1.take(2))\n",
        "\n",
        "# Get first key\n",
        "print(\"First 2 key:\", kvRDD1.keys().take(2))\n",
        "\n",
        "# Get first value\n",
        "print(\"First2 value:\", kvRDD1.values().take(2))"
      ]
    },
    {
      "cell_type": "markdown",
      "metadata": {
        "id": "MdVr7Mq-gFn4"
      },
      "source": [
        "## 4. TODO Exercise"
      ]
    },
    {
      "cell_type": "markdown",
      "metadata": {
        "id": "sTytjDeygiR0"
      },
      "source": [
        "<font color='red'>TODO 7: Write a module to read the \"wordCountEx.txt\" file, split the word by space and do a word count and sort the result descendingly.\n",
        "\n",
        "Hints: You may need to use the following functions:</font>\n",
        "\n",
        "- `textFile()`\n",
        "- `flatMap()`\n",
        "- `reduceByKey()`\n",
        "- `sortBy()`\n"
      ]
    },
    {
      "cell_type": "code",
      "execution_count": null,
      "metadata": {
        "colab": {
          "base_uri": "https://localhost:8080/"
        },
        "id": "MI9bwuXDPjGp",
        "outputId": "648b7ad1-8552-489f-91a4-85804bc8ab22"
      },
      "outputs": [
        {
          "data": {
            "text/plain": [
              "[('the', 3),\n",
              " ('this', 2),\n",
              " ('to', 2),\n",
              " ('letter', 2),\n",
              " ('quick', 1),\n",
              " ('brown', 1),\n",
              " ('fox', 1),\n",
              " ('jumps', 1),\n",
              " ('over', 1),\n",
              " ('lazy', 1),\n",
              " ('dog.', 1),\n",
              " ('sentence', 1),\n",
              " ('is', 1),\n",
              " ('often', 1),\n",
              " ('used', 1),\n",
              " ('test', 1),\n",
              " ('typing', 1),\n",
              " ('skills.', 1),\n",
              " ('it', 1),\n",
              " ('contains', 1),\n",
              " ('every', 1),\n",
              " ('of', 1),\n",
              " ('alphabet.', 1),\n",
              " ('students', 1),\n",
              " ('can', 1),\n",
              " ('use', 1),\n",
              " ('text', 1),\n",
              " ('practice', 1),\n",
              " ('counting', 1),\n",
              " ('words', 1),\n",
              " ('or', 1),\n",
              " ('analyzing', 1),\n",
              " ('frequency.', 1),\n",
              " ('have', 1),\n",
              " ('fun', 1),\n",
              " ('learning!', 1)]"
            ]
          },
          "execution_count": 81,
          "metadata": {},
          "output_type": "execute_result"
        }
      ],
      "source": [
        "#TODO 7: Write a module to read the \"wordCountEx.txt\" file.\n",
        "#        Split the contents into words by spaces, convert all words to lowercase,\n",
        "#        count the occurrences of each unique word,\n",
        "#        and sort the results in descending order based on frequency."
      ]
    },
    {
      "cell_type": "markdown",
      "metadata": {
        "id": "qo0mzrTbS8H3"
      },
      "source": [
        "<font color='red'>TODO 8: Given a small DNA file named dna_small.txt, create a module that count continuous patterns of size k in a DNA string.\n",
        "For instance, if `k = 5` and the DNA string: `dna_str = 'gcctaagccta'`, the continuous patters are: `'gccta', 'cctaa', 'ctaag', 'taagc', 'aagcc', 'agcct', 'gccta'`.</font>\n",
        "\n",
        "```\n",
        "The results should be:\n",
        "('gccta', 2)\n",
        "('cctaa', 1)\n",
        "('ctaag', 1)\n",
        "('taagc', 1)\n",
        "('aagcc', 1)\n",
        "('agcct', 1)\n",
        "```\n",
        "\n",
        "\n",
        "\n"
      ]
    },
    {
      "cell_type": "code",
      "execution_count": null,
      "metadata": {
        "colab": {
          "base_uri": "https://localhost:8080/"
        },
        "id": "PNl3PxM27Van",
        "outputId": "66bba21a-22a2-41ac-8ca6-0803c8d9ebab"
      },
      "outputs": [
        {
          "data": {
            "text/plain": [
              "[('ctaag', 103),\n",
              " ('gccta', 96),\n",
              " ('cctaa', 95),\n",
              " ('aagcc', 94),\n",
              " ('agcct', 94),\n",
              " ('taagc', 93),\n",
              " ('ttttt', 30),\n",
              " ('aaaaa', 20),\n",
              " ('aaaat', 20),\n",
              " ('atttt', 18),\n",
              " ('aaatt', 16),\n",
              " ('actaa', 15),\n",
              " ('ttttc', 14),\n",
              " ('taaga', 13),\n",
              " ('aattt', 13),\n",
              " ('tttta', 12),\n",
              " ('gtttt', 11),\n",
              " ('gaaaa', 10),\n",
              " ('caaaa', 10),\n",
              " ('aagac', 9),\n",
              " ('agact', 9),\n",
              " ('gacta', 9),\n",
              " ('agaaa', 8),\n",
              " ('ttgtt', 7),\n",
              " ('tgttt', 7),\n",
              " ('atact', 7),\n",
              " ('ctaat', 7),\n",
              " ('aatac', 7),\n",
              " ('tttaa', 7),\n",
              " ('taaaa', 6),\n",
              " ('aagaa', 6),\n",
              " ('tttca', 6),\n",
              " ('tacta', 6),\n",
              " ('taata', 6),\n",
              " ('tgaaa', 6),\n",
              " ('aaata', 6),\n",
              " ('agttt', 6),\n",
              " ('ttttg', 6),\n",
              " ('tttct', 6),\n",
              " ('TTCTT', 6),\n",
              " ('ttaaa', 6),\n",
              " ('tattt', 6),\n",
              " ('aaaac', 5),\n",
              " ('TATTT', 5),\n",
              " ('tttat', 5),\n",
              " ('ACTTT', 5),\n",
              " ('CAAAT', 5),\n",
              " ('tttgt', 5),\n",
              " ('AGTAT', 5),\n",
              " ('aattg', 4),\n",
              " ('acatt', 4),\n",
              " ('cattt', 4),\n",
              " ('ttcaa', 4),\n",
              " ('tttag', 4),\n",
              " ('AATTT', 4),\n",
              " ('TTTGC', 4),\n",
              " ('TGCCT', 4),\n",
              " ('CTGCC', 4),\n",
              " ('GCCAA', 4),\n",
              " ('atttg', 4),\n",
              " ('ttgca', 4),\n",
              " ('AATAT', 4),\n",
              " ('tgatt', 4),\n",
              " ('atatt', 4),\n",
              " ('aatat', 4),\n",
              " ('ttctt', 4),\n",
              " ('tcttg', 4),\n",
              " ('ATTCT', 4),\n",
              " ('CTTGA', 4),\n",
              " ('ttatt', 4),\n",
              " ('AAATG', 4),\n",
              " ('ATTTC', 4),\n",
              " ('TTTCT', 4),\n",
              " ('TAATA', 4),\n",
              " ('TCTTT', 4),\n",
              " ('tttcc', 4),\n",
              " ('attga', 3),\n",
              " ('tcaaa', 3),\n",
              " ('attgt', 3),\n",
              " ('ttcat', 3),\n",
              " ('ttagt', 3),\n",
              " ('GATAT', 3),\n",
              " ('ATATT', 3),\n",
              " ('ATTTG', 3),\n",
              " ('TTGGC', 3),\n",
              " ('TCTAA', 3),\n",
              " ('ATTTT', 3),\n",
              " ('TTTTG', 3),\n",
              " ('TTGCC', 3),\n",
              " ('GCCTG', 3),\n",
              " ('CCTGC', 3),\n",
              " ('TGCCA', 3),\n",
              " ('TGTTT', 3),\n",
              " ('TTTAG', 3),\n",
              " ('ATATG', 3),\n",
              " ('GCTAC', 3),\n",
              " ('CTACA', 3),\n",
              " ('TACAG', 3),\n",
              " ('ACAGA', 3),\n",
              " ('CAGAA', 3),\n",
              " ('GAAAC', 3),\n",
              " ('TAGTA', 3),\n",
              " ('ttctg', 3),\n",
              " ('tctga', 3),\n",
              " ('ctgaa', 3),\n",
              " ('tttgc', 3),\n",
              " ('tgcaa', 3),\n",
              " ('ttata', 3),\n",
              " ('tagct', 3),\n",
              " ('GCACT', 3),\n",
              " ('TTTGT', 3),\n",
              " ('CCAAA', 3),\n",
              " ('ATATA', 3),\n",
              " ('aataa', 3),\n",
              " ('gattt', 3),\n",
              " ('tattg', 3),\n",
              " ('gaaat', 3),\n",
              " ('gaata', 3),\n",
              " ('GGTTG', 3),\n",
              " ('GTTGT', 3),\n",
              " ('TGTGC', 3),\n",
              " ('GTGCA', 3),\n",
              " ('gtttg', 3),\n",
              " ('CTTTG', 3),\n",
              " ('AATTC', 3),\n",
              " ('TCTTG', 3),\n",
              " ('TTGAT', 3),\n",
              " ('TGATT', 3),\n",
              " ('caaga', 3),\n",
              " ('TTCTG', 3),\n",
              " ('AATGC', 3),\n",
              " ('CAATA', 3),\n",
              " ('AATAA', 3),\n",
              " ('ATAAA', 3),\n",
              " ('GTATA', 3),\n",
              " ('TATAT', 3),\n",
              " ('AATAG', 3),\n",
              " ('GACAT', 3),\n",
              " ('gcaaa', 3),\n",
              " ('AAACA', 3),\n",
              " ('TGGTT', 3),\n",
              " ('TATAA', 3),\n",
              " ('TTGTA', 3),\n",
              " ('CATAA', 3),\n",
              " ('AACAA', 3),\n",
              " ('GAATA', 3),\n",
              " ('ctaaa', 2),\n",
              " ('ataag', 2),\n",
              " ('aaaca', 2),\n",
              " ('aacat', 2),\n",
              " ('tcatg', 2),\n",
              " ('taaat', 2),\n",
              " ('aattc', 2),\n",
              " ('aaacg', 2),\n",
              " ('cgttt', 2),\n",
              " ('gtgaa', 2),\n",
              " ('CTTCT', 2),\n",
              " ('TCTAG', 2),\n",
              " ('AGATA', 2),\n",
              " ('TACCT', 2),\n",
              " ('CTAAT', 2),\n",
              " ('TAATT', 2),\n",
              " ('CAACC', 2),\n",
              " ('CCTAT', 2),\n",
              " ('GTGTT', 2),\n",
              " ('GGCCT', 2),\n",
              " ('GCCTA', 2),\n",
              " ('ATGGT', 2),\n",
              " ('GGTAG', 2),\n",
              " ('TAGCT', 2),\n",
              " ('AGCTA', 2),\n",
              " ('AGAAA', 2),\n",
              " ('acaaa', 2),\n",
              " ('atagc', 2),\n",
              " ('CACTT', 2),\n",
              " ('CTTTT', 2),\n",
              " ('TTTTT', 2),\n",
              " ('TGTCT', 2),\n",
              " ('GCCCA', 2),\n",
              " ('AAATA', 2),\n",
              " ('ggcaa', 2),\n",
              " ('ccaaa', 2),\n",
              " ('ataat', 2),\n",
              " ('aagtt', 2),\n",
              " ('ttaat', 2),\n",
              " ('aatga', 2),\n",
              " ('catat', 2),\n",
              " ('ttgaa', 2),\n",
              " ('ggttt', 2),\n",
              " ('tttga', 2),\n",
              " ('aaatg', 2),\n",
              " ('atatc', 2),\n",
              " ('tatcg', 2),\n",
              " ('TTGTG', 2),\n",
              " ('TGCAC', 2),\n",
              " ('CTCAT', 2),\n",
              " ('TCATC', 2),\n",
              " ('gaaag', 2),\n",
              " ('aaagt', 2),\n",
              " ('cttgc', 2),\n",
              " ('AGAAT', 2),\n",
              " ('GATTC', 2),\n",
              " ('gcaag', 2),\n",
              " ('cgcaa', 2),\n",
              " ('gtatt', 2),\n",
              " ('attaa', 2),\n",
              " ('aaact', 2),\n",
              " ('tttgg', 2),\n",
              " ('ttgga', 2),\n",
              " ('aatta', 2),\n",
              " ('tagtt', 2),\n",
              " ('gttta', 2),\n",
              " ('aaatc', 2),\n",
              " ('tgtta', 2),\n",
              " ('gttat', 2),\n",
              " ('atttc', 2),\n",
              " ('tcaga', 2),\n",
              " ('cagaa', 2),\n",
              " ('ATGTG', 2),\n",
              " ('GATTT', 2),\n",
              " ('TCTGT', 2),\n",
              " ('AAATT', 2),\n",
              " ('TGAAA', 2),\n",
              " ('GAAAT', 2),\n",
              " ('ATGCA', 2),\n",
              " ('GCAAT', 2),\n",
              " ('TAAAA', 2),\n",
              " ('AAAAA', 2),\n",
              " ('AAATC', 2),\n",
              " ('ATCTA', 2),\n",
              " ('ATATC', 2),\n",
              " ('CATCA', 2),\n",
              " ('ATCAG', 2),\n",
              " ('TCAGT', 2),\n",
              " ('CAGTG', 2),\n",
              " ('AGTGC', 2),\n",
              " ('GTGCG', 2),\n",
              " ('AATCA', 2),\n",
              " ('TTTGA', 2),\n",
              " ('TTGAC', 2),\n",
              " ('TGACA', 2),\n",
              " ('ATCAA', 2),\n",
              " ('ATAAG', 2),\n",
              " ('GTATT', 2),\n",
              " ('ATGAC', 2),\n",
              " ('GACTT', 2),\n",
              " ('CTTTA', 2),\n",
              " ('ACTTG', 2),\n",
              " ('TTGAA', 2),\n",
              " ('GGCTA', 2),\n",
              " ('TTAAT', 2),\n",
              " ('CCAAT', 2),\n",
              " ('CAATT', 2),\n",
              " ('TTTCA', 2),\n",
              " ('TTCAT', 2),\n",
              " ('GTCTA', 2),\n",
              " ('TAAAC', 2),\n",
              " ('gtttc', 2),\n",
              " ('ttgat', 2),\n",
              " ('TCGCT', 2),\n",
              " ('TAAAT', 2),\n",
              " ('tacat', 2),\n",
              " ('atgtt', 2),\n",
              " ('CATTG', 2),\n",
              " ('TACAA', 2),\n",
              " ('AATAC', 2),\n",
              " ('ATACT', 2),\n",
              " ('ATAAT', 2),\n",
              " ('TGTAT', 2),\n",
              " ('ATAAC', 2),\n",
              " ('AAGGC', 2),\n",
              " ('AGGCT', 2),\n",
              " ('TGACG', 2),\n",
              " ('GACGA', 2),\n",
              " ('AACTT', 2),\n",
              " ('attta', 2),\n",
              " ('ATCGC', 2),\n",
              " ('ATAGA', 2),\n",
              " ('ACAAT', 2),\n",
              " ('AGGCA', 2),\n",
              " ('gggga', 2),\n",
              " ('gagtt', 2),\n",
              " ('tatat', 2),\n",
              " ('atatg', 2),\n",
              " ('tatgt', 2),\n",
              " ('taatt', 2),\n",
              " ('ccctg', 2),\n",
              " ('cctga', 2),\n",
              " ('ctgat', 2),\n",
              " ('atgtg', 2),\n",
              " ('tgtga', 2),\n",
              " ('ttccc', 2),\n",
              " ('ttgag', 1),\n",
              " ('tgaga', 1),\n",
              " ('gagat', 1),\n",
              " ('agata', 1),\n",
              " ('gataa', 1),\n",
              " ('tttac', 1),\n",
              " ('ttact', 1),\n",
              " ('tactt', 1),\n",
              " ('acttt', 1),\n",
              " ('ctttt', 1),\n",
              " ('catgc', 1),\n",
              " ('attca', 1),\n",
              " ('aacgt', 1),\n",
              " ('acgtt', 1),\n",
              " ('tagtg', 1),\n",
              " ('agtga', 1),\n",
              " ('tgaag', 1),\n",
              " ('gaagC', 1),\n",
              " ('aagCT', 1),\n",
              " ('agCTT', 1),\n",
              " ('gCTTC', 1),\n",
              " ('TTCTA', 1),\n",
              " ('CTAGA', 1),\n",
              " ('TAGAT', 1),\n",
              " ('TTTGG', 1),\n",
              " ('TGGCG', 1),\n",
              " ('GGCGG', 1),\n",
              " ('GCGGG', 1),\n",
              " ('CGGGT', 1),\n",
              " ('GGGTA', 1),\n",
              " ('GGTAC', 1),\n",
              " ('GTACC', 1),\n",
              " ('ACCTC', 1),\n",
              " ('CCTCT', 1),\n",
              " ('CTCTA', 1),\n",
              " ('CCAAC', 1),\n",
              " ('AACCT', 1),\n",
              " ('ACCTA', 1),\n",
              " ('ATGCT', 1),\n",
              " ('TGCTC', 1),\n",
              " ('GCTCC', 1),\n",
              " ('CTCCT', 1),\n",
              " ('TCCTG', 1),\n",
              " ('CCTGT', 1),\n",
              " ('CTGTG', 1),\n",
              " ('TGTGT', 1),\n",
              " ('GTTTA', 1),\n",
              " ('TTAGG', 1),\n",
              " ('TAGGC', 1),\n",
              " ('AGGCC', 1),\n",
              " ('CCTAa', 1),\n",
              " ('CTAat', 1),\n",
              " ('TAata', 1),\n",
              " ('Aatac', 1),\n",
              " ('aaaag', 1),\n",
              " ('aaaga', 1),\n",
              " ('aagaA', 1),\n",
              " ('agaAT', 1),\n",
              " ('gaATA', 1),\n",
              " ('aATAT', 1),\n",
              " ('TATGG', 1),\n",
              " ('TGGTA', 1),\n",
              " ('GTAGC', 1),\n",
              " ('AAACG', 1),\n",
              " ('AACGG', 1),\n",
              " ('ACGGT', 1),\n",
              " ('CGGTA', 1),\n",
              " ('GTAGT', 1),\n",
              " ('AGTAC', 1),\n",
              " ('GTACA', 1),\n",
              " ('TACAc', 1),\n",
              " ('ACAct', 1),\n",
              " ('cttct', 1),\n",
              " ('ataca', 1),\n",
              " ('tacaa', 1),\n",
              " ('gcaat', 1),\n",
              " ('caatt', 1),\n",
              " ('tatag', 1),\n",
              " ('agcta', 1),\n",
              " ('gctaG', 1),\n",
              " ('ctaGG', 1),\n",
              " ('taGGG', 1),\n",
              " ('aGGGC', 1),\n",
              " ('GGGCA', 1),\n",
              " ('GGCAC', 1),\n",
              " ('TTGTC', 1),\n",
              " ('GTCTG', 1),\n",
              " ('TCTGC', 1),\n",
              " ('TGCCC', 1),\n",
              " ('CCCAA', 1),\n",
              " ('TATAg', 1),\n",
              " ('ATAgg', 1),\n",
              " ('TAggc', 1),\n",
              " ('Aggca', 1),\n",
              " ('gcaac', 1),\n",
              " ('caacc', 1),\n",
              " ('aacca', 1),\n",
              " ('accaa', 1),\n",
              " ('tgcca', 1),\n",
              " ('gccaa', 1),\n",
              " ('ccaag', 1),\n",
              " ('caagt', 1),\n",
              " ('taatg', 1),\n",
              " ('atgat', 1),\n",
              " ('tgttg', 1),\n",
              " ('gttgc', 1),\n",
              " ('tgcat', 1),\n",
              " ('gcata', 1),\n",
              " ('tttcg', 1),\n",
              " ('ttcgg', 1),\n",
              " ('tcggg', 1),\n",
              " ('cgggt', 1),\n",
              " ('gggtt', 1),\n",
              " ('atgaa', 1),\n",
              " ('tgaat', 1),\n",
              " ('atcgt', 1),\n",
              " ('tcgtA', 1),\n",
              " ('cgtAG', 1),\n",
              " ('gtAGC', 1),\n",
              " ('tAGCT', 1),\n",
              " ('CGGTT', 1),\n",
              " ('CACTC', 1),\n",
              " ('ACTCA', 1),\n",
              " ('CATCT', 1),\n",
              " ('ATCTg', 1),\n",
              " ('TCTga', 1),\n",
              " ('CTgaa', 1),\n",
              " ('Tgaaa', 1),\n",
              " ('cttgt', 1),\n",
              " ('ttgcA', 1),\n",
              " ('tgcAC', 1),\n",
              " ('gcACT', 1),\n",
              " ('cACTT', 1),\n",
              " ('TGCAG', 1),\n",
              " ('GCAGA', 1),\n",
              " ('GAATT', 1),\n",
              " ('CTTGC', 1),\n",
              " ('TTGCA', 1),\n",
              " ('TGCAg', 1),\n",
              " ('attcg', 1),\n",
              " ('ttcgc', 1),\n",
              " ('tcgca', 1),\n",
              " ('ttgta', 1),\n",
              " ('tgtat', 1),\n",
              " ('tatta', 1),\n",
              " ('aactg', 1),\n",
              " ('actgt', 1),\n",
              " ('ctgtt', 1),\n",
              " ('tgttc', 1),\n",
              " ('gttca', 1),\n",
              " ('tggaa', 1),\n",
              " ('ggaaa', 1),\n",
              " ('attag', 1),\n",
              " ('aatct', 1),\n",
              " ('atctc', 1),\n",
              " ('tctca', 1),\n",
              " ('ctcac', 1),\n",
              " ('tcaca', 1),\n",
              " ('cacat', 1),\n",
              " ('ttaga', 1),\n",
              " ('tagaa', 1),\n",
              " ('attat', 1),\n",
              " ('ttaag', 1),\n",
              " ('agaat', 1),\n",
              " ('gaatt', 1),\n",
              " ('tcatt', 1),\n",
              " ('ttagg', 1),\n",
              " ('tagga', 1),\n",
              " ('aggaa', 1),\n",
              " ('ggaat', 1),\n",
              " ('ttcag', 1),\n",
              " ('aatag', 1),\n",
              " ('agctA', 1),\n",
              " ('gctAA', 1),\n",
              " ('ctAAA', 1),\n",
              " ('tAAAT', 1),\n",
              " ('AATGT', 1),\n",
              " ('TGTGA', 1),\n",
              " ('GTGAT', 1),\n",
              " ('ATTCG', 1),\n",
              " ('TTCGT', 1),\n",
              " ('TCGTG', 1),\n",
              " ('CGTGA', 1),\n",
              " ('GTGAA', 1),\n",
              " ('TGCAA', 1),\n",
              " ('AAAAT', 1),\n",
              " ('AATCT', 1),\n",
              " ('TATCC', 1),\n",
              " ('ATCCC', 1),\n",
              " ('TCCCT', 1),\n",
              " ('CCCTC', 1),\n",
              " ('CCTCA', 1),\n",
              " ('TGCGA', 1),\n",
              " ('GCGAT', 1),\n",
              " ('CGATT', 1),\n",
              " ('TTTCC', 1),\n",
              " ('TTCCG', 1),\n",
              " ('TCCGA', 1),\n",
              " ('CCGAA', 1),\n",
              " ('CGAAT', 1),\n",
              " ('GAATC', 1),\n",
              " ('CAGTA', 1),\n",
              " ('ACGTA', 1),\n",
              " ('CGTAA', 1),\n",
              " ('GTAAT', 1),\n",
              " ('ATAGC', 1),\n",
              " ('AGCTT', 1),\n",
              " ('GCTTC', 1),\n",
              " ('ACATC', 1),\n",
              " ('TCAAT', 1),\n",
              " ('TAAGT', 1),\n",
              " ('AAGTA', 1),\n",
              " ('CTATA', 1),\n",
              " ('TATGA', 1),\n",
              " ('TGACT', 1),\n",
              " ('TTAGA', 1),\n",
              " ('TAGAC', 1),\n",
              " ('AGACT', 1),\n",
              " ('AATTG', 1),\n",
              " ('ATTGG', 1),\n",
              " ('TGGCT', 1),\n",
              " ('GCTAT', 1),\n",
              " ('CTATT', 1),\n",
              " ('TATTA', 1),\n",
              " ('ATTAA', 1),\n",
              " ('TAATG', 1),\n",
              " ('ATGCC', 1),\n",
              " ('TATCT', 1),\n",
              " ('CTAGC', 1),\n",
              " ('TAGCC', 1),\n",
              " ('AGCCA', 1),\n",
              " ('GCCAC', 1),\n",
              " ('CCACT', 1),\n",
              " ('TTAGT', 1),\n",
              " ('GTATa', 1),\n",
              " ('TATaa', 1),\n",
              " ('ATaat', 1),\n",
              " ('Taatt', 1),\n",
              " ('ttggc', 1),\n",
              " ('tggca', 1),\n",
              " ('aacta', 1),\n",
              " ('actat', 1),\n",
              " ('ctatT', 1),\n",
              " ('tatTG', 1),\n",
              " ('atTGT', 1),\n",
              " ('tTGTC', 1),\n",
              " ('CTAAA', 1),\n",
              " ('AACAG', 1),\n",
              " ('CAGAT', 1),\n",
              " ('TATTC', 1),\n",
              " ('ATTCg', 1),\n",
              " ('TTCgt', 1),\n",
              " ('TCgtg', 1),\n",
              " ('Cgtgt', 1),\n",
              " ('gtgtt', 1),\n",
              " ('tcaag', 1),\n",
              " ('catgg', 1),\n",
              " ('atggt', 1),\n",
              " ('tggtt', 1),\n",
              " ('ttctT', 1),\n",
              " ('tctTG', 1),\n",
              " ('ctTGG', 1),\n",
              " ('tTGGT', 1),\n",
              " ('TGGTC', 1),\n",
              " ('GGTCT', 1),\n",
              " ('GTCTT', 1),\n",
              " ('TTTTC', 1),\n",
              " ('TCTTg', 1),\n",
              " ('CTTgg', 1),\n",
              " ('TTggt', 1),\n",
              " ('Tggta', 1),\n",
              " ('ggtat', 1),\n",
              " ('ttgac', 1),\n",
              " ('tgaca', 1),\n",
              " ('gacaa', 1),\n",
              " ('cttga', 1),\n",
              " ('gattc', 1),\n",
              " ('attct', 1),\n",
              " ('tttgA', 1),\n",
              " ('ttgAC', 1),\n",
              " ('tgACG', 1),\n",
              " ('gACGG', 1),\n",
              " ('ACGGC', 1),\n",
              " ('CGGCC', 1),\n",
              " ('GCCTT', 1),\n",
              " ('CCTTG', 1),\n",
              " ('TGATG', 1),\n",
              " ('GATGT', 1),\n",
              " ('CACTA', 1),\n",
              " ('ACTAC', 1),\n",
              " ('CTACC', 1),\n",
              " ('ACCTT', 1),\n",
              " ('CCTTC', 1),\n",
              " ('CTTCG', 1),\n",
              " ('TTCGC', 1),\n",
              " ('CGCTT', 1),\n",
              " ('GCTTA', 1),\n",
              " ('CTTAA', 1),\n",
              " ('TTAAA', 1),\n",
              " ('AAATa', 1),\n",
              " ('AATac', 1),\n",
              " ('ATact', 1),\n",
              " ('Tacta', 1),\n",
              " ('actac', 1),\n",
              " ('ctaca', 1),\n",
              " ('aatgt', 1),\n",
              " ('tataa', 1),\n",
              " ('taatA', 1),\n",
              " ('aatAG', 1),\n",
              " ('atAGT', 1),\n",
              " ('tAGTG', 1),\n",
              " ('AGTGT', 1),\n",
              " ('TGTTC', 1),\n",
              " ('GTTCA', 1),\n",
              " ('TCATT', 1),\n",
              " ('ATTGT', 1),\n",
              " ('TTGTT', 1),\n",
              " ('GTTTC', 1),\n",
              " ('ACAAA', 1),\n",
              " ('TACTT', 1),\n",
              " ('ACTTA', 1),\n",
              " ('CTTAT', 1),\n",
              " ('TTATT', 1),\n",
              " ('ATTTA', 1),\n",
              " ('TTTAA', 1),\n",
              " ('ATAGT', 1),\n",
              " ('TCTGG', 1),\n",
              " ('CTGGT', 1),\n",
              " ('GGTTA', 1),\n",
              " ('GTTAT', 1),\n",
              " ('TTATA', 1),\n",
              " ('AAAAG', 1),\n",
              " ('AAAGT', 1),\n",
              " ('AAGTG', 1),\n",
              " ('AGTGG', 1),\n",
              " ('GTGGT', 1),\n",
              " ('GTTGA', 1),\n",
              " ('ACATA', 1),\n",
              " ('TAACA', 1),\n",
              " ('ACAAG', 1),\n",
              " ('CAAGG', 1),\n",
              " ('GGCTG', 1),\n",
              " ('GCTGA', 1),\n",
              " ('CTGAC', 1),\n",
              " ('ACGAA', 1),\n",
              " ('CGAAA', 1),\n",
              " ('AAACT', 1),\n",
              " ('GTgat', 1),\n",
              " ('Tgatg', 1),\n",
              " ('gatgg', 1),\n",
              " ('atggc', 1),\n",
              " ('tggct', 1),\n",
              " ('ggctg', 1),\n",
              " ('gctga', 1),\n",
              " ('ttcct', 1),\n",
              " ('tccta', 1),\n",
              " ('cctag', 1),\n",
              " ('ctagc', 1),\n",
              " ('agctt', 1),\n",
              " ('gcttt', 1),\n",
              " ('cttta', 1),\n",
              " ('tatac', 1),\n",
              " ('atacg', 1),\n",
              " ('tacgT', 1),\n",
              " ('acgTG', 1),\n",
              " ('cgTGT', 1),\n",
              " ('gTGTT', 1),\n",
              " ('GTTTG', 1),\n",
              " ('TGAAT', 1),\n",
              " ('TAACT', 1),\n",
              " ('CTTGG', 1),\n",
              " ('TGGCC', 1),\n",
              " ('GGCCA', 1),\n",
              " ('AATCG', 1),\n",
              " ('TCGCC', 1),\n",
              " ('CGCCG', 1),\n",
              " ('GCCGA', 1),\n",
              " ('CCGAG', 1),\n",
              " ('CGAGA', 1),\n",
              " ('GAGAA', 1),\n",
              " ('AGAAG', 1),\n",
              " ('TAGAA', 1),\n",
              " ('TACTG', 1),\n",
              " ('ACTGG', 1),\n",
              " ('CTGGA', 1),\n",
              " ('TGGAC', 1),\n",
              " ('GGACG', 1),\n",
              " ('ACGAC', 1),\n",
              " ('CGACA', 1),\n",
              " ('ACATT', 1),\n",
              " ('ATTGt', 1),\n",
              " ('TTGta', 1),\n",
              " ('TGtac', 1),\n",
              " ('Gtaca', 1),\n",
              " ('acata', 1),\n",
              " ('ttcca', 1),\n",
              " ('tccaa', 1),\n",
              " ('aatca', 1),\n",
              " ('atcag', 1),\n",
              " ('aagta', 1),\n",
              " ('agtaG', 1),\n",
              " ('gtaGA', 1),\n",
              " ('taGAT', 1),\n",
              " ('aGATG', 1),\n",
              " ('GATGA', 1),\n",
              " ('GACGG', 1),\n",
              " ('ACGGG', 1),\n",
              " ('CGGGA', 1),\n",
              " ('GGGAC', 1),\n",
              " ('GGACC', 1),\n",
              " ('GACCA', 1),\n",
              " ('ACCAA', 1),\n",
              " ('CTTTC', 1),\n",
              " ('CTGTC', 1),\n",
              " ('TGTCA', 1),\n",
              " ('GTCAG', 1),\n",
              " ('TCAGG', 1),\n",
              " ('CAGGT', 1),\n",
              " ('TTTAC', 1),\n",
              " ('TTACA', 1),\n",
              " ('ACAAC', 1),\n",
              " ('AACCG', 1),\n",
              " ('ACCGC', 1),\n",
              " ('CCGCC', 1),\n",
              " ('CGCCC', 1),\n",
              " ('CCCAG', 1),\n",
              " ('CCAGT', 1),\n",
              " ('TGCGT', 1),\n",
              " ('GCGTC', 1),\n",
              " ('CGTCT', 1),\n",
              " ('TCTAC', 1),\n",
              " ('CTACG', 1),\n",
              " ('TACGT', 1),\n",
              " ('ACGTC', 1),\n",
              " ('CGTCA', 1),\n",
              " ('GTCAC', 1),\n",
              " ('TCACA', 1),\n",
              " ('CACAT', 1),\n",
              " ('ACATG', 1),\n",
              " ('CATGT', 1),\n",
              " ('ATGTT', 1),\n",
              " ('TGTTG', 1),\n",
              " ('AATGG', 1),\n",
              " ('TGTAA', 1),\n",
              " ('GTAAA', 1),\n",
              " ('TATGC', 1),\n",
              " ('ATGCG', 1),\n",
              " ('TGCGG', 1),\n",
              " ('GCGGA', 1),\n",
              " ('CGGAA', 1),\n",
              " ('GGAAA', 1),\n",
              " ('CAATC', 1),\n",
              " ('TCAAA', 1),\n",
              " ('TGCAT', 1),\n",
              " ('GCATT', 1),\n",
              " ('CATTC', 1),\n",
              " ('ATTCC', 1),\n",
              " ('TAAGG', 1),\n",
              " ('GGCAT', 1),\n",
              " ('GCATA', 1),\n",
              " ('TATAG', 1),\n",
              " ('TAGAG', 1),\n",
              " ('AGAGG', 1),\n",
              " ('GAGGC', 1),\n",
              " ('ACAGG', 1),\n",
              " ('CAGGC', 1),\n",
              " ('GGCAA', 1),\n",
              " ('CAATG', 1),\n",
              " ('AATGA', 1),\n",
              " ('ATGAG', 1),\n",
              " ('TGAGT', 1),\n",
              " ('GAGTA', 1),\n",
              " ('GTATC', 1),\n",
              " ('TATCG', 1),\n",
              " ('CGCTC', 1),\n",
              " ('GCTCT', 1),\n",
              " ('CTCTT', 1),\n",
              " ('TTGCT', 1),\n",
              " ('TGCTT', 1),\n",
              " ('GCTTT', 1),\n",
              " ('CTTTg', 1),\n",
              " ('TTTgt', 1),\n",
              " ('TTgtt', 1),\n",
              " ('Tgttt', 1),\n",
              " ('taaag', 1),\n",
              " ('aaagg', 1),\n",
              " ('aaggg', 1),\n",
              " ('agggg', 1),\n",
              " ('ggggg', 1),\n",
              " ('gggag', 1),\n",
              " ('ggagt', 1),\n",
              " ('gagta', 1),\n",
              " ('agtag', 1),\n",
              " ('gtaga', 1),\n",
              " ('tagag', 1),\n",
              " ('agagt', 1),\n",
              " ('ttgtg', 1),\n",
              " ('tgtgg', 1),\n",
              " ('gtggg', 1),\n",
              " ('tgggg', 1),\n",
              " ('gggaa', 1),\n",
              " ('atata', 1),\n",
              " ('ctgac', 1),\n",
              " ('tgact', 1),\n",
              " ('gactc', 1),\n",
              " ('actct', 1),\n",
              " ('ctcta', 1),\n",
              " ('tctaa', 1),\n",
              " ('ttgcc', 1),\n",
              " ('tgccc', 1),\n",
              " ('gcccc', 1),\n",
              " ('cccct', 1),\n",
              " ('tgata', 1),\n",
              " ('gatac', 1),\n",
              " ('atacc', 1),\n",
              " ('taccg', 1),\n",
              " ('accga', 1),\n",
              " ('ccgaa', 1),\n",
              " ('cgaat', 1),\n",
              " ('atcga', 1),\n",
              " ('tcgat', 1),\n",
              " ('cgatg', 1),\n",
              " ('gatgt', 1),\n",
              " ('tccct', 1),\n",
              " ('ataaa', 1),\n",
              " ('attgg', 1),\n",
              " ('tggat', 1),\n",
              " ('ggatg', 1),\n",
              " ('gatgc', 1),\n",
              " ('atgcc', 1),\n",
              " ('tgcct', 1),\n",
              " ('cctat', 1),\n",
              " ('ctata', 1),\n",
              " ('gtgag', 1),\n",
              " ('tgagt', 1),\n",
              " ('taaac', 1),\n",
              " ('aacgc', 1),\n",
              " ('acgca', 1),\n",
              " ('tcccg', 1),\n",
              " ('cccgg', 1),\n",
              " ('ccggc', 1),\n",
              " ('cggca', 1),\n",
              " ('ggcag', 1),\n",
              " ('gcaga', 1),\n",
              " ('cagag', 1),\n",
              " ('agaga', 1),\n",
              " ('gagac', 1),\n",
              " ('agacg', 1),\n",
              " ('gacgc', 1),\n",
              " ('acgcc', 1),\n",
              " ('cgccc', 1)]"
            ]
          },
          "execution_count": 83,
          "metadata": {},
          "output_type": "execute_result"
        }
      ],
      "source": [
        "# TODO 8: Given a small DNA file named dna_small.txt,\n",
        "#         create a module that count continuous patterns of size k in a DNA string."
      ]
    },
    {
      "cell_type": "markdown",
      "metadata": {
        "id": "9r3ayMuwVa_Q"
      },
      "source": [
        "<font color='red'>TODO 9: Improve the solution from TODO 3 to filter for palindrome patterns that occur more than once. Palindrome patterns are sequences that read the same forwards and backwards.</font>\n"
      ]
    },
    {
      "cell_type": "code",
      "execution_count": null,
      "metadata": {
        "colab": {
          "base_uri": "https://localhost:8080/"
        },
        "id": "_pcRXoOef3wx",
        "outputId": "bad1987e-9af7-4e2b-fc21-705f236710e4"
      },
      "outputs": [
        {
          "name": "stdout",
          "output_type": "stream",
          "text": [
            "ttttt\n",
            "aaaaa\n",
            "ttgtt\n",
            "aagaa\n",
            "TTCTT\n",
            "ttctt\n",
            "ttatt\n",
            "ATATA\n",
            "aataa\n",
            "gtttg\n",
            "AATAA\n",
            "TATAT\n",
            "AACAA\n",
            "taaat\n",
            "TTTTT\n",
            "gaaag\n",
            "AAAAA\n",
            "ATCTA\n",
            "TCGCT\n",
            "TAAAT\n",
            "tacat\n",
            "attta\n",
            "tatat\n"
          ]
        }
      ],
      "source": [
        "#TODO 9: To filter for palindrome patterns that occur more than once.\n",
        "#        Palindrome patterns are sequences that read the same forwards and backwards."
      ]
    }
  ],
  "metadata": {
    "colab": {
      "provenance": []
    },
    "kernelspec": {
      "display_name": "base",
      "language": "python",
      "name": "python3"
    },
    "language_info": {
      "codemirror_mode": {
        "name": "ipython",
        "version": 3
      },
      "file_extension": ".py",
      "mimetype": "text/x-python",
      "name": "python",
      "nbconvert_exporter": "python",
      "pygments_lexer": "ipython3",
      "version": "3.13.5"
    }
  },
  "nbformat": 4,
  "nbformat_minor": 0
}
