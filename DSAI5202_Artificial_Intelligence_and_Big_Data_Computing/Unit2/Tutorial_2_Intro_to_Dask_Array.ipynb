{
 "cells": [
  {
   "cell_type": "markdown",
   "metadata": {
    "id": "qaizFzqhNOG8"
   },
   "source": [
    "### First, Setup the local cluster"
   ]
  },
  {
   "cell_type": "code",
   "execution_count": 1,
   "metadata": {
    "collapsed": true,
    "id": "R_jQ9KBcNUMP",
    "jupyter": {
     "outputs_hidden": true
    }
   },
   "outputs": [
    {
     "name": "stderr",
     "output_type": "stream",
     "text": [
      "d:\\Anaconda3\\Anaconda3\\Lib\\site-packages\\distributed\\node.py:187: UserWarning: Port 8787 is already in use.\n",
      "Perhaps you already have a cluster running?\n",
      "Hosting the HTTP server on port 8823 instead\n",
      "  warnings.warn(\n"
     ]
    },
    {
     "data": {
      "text/html": [
       "<div>\n",
       "    <div style=\"width: 24px; height: 24px; background-color: #e1e1e1; border: 3px solid #9D9D9D; border-radius: 5px; position: absolute;\"> </div>\n",
       "    <div style=\"margin-left: 48px;\">\n",
       "        <h3 style=\"margin-bottom: 0px;\">Client</h3>\n",
       "        <p style=\"color: #9D9D9D; margin-bottom: 0px;\">Client-0664c646-961b-11f0-9380-f83dc61b9abf</p>\n",
       "        <table style=\"width: 100%; text-align: left;\">\n",
       "\n",
       "        <tr>\n",
       "        \n",
       "            <td style=\"text-align: left;\"><strong>Connection method:</strong> Cluster object</td>\n",
       "            <td style=\"text-align: left;\"><strong>Cluster type:</strong> distributed.LocalCluster</td>\n",
       "        \n",
       "        </tr>\n",
       "\n",
       "        \n",
       "            <tr>\n",
       "                <td style=\"text-align: left;\">\n",
       "                    <strong>Dashboard: </strong> <a href=\"http://127.0.0.1:8823/status\" target=\"_blank\">http://127.0.0.1:8823/status</a>\n",
       "                </td>\n",
       "                <td style=\"text-align: left;\"></td>\n",
       "            </tr>\n",
       "        \n",
       "\n",
       "        </table>\n",
       "\n",
       "        \n",
       "\n",
       "        \n",
       "            <details>\n",
       "            <summary style=\"margin-bottom: 20px;\"><h3 style=\"display: inline;\">Cluster Info</h3></summary>\n",
       "            <div class=\"jp-RenderedHTMLCommon jp-RenderedHTML jp-mod-trusted jp-OutputArea-output\">\n",
       "    <div style=\"width: 24px; height: 24px; background-color: #e1e1e1; border: 3px solid #9D9D9D; border-radius: 5px; position: absolute;\">\n",
       "    </div>\n",
       "    <div style=\"margin-left: 48px;\">\n",
       "        <h3 style=\"margin-bottom: 0px; margin-top: 0px;\">LocalCluster</h3>\n",
       "        <p style=\"color: #9D9D9D; margin-bottom: 0px;\">dcf9c671</p>\n",
       "        <table style=\"width: 100%; text-align: left;\">\n",
       "            <tr>\n",
       "                <td style=\"text-align: left;\">\n",
       "                    <strong>Dashboard:</strong> <a href=\"http://127.0.0.1:8823/status\" target=\"_blank\">http://127.0.0.1:8823/status</a>\n",
       "                </td>\n",
       "                <td style=\"text-align: left;\">\n",
       "                    <strong>Workers:</strong> 4\n",
       "                </td>\n",
       "            </tr>\n",
       "            <tr>\n",
       "                <td style=\"text-align: left;\">\n",
       "                    <strong>Total threads:</strong> 32\n",
       "                </td>\n",
       "                <td style=\"text-align: left;\">\n",
       "                    <strong>Total memory:</strong> 31.18 GiB\n",
       "                </td>\n",
       "            </tr>\n",
       "            \n",
       "            <tr>\n",
       "    <td style=\"text-align: left;\"><strong>Status:</strong> running</td>\n",
       "    <td style=\"text-align: left;\"><strong>Using processes:</strong> True</td>\n",
       "</tr>\n",
       "\n",
       "            \n",
       "        </table>\n",
       "\n",
       "        <details>\n",
       "            <summary style=\"margin-bottom: 20px;\">\n",
       "                <h3 style=\"display: inline;\">Scheduler Info</h3>\n",
       "            </summary>\n",
       "\n",
       "            <div style=\"\">\n",
       "    <div>\n",
       "        <div style=\"width: 24px; height: 24px; background-color: #FFF7E5; border: 3px solid #FF6132; border-radius: 5px; position: absolute;\"> </div>\n",
       "        <div style=\"margin-left: 48px;\">\n",
       "            <h3 style=\"margin-bottom: 0px;\">Scheduler</h3>\n",
       "            <p style=\"color: #9D9D9D; margin-bottom: 0px;\">Scheduler-9357df02-c999-4073-9bf3-382f45798c9a</p>\n",
       "            <table style=\"width: 100%; text-align: left;\">\n",
       "                <tr>\n",
       "                    <td style=\"text-align: left;\">\n",
       "                        <strong>Comm:</strong> tcp://127.0.0.1:8824\n",
       "                    </td>\n",
       "                    <td style=\"text-align: left;\">\n",
       "                        <strong>Workers:</strong> 4\n",
       "                    </td>\n",
       "                </tr>\n",
       "                <tr>\n",
       "                    <td style=\"text-align: left;\">\n",
       "                        <strong>Dashboard:</strong> <a href=\"http://127.0.0.1:8823/status\" target=\"_blank\">http://127.0.0.1:8823/status</a>\n",
       "                    </td>\n",
       "                    <td style=\"text-align: left;\">\n",
       "                        <strong>Total threads:</strong> 32\n",
       "                    </td>\n",
       "                </tr>\n",
       "                <tr>\n",
       "                    <td style=\"text-align: left;\">\n",
       "                        <strong>Started:</strong> Just now\n",
       "                    </td>\n",
       "                    <td style=\"text-align: left;\">\n",
       "                        <strong>Total memory:</strong> 31.18 GiB\n",
       "                    </td>\n",
       "                </tr>\n",
       "            </table>\n",
       "        </div>\n",
       "    </div>\n",
       "\n",
       "    <details style=\"margin-left: 48px;\">\n",
       "        <summary style=\"margin-bottom: 20px;\">\n",
       "            <h3 style=\"display: inline;\">Workers</h3>\n",
       "        </summary>\n",
       "\n",
       "        \n",
       "        <div style=\"margin-bottom: 20px;\">\n",
       "            <div style=\"width: 24px; height: 24px; background-color: #DBF5FF; border: 3px solid #4CC9FF; border-radius: 5px; position: absolute;\"> </div>\n",
       "            <div style=\"margin-left: 48px;\">\n",
       "            <details>\n",
       "                <summary>\n",
       "                    <h4 style=\"margin-bottom: 0px; display: inline;\">Worker: 0</h4>\n",
       "                </summary>\n",
       "                <table style=\"width: 100%; text-align: left;\">\n",
       "                    <tr>\n",
       "                        <td style=\"text-align: left;\">\n",
       "                            <strong>Comm: </strong> tcp://127.0.0.1:8846\n",
       "                        </td>\n",
       "                        <td style=\"text-align: left;\">\n",
       "                            <strong>Total threads: </strong> 8\n",
       "                        </td>\n",
       "                    </tr>\n",
       "                    <tr>\n",
       "                        <td style=\"text-align: left;\">\n",
       "                            <strong>Dashboard: </strong> <a href=\"http://127.0.0.1:8853/status\" target=\"_blank\">http://127.0.0.1:8853/status</a>\n",
       "                        </td>\n",
       "                        <td style=\"text-align: left;\">\n",
       "                            <strong>Memory: </strong> 7.80 GiB\n",
       "                        </td>\n",
       "                    </tr>\n",
       "                    <tr>\n",
       "                        <td style=\"text-align: left;\">\n",
       "                            <strong>Nanny: </strong> tcp://127.0.0.1:8827\n",
       "                        </td>\n",
       "                        <td style=\"text-align: left;\"></td>\n",
       "                    </tr>\n",
       "                    <tr>\n",
       "                        <td colspan=\"2\" style=\"text-align: left;\">\n",
       "                            <strong>Local directory: </strong> C:\\Users\\11654\\AppData\\Local\\Temp\\dask-scratch-space\\worker-q_kj4f3t\n",
       "                        </td>\n",
       "                    </tr>\n",
       "\n",
       "                    \n",
       "\n",
       "                    \n",
       "\n",
       "                </table>\n",
       "            </details>\n",
       "            </div>\n",
       "        </div>\n",
       "        \n",
       "        <div style=\"margin-bottom: 20px;\">\n",
       "            <div style=\"width: 24px; height: 24px; background-color: #DBF5FF; border: 3px solid #4CC9FF; border-radius: 5px; position: absolute;\"> </div>\n",
       "            <div style=\"margin-left: 48px;\">\n",
       "            <details>\n",
       "                <summary>\n",
       "                    <h4 style=\"margin-bottom: 0px; display: inline;\">Worker: 1</h4>\n",
       "                </summary>\n",
       "                <table style=\"width: 100%; text-align: left;\">\n",
       "                    <tr>\n",
       "                        <td style=\"text-align: left;\">\n",
       "                            <strong>Comm: </strong> tcp://127.0.0.1:8844\n",
       "                        </td>\n",
       "                        <td style=\"text-align: left;\">\n",
       "                            <strong>Total threads: </strong> 8\n",
       "                        </td>\n",
       "                    </tr>\n",
       "                    <tr>\n",
       "                        <td style=\"text-align: left;\">\n",
       "                            <strong>Dashboard: </strong> <a href=\"http://127.0.0.1:8849/status\" target=\"_blank\">http://127.0.0.1:8849/status</a>\n",
       "                        </td>\n",
       "                        <td style=\"text-align: left;\">\n",
       "                            <strong>Memory: </strong> 7.80 GiB\n",
       "                        </td>\n",
       "                    </tr>\n",
       "                    <tr>\n",
       "                        <td style=\"text-align: left;\">\n",
       "                            <strong>Nanny: </strong> tcp://127.0.0.1:8829\n",
       "                        </td>\n",
       "                        <td style=\"text-align: left;\"></td>\n",
       "                    </tr>\n",
       "                    <tr>\n",
       "                        <td colspan=\"2\" style=\"text-align: left;\">\n",
       "                            <strong>Local directory: </strong> C:\\Users\\11654\\AppData\\Local\\Temp\\dask-scratch-space\\worker-_79707h6\n",
       "                        </td>\n",
       "                    </tr>\n",
       "\n",
       "                    \n",
       "\n",
       "                    \n",
       "\n",
       "                </table>\n",
       "            </details>\n",
       "            </div>\n",
       "        </div>\n",
       "        \n",
       "        <div style=\"margin-bottom: 20px;\">\n",
       "            <div style=\"width: 24px; height: 24px; background-color: #DBF5FF; border: 3px solid #4CC9FF; border-radius: 5px; position: absolute;\"> </div>\n",
       "            <div style=\"margin-left: 48px;\">\n",
       "            <details>\n",
       "                <summary>\n",
       "                    <h4 style=\"margin-bottom: 0px; display: inline;\">Worker: 2</h4>\n",
       "                </summary>\n",
       "                <table style=\"width: 100%; text-align: left;\">\n",
       "                    <tr>\n",
       "                        <td style=\"text-align: left;\">\n",
       "                            <strong>Comm: </strong> tcp://127.0.0.1:8845\n",
       "                        </td>\n",
       "                        <td style=\"text-align: left;\">\n",
       "                            <strong>Total threads: </strong> 8\n",
       "                        </td>\n",
       "                    </tr>\n",
       "                    <tr>\n",
       "                        <td style=\"text-align: left;\">\n",
       "                            <strong>Dashboard: </strong> <a href=\"http://127.0.0.1:8847/status\" target=\"_blank\">http://127.0.0.1:8847/status</a>\n",
       "                        </td>\n",
       "                        <td style=\"text-align: left;\">\n",
       "                            <strong>Memory: </strong> 7.80 GiB\n",
       "                        </td>\n",
       "                    </tr>\n",
       "                    <tr>\n",
       "                        <td style=\"text-align: left;\">\n",
       "                            <strong>Nanny: </strong> tcp://127.0.0.1:8831\n",
       "                        </td>\n",
       "                        <td style=\"text-align: left;\"></td>\n",
       "                    </tr>\n",
       "                    <tr>\n",
       "                        <td colspan=\"2\" style=\"text-align: left;\">\n",
       "                            <strong>Local directory: </strong> C:\\Users\\11654\\AppData\\Local\\Temp\\dask-scratch-space\\worker-4a1dqreq\n",
       "                        </td>\n",
       "                    </tr>\n",
       "\n",
       "                    \n",
       "\n",
       "                    \n",
       "\n",
       "                </table>\n",
       "            </details>\n",
       "            </div>\n",
       "        </div>\n",
       "        \n",
       "        <div style=\"margin-bottom: 20px;\">\n",
       "            <div style=\"width: 24px; height: 24px; background-color: #DBF5FF; border: 3px solid #4CC9FF; border-radius: 5px; position: absolute;\"> </div>\n",
       "            <div style=\"margin-left: 48px;\">\n",
       "            <details>\n",
       "                <summary>\n",
       "                    <h4 style=\"margin-bottom: 0px; display: inline;\">Worker: 3</h4>\n",
       "                </summary>\n",
       "                <table style=\"width: 100%; text-align: left;\">\n",
       "                    <tr>\n",
       "                        <td style=\"text-align: left;\">\n",
       "                            <strong>Comm: </strong> tcp://127.0.0.1:8843\n",
       "                        </td>\n",
       "                        <td style=\"text-align: left;\">\n",
       "                            <strong>Total threads: </strong> 8\n",
       "                        </td>\n",
       "                    </tr>\n",
       "                    <tr>\n",
       "                        <td style=\"text-align: left;\">\n",
       "                            <strong>Dashboard: </strong> <a href=\"http://127.0.0.1:8848/status\" target=\"_blank\">http://127.0.0.1:8848/status</a>\n",
       "                        </td>\n",
       "                        <td style=\"text-align: left;\">\n",
       "                            <strong>Memory: </strong> 7.80 GiB\n",
       "                        </td>\n",
       "                    </tr>\n",
       "                    <tr>\n",
       "                        <td style=\"text-align: left;\">\n",
       "                            <strong>Nanny: </strong> tcp://127.0.0.1:8833\n",
       "                        </td>\n",
       "                        <td style=\"text-align: left;\"></td>\n",
       "                    </tr>\n",
       "                    <tr>\n",
       "                        <td colspan=\"2\" style=\"text-align: left;\">\n",
       "                            <strong>Local directory: </strong> C:\\Users\\11654\\AppData\\Local\\Temp\\dask-scratch-space\\worker-dhl37zwq\n",
       "                        </td>\n",
       "                    </tr>\n",
       "\n",
       "                    \n",
       "\n",
       "                    \n",
       "\n",
       "                </table>\n",
       "            </details>\n",
       "            </div>\n",
       "        </div>\n",
       "        \n",
       "\n",
       "    </details>\n",
       "</div>\n",
       "\n",
       "        </details>\n",
       "    </div>\n",
       "</div>\n",
       "            </details>\n",
       "        \n",
       "\n",
       "    </div>\n",
       "</div>"
      ],
      "text/plain": [
       "<Client: 'tcp://127.0.0.1:8824' processes=4 threads=32, memory=31.18 GiB>"
      ]
     },
     "execution_count": 1,
     "metadata": {},
     "output_type": "execute_result"
    }
   ],
   "source": [
    "from dask.distributed import Client\n",
    "\n",
    "client = Client(n_workers=4)\n",
    "client"
   ]
  },
  {
   "cell_type": "markdown",
   "metadata": {
    "id": "g43QCRrfNZT1"
   },
   "source": [
    "**Dask Dashboard**\n",
    "\n",
    "*Please be aware that Google Colab operates on a remote machine for computation; thus, you should use the version of Jupyter Notebook installed on your own computer to access the dashboard.*\n",
    "\n",
    "Dask Distributed provides a useful Dashboard to visualize the state of your cluster and computations.\n",
    "Simply click on the dashboard link displayed in the Client details above: http://127.0.0.1:8787/status. It will open a new browser tab with the Dashboard.\n",
    "\n",
    "We can focus in the status tab which consists of **\"Task Stream\"**, **\"Progress Bar\"**, and **\"Worker Memory\"**"
   ]
  },
  {
   "cell_type": "markdown",
   "metadata": {
    "id": "-NmkbcrxYHKk"
   },
   "source": [
    "### 1. Dask Arrays: Parallelized Numpy"
   ]
  },
  {
   "cell_type": "markdown",
   "metadata": {
    "id": "qKwrY4XCYWvu"
   },
   "source": [
    "Dask Array provides a portion of the NumPy ndarray interface by utilizing blocked algorithms, which divide a large array into multiple smaller arrays. It enables computations on arrays that exceed memory capacity by leveraging all available CPU cores.\n",
    "\n",
    "This section enables us to grasp the underlying mechanisms by implementing some blocked algorithms from scratch."
   ]
  },
  {
   "cell_type": "markdown",
   "metadata": {
    "id": "n2FwhleZYngk"
   },
   "source": [
    "#### 1.1 Blocked Algorithms"
   ]
  },
  {
   "cell_type": "code",
   "execution_count": 2,
   "metadata": {
    "id": "vJL8wX3UYrwc"
   },
   "outputs": [],
   "source": [
    "import numpy as np\n",
    "import dask.array as da"
   ]
  },
  {
   "cell_type": "markdown",
   "metadata": {
    "id": "7ozb1BXpYwZw"
   },
   "source": [
    "To begin, we first create a one-dimensional array containing 20 elements."
   ]
  },
  {
   "cell_type": "code",
   "execution_count": 3,
   "metadata": {
    "colab": {
     "base_uri": "https://localhost:8080/"
    },
    "id": "1eZbNdV7Yk1I",
    "outputId": "0c30dbf6-21ba-4b77-a8c7-cf8ef6cb14cd"
   },
   "outputs": [
    {
     "data": {
      "text/plain": [
       "array([1., 1., 1., 1., 1., 1., 1., 1., 1., 1., 1., 1., 1., 1., 1., 1., 1.,\n",
       "       1., 1., 1.])"
      ]
     },
     "execution_count": 3,
     "metadata": {},
     "output_type": "execute_result"
    }
   ],
   "source": [
    "arr = np.ones(20)\n",
    "arr"
   ]
  },
  {
   "cell_type": "markdown",
   "metadata": {
    "id": "Pt6kTE0hZBHt"
   },
   "source": [
    "To calculate the total of all the elements in the array, we can use the `sum()` function."
   ]
  },
  {
   "cell_type": "code",
   "execution_count": 4,
   "metadata": {
    "colab": {
     "base_uri": "https://localhost:8080/"
    },
    "id": "VlacD3y0ZIRv",
    "outputId": "ca3b3471-2db8-424a-b36a-506ac130eea8"
   },
   "outputs": [
    {
     "name": "stdout",
     "output_type": "stream",
     "text": [
      "20.0\n"
     ]
    }
   ],
   "source": [
    "print(arr.sum())"
   ]
  },
  {
   "cell_type": "markdown",
   "metadata": {
    "id": "Es5f37fdZMP6"
   },
   "source": [
    "However, we can also calculate the sum of the first half of the array and the second half in parallel."
   ]
  },
  {
   "cell_type": "code",
   "execution_count": 5,
   "metadata": {
    "colab": {
     "base_uri": "https://localhost:8080/"
    },
    "id": "TzztTLJ7ZL_J",
    "outputId": "728e0e4f-e7f8-442c-d1d1-88aca5178639"
   },
   "outputs": [
    {
     "name": "stdout",
     "output_type": "stream",
     "text": [
      "20.0\n"
     ]
    }
   ],
   "source": [
    "print(arr[:int(len(arr)/2)].sum() + arr[int(len(arr)/2):].sum())"
   ]
  },
  {
   "cell_type": "markdown",
   "metadata": {
    "id": "OJr_xrrZaFXp"
   },
   "source": [
    "Keep in mind that each sum in the above computation is entirely independent, allowing them to be processed in parallel.\n",
    "\n",
    "To achieve this with a Dask array, we need to define our \"slices\" by specifying the number of elements we want per block using the variable `chunks`."
   ]
  },
  {
   "cell_type": "code",
   "execution_count": 6,
   "metadata": {
    "colab": {
     "base_uri": "https://localhost:8080/",
     "height": 120
    },
    "id": "s7_dmcvzaNMf",
    "outputId": "099b74f0-7756-4710-8995-223b5fa521b0"
   },
   "outputs": [
    {
     "data": {
      "text/html": [
       "<table>\n",
       "    <tr>\n",
       "        <td>\n",
       "            <table style=\"border-collapse: collapse;\">\n",
       "                <thead>\n",
       "                    <tr>\n",
       "                        <td> </td>\n",
       "                        <th> Array </th>\n",
       "                        <th> Chunk </th>\n",
       "                    </tr>\n",
       "                </thead>\n",
       "                <tbody>\n",
       "                    \n",
       "                    <tr>\n",
       "                        <th> Bytes </th>\n",
       "                        <td> 160 B </td>\n",
       "                        <td> 80 B </td>\n",
       "                    </tr>\n",
       "                    \n",
       "                    <tr>\n",
       "                        <th> Shape </th>\n",
       "                        <td> (20,) </td>\n",
       "                        <td> (10,) </td>\n",
       "                    </tr>\n",
       "                    <tr>\n",
       "                        <th> Dask graph </th>\n",
       "                        <td colspan=\"2\"> 2 chunks in 1 graph layer </td>\n",
       "                    </tr>\n",
       "                    <tr>\n",
       "                        <th> Data type </th>\n",
       "                        <td colspan=\"2\"> float64 numpy.ndarray </td>\n",
       "                    </tr>\n",
       "                </tbody>\n",
       "            </table>\n",
       "        </td>\n",
       "        <td>\n",
       "        <svg width=\"170\" height=\"84\" style=\"stroke:rgb(0,0,0);stroke-width:1\" >\n",
       "\n",
       "  <!-- Horizontal lines -->\n",
       "  <line x1=\"0\" y1=\"0\" x2=\"120\" y2=\"0\" style=\"stroke-width:2\" />\n",
       "  <line x1=\"0\" y1=\"34\" x2=\"120\" y2=\"34\" style=\"stroke-width:2\" />\n",
       "\n",
       "  <!-- Vertical lines -->\n",
       "  <line x1=\"0\" y1=\"0\" x2=\"0\" y2=\"34\" style=\"stroke-width:2\" />\n",
       "  <line x1=\"60\" y1=\"0\" x2=\"60\" y2=\"34\" />\n",
       "  <line x1=\"120\" y1=\"0\" x2=\"120\" y2=\"34\" style=\"stroke-width:2\" />\n",
       "\n",
       "  <!-- Colored Rectangle -->\n",
       "  <polygon points=\"0.0,0.0 120.0,0.0 120.0,34.50101617379934 0.0,34.50101617379934\" style=\"fill:#ECB172A0;stroke-width:0\"/>\n",
       "\n",
       "  <!-- Text -->\n",
       "  <text x=\"60.000000\" y=\"54.501016\" font-size=\"1.0rem\" font-weight=\"100\" text-anchor=\"middle\" >20</text>\n",
       "  <text x=\"140.000000\" y=\"17.250508\" font-size=\"1.0rem\" font-weight=\"100\" text-anchor=\"middle\" transform=\"rotate(0,140.000000,17.250508)\">1</text>\n",
       "</svg>\n",
       "        </td>\n",
       "    </tr>\n",
       "</table>"
      ],
      "text/plain": [
       "dask.array<ones_like, shape=(20,), dtype=float64, chunksize=(10,), chunktype=numpy.ndarray>"
      ]
     },
     "execution_count": 6,
     "metadata": {},
     "output_type": "execute_result"
    }
   ],
   "source": [
    "arr_da = da.ones(20, chunks=10)\n",
    "arr_da"
   ]
  },
  {
   "cell_type": "markdown",
   "metadata": {
    "id": "_Fm58wiyaX0-"
   },
   "source": [
    "From the output above, we can observe that there are two blocks. By specifying chunks=10, we indicate that each block contains 10 elements."
   ]
  },
  {
   "cell_type": "code",
   "execution_count": 7,
   "metadata": {
    "colab": {
     "base_uri": "https://localhost:8080/",
     "height": 120
    },
    "id": "Sg2th7niag5K",
    "outputId": "da887f22-238b-4dc7-c7ca-fba8fd160f1b"
   },
   "outputs": [
    {
     "data": {
      "text/html": [
       "<table>\n",
       "    <tr>\n",
       "        <td>\n",
       "            <table style=\"border-collapse: collapse;\">\n",
       "                <thead>\n",
       "                    <tr>\n",
       "                        <td> </td>\n",
       "                        <th> Array </th>\n",
       "                        <th> Chunk </th>\n",
       "                    </tr>\n",
       "                </thead>\n",
       "                <tbody>\n",
       "                    \n",
       "                    <tr>\n",
       "                        <th> Bytes </th>\n",
       "                        <td> 8 B </td>\n",
       "                        <td> 8 B </td>\n",
       "                    </tr>\n",
       "                    \n",
       "                    <tr>\n",
       "                        <th> Shape </th>\n",
       "                        <td> () </td>\n",
       "                        <td> () </td>\n",
       "                    </tr>\n",
       "                    <tr>\n",
       "                        <th> Dask graph </th>\n",
       "                        <td colspan=\"2\"> 1 chunks in 3 graph layers </td>\n",
       "                    </tr>\n",
       "                    <tr>\n",
       "                        <th> Data type </th>\n",
       "                        <td colspan=\"2\"> float64 numpy.ndarray </td>\n",
       "                    </tr>\n",
       "                </tbody>\n",
       "            </table>\n",
       "        </td>\n",
       "        <td>\n",
       "        \n",
       "        </td>\n",
       "    </tr>\n",
       "</table>"
      ],
      "text/plain": [
       "dask.array<sum-aggregate, shape=(), dtype=float64, chunksize=(), chunktype=numpy.ndarray>"
      ]
     },
     "execution_count": 7,
     "metadata": {},
     "output_type": "execute_result"
    }
   ],
   "source": [
    "arr_da_sum = arr_da.sum()\n",
    "arr_da_sum"
   ]
  },
  {
   "cell_type": "markdown",
   "metadata": {
    "id": "MujyTq9hajdq"
   },
   "source": [
    "The result did not display any output. Since Dask employs lazy evaluation, it first constructs the representation's structure. We  often referred this as lazy output."
   ]
  },
  {
   "cell_type": "markdown",
   "metadata": {
    "id": "eFooLGHNamd5"
   },
   "source": [
    "#### 1.2 Task Graph"
   ]
  },
  {
   "cell_type": "markdown",
   "metadata": {
    "id": "pSHbIaTbbI9y"
   },
   "source": [
    "In Dask, we utilize task scheduling to divide our program into smaller computational tasks.\n",
    "\n",
    "These tasks are represented as nodes in a graph, with edges connecting nodes when one task relies on data generated by another.\n",
    "\n",
    "A task scheduler is then employed to execute this graph, ensuring that data dependencies are maintained while maximizing parallelism, allowing multiple independent tasks to run simultaneously."
   ]
  },
  {
   "cell_type": "code",
   "execution_count": 8,
   "metadata": {
    "colab": {
     "base_uri": "https://localhost:8080/",
     "height": 802
    },
    "id": "m2XWDDVSauJB",
    "outputId": "809e0083-3388-40fc-b4ce-50bec30f360b"
   },
   "outputs": [
    {
     "data": {
      "image/png": "[encoded data removed]",
      "text/plain": [
       "<IPython.core.display.Image object>"
      ]
     },
     "execution_count": 8,
     "metadata": {},
     "output_type": "execute_result"
    }
   ],
   "source": [
    "arr_da_sum.visualize()"
   ]
  },
  {
   "cell_type": "code",
   "execution_count": 9,
   "metadata": {
    "colab": {
     "base_uri": "https://localhost:8080/"
    },
    "id": "m23EGm6tat_Z",
    "outputId": "3c92aa0e-942d-40b5-a6e4-fa5983e831e1"
   },
   "outputs": [
    {
     "name": "stdout",
     "output_type": "stream",
     "text": [
      "20.0\n"
     ]
    }
   ],
   "source": [
    "print(arr_da_sum.compute())"
   ]
  },
  {
   "cell_type": "markdown",
   "metadata": {
    "id": "mDjOQjedatGx"
   },
   "source": [
    "#### 1.3 Performance Comparison (20 marks)"
   ]
  },
  {
   "cell_type": "markdown",
   "metadata": {
    "id": "QMLPzyUraqiG"
   },
   "source": [
    "Next, we will create a larger array (20000 x 20000) filled with normally distributed values and calculate the mean along one of its axes. We will then compare the performance of NumPy and Dask arrays."
   ]
  },
  {
   "cell_type": "code",
   "execution_count": 10,
   "metadata": {
    "colab": {
     "base_uri": "https://localhost:8080/"
    },
    "id": "pr5Fe6KJb7E9",
    "outputId": "9bb2f576-5b60-4ffd-8806-1aa75f78709f"
   },
   "outputs": [
    {
     "name": "stdout",
     "output_type": "stream",
     "text": [
      "CPU times: total: 13.9 s\n",
      "Wall time: 13.2 s\n"
     ]
    },
    {
     "data": {
      "text/plain": [
       "array([19.99928791, 19.9997869 , 19.99844282, ..., 19.99921512,\n",
       "       20.00039571, 19.99959805])"
      ]
     },
     "execution_count": 10,
     "metadata": {},
     "output_type": "execute_result"
    }
   ],
   "source": [
    "%%time\n",
    "large_arr = np.random.normal(20, 0.1, size=(20000, 20000))\n",
    "large_arr_mean = large_arr.mean(axis=0)\n",
    "large_arr_mean"
   ]
  },
  {
   "cell_type": "markdown",
   "metadata": {
    "id": "FcT8NZiccfUD"
   },
   "source": [
    "Next, we will explore the Dask implementation."
   ]
  },
  {
   "cell_type": "code",
   "execution_count": 11,
   "metadata": {
    "colab": {
     "base_uri": "https://localhost:8080/",
     "height": 197
    },
    "id": "bwrBJU3vcfE5",
    "outputId": "affee58e-2042-424f-e139-b907d96908a0"
   },
   "outputs": [
    {
     "data": {
      "text/html": [
       "<table>\n",
       "    <tr>\n",
       "        <td>\n",
       "            <table style=\"border-collapse: collapse;\">\n",
       "                <thead>\n",
       "                    <tr>\n",
       "                        <td> </td>\n",
       "                        <th> Array </th>\n",
       "                        <th> Chunk </th>\n",
       "                    </tr>\n",
       "                </thead>\n",
       "                <tbody>\n",
       "                    \n",
       "                    <tr>\n",
       "                        <th> Bytes </th>\n",
       "                        <td> 2.98 GiB </td>\n",
       "                        <td> 30.52 MiB </td>\n",
       "                    </tr>\n",
       "                    \n",
       "                    <tr>\n",
       "                        <th> Shape </th>\n",
       "                        <td> (20000, 20000) </td>\n",
       "                        <td> (2000, 2000) </td>\n",
       "                    </tr>\n",
       "                    <tr>\n",
       "                        <th> Dask graph </th>\n",
       "                        <td colspan=\"2\"> 100 chunks in 1 graph layer </td>\n",
       "                    </tr>\n",
       "                    <tr>\n",
       "                        <th> Data type </th>\n",
       "                        <td colspan=\"2\"> float64 numpy.ndarray </td>\n",
       "                    </tr>\n",
       "                </tbody>\n",
       "            </table>\n",
       "        </td>\n",
       "        <td>\n",
       "        <svg width=\"170\" height=\"170\" style=\"stroke:rgb(0,0,0);stroke-width:1\" >\n",
       "\n",
       "  <!-- Horizontal lines -->\n",
       "  <line x1=\"0\" y1=\"0\" x2=\"120\" y2=\"0\" style=\"stroke-width:2\" />\n",
       "  <line x1=\"0\" y1=\"12\" x2=\"120\" y2=\"12\" />\n",
       "  <line x1=\"0\" y1=\"24\" x2=\"120\" y2=\"24\" />\n",
       "  <line x1=\"0\" y1=\"36\" x2=\"120\" y2=\"36\" />\n",
       "  <line x1=\"0\" y1=\"48\" x2=\"120\" y2=\"48\" />\n",
       "  <line x1=\"0\" y1=\"60\" x2=\"120\" y2=\"60\" />\n",
       "  <line x1=\"0\" y1=\"72\" x2=\"120\" y2=\"72\" />\n",
       "  <line x1=\"0\" y1=\"84\" x2=\"120\" y2=\"84\" />\n",
       "  <line x1=\"0\" y1=\"96\" x2=\"120\" y2=\"96\" />\n",
       "  <line x1=\"0\" y1=\"108\" x2=\"120\" y2=\"108\" />\n",
       "  <line x1=\"0\" y1=\"120\" x2=\"120\" y2=\"120\" style=\"stroke-width:2\" />\n",
       "\n",
       "  <!-- Vertical lines -->\n",
       "  <line x1=\"0\" y1=\"0\" x2=\"0\" y2=\"120\" style=\"stroke-width:2\" />\n",
       "  <line x1=\"12\" y1=\"0\" x2=\"12\" y2=\"120\" />\n",
       "  <line x1=\"24\" y1=\"0\" x2=\"24\" y2=\"120\" />\n",
       "  <line x1=\"36\" y1=\"0\" x2=\"36\" y2=\"120\" />\n",
       "  <line x1=\"48\" y1=\"0\" x2=\"48\" y2=\"120\" />\n",
       "  <line x1=\"60\" y1=\"0\" x2=\"60\" y2=\"120\" />\n",
       "  <line x1=\"72\" y1=\"0\" x2=\"72\" y2=\"120\" />\n",
       "  <line x1=\"84\" y1=\"0\" x2=\"84\" y2=\"120\" />\n",
       "  <line x1=\"96\" y1=\"0\" x2=\"96\" y2=\"120\" />\n",
       "  <line x1=\"108\" y1=\"0\" x2=\"108\" y2=\"120\" />\n",
       "  <line x1=\"120\" y1=\"0\" x2=\"120\" y2=\"120\" style=\"stroke-width:2\" />\n",
       "\n",
       "  <!-- Colored Rectangle -->\n",
       "  <polygon points=\"0.0,0.0 120.0,0.0 120.0,120.0 0.0,120.0\" style=\"fill:#ECB172A0;stroke-width:0\"/>\n",
       "\n",
       "  <!-- Text -->\n",
       "  <text x=\"60.000000\" y=\"140.000000\" font-size=\"1.0rem\" font-weight=\"100\" text-anchor=\"middle\" >20000</text>\n",
       "  <text x=\"140.000000\" y=\"60.000000\" font-size=\"1.0rem\" font-weight=\"100\" text-anchor=\"middle\" transform=\"rotate(-90,140.000000,60.000000)\">20000</text>\n",
       "</svg>\n",
       "        </td>\n",
       "    </tr>\n",
       "</table>"
      ],
      "text/plain": [
       "dask.array<normal, shape=(20000, 20000), dtype=float64, chunksize=(2000, 2000), chunktype=numpy.ndarray>"
      ]
     },
     "execution_count": 11,
     "metadata": {},
     "output_type": "execute_result"
    }
   ],
   "source": [
    "dask_arr = da.random.normal(20, 0.1, size=(20000, 20000), chunks=(2000,2000))\n",
    "dask_arr"
   ]
  },
  {
   "cell_type": "code",
   "execution_count": 12,
   "metadata": {
    "colab": {
     "base_uri": "https://localhost:8080/",
     "height": 120
    },
    "id": "u54f76xjczkY",
    "outputId": "78bbeae9-cb3a-46b6-c155-89947b32166b"
   },
   "outputs": [
    {
     "data": {
      "text/html": [
       "<table>\n",
       "    <tr>\n",
       "        <td>\n",
       "            <table style=\"border-collapse: collapse;\">\n",
       "                <thead>\n",
       "                    <tr>\n",
       "                        <td> </td>\n",
       "                        <th> Array </th>\n",
       "                        <th> Chunk </th>\n",
       "                    </tr>\n",
       "                </thead>\n",
       "                <tbody>\n",
       "                    \n",
       "                    <tr>\n",
       "                        <th> Bytes </th>\n",
       "                        <td> 156.25 kiB </td>\n",
       "                        <td> 15.62 kiB </td>\n",
       "                    </tr>\n",
       "                    \n",
       "                    <tr>\n",
       "                        <th> Shape </th>\n",
       "                        <td> (20000,) </td>\n",
       "                        <td> (2000,) </td>\n",
       "                    </tr>\n",
       "                    <tr>\n",
       "                        <th> Dask graph </th>\n",
       "                        <td colspan=\"2\"> 10 chunks in 4 graph layers </td>\n",
       "                    </tr>\n",
       "                    <tr>\n",
       "                        <th> Data type </th>\n",
       "                        <td colspan=\"2\"> float64 numpy.ndarray </td>\n",
       "                    </tr>\n",
       "                </tbody>\n",
       "            </table>\n",
       "        </td>\n",
       "        <td>\n",
       "        <svg width=\"170\" height=\"75\" style=\"stroke:rgb(0,0,0);stroke-width:1\" >\n",
       "\n",
       "  <!-- Horizontal lines -->\n",
       "  <line x1=\"0\" y1=\"0\" x2=\"120\" y2=\"0\" style=\"stroke-width:2\" />\n",
       "  <line x1=\"0\" y1=\"25\" x2=\"120\" y2=\"25\" style=\"stroke-width:2\" />\n",
       "\n",
       "  <!-- Vertical lines -->\n",
       "  <line x1=\"0\" y1=\"0\" x2=\"0\" y2=\"25\" style=\"stroke-width:2\" />\n",
       "  <line x1=\"12\" y1=\"0\" x2=\"12\" y2=\"25\" />\n",
       "  <line x1=\"24\" y1=\"0\" x2=\"24\" y2=\"25\" />\n",
       "  <line x1=\"36\" y1=\"0\" x2=\"36\" y2=\"25\" />\n",
       "  <line x1=\"48\" y1=\"0\" x2=\"48\" y2=\"25\" />\n",
       "  <line x1=\"60\" y1=\"0\" x2=\"60\" y2=\"25\" />\n",
       "  <line x1=\"72\" y1=\"0\" x2=\"72\" y2=\"25\" />\n",
       "  <line x1=\"84\" y1=\"0\" x2=\"84\" y2=\"25\" />\n",
       "  <line x1=\"96\" y1=\"0\" x2=\"96\" y2=\"25\" />\n",
       "  <line x1=\"108\" y1=\"0\" x2=\"108\" y2=\"25\" />\n",
       "  <line x1=\"120\" y1=\"0\" x2=\"120\" y2=\"25\" style=\"stroke-width:2\" />\n",
       "\n",
       "  <!-- Colored Rectangle -->\n",
       "  <polygon points=\"0.0,0.0 120.0,0.0 120.0,25.412616514582485 0.0,25.412616514582485\" style=\"fill:#ECB172A0;stroke-width:0\"/>\n",
       "\n",
       "  <!-- Text -->\n",
       "  <text x=\"60.000000\" y=\"45.412617\" font-size=\"1.0rem\" font-weight=\"100\" text-anchor=\"middle\" >20000</text>\n",
       "  <text x=\"140.000000\" y=\"12.706308\" font-size=\"1.0rem\" font-weight=\"100\" text-anchor=\"middle\" transform=\"rotate(0,140.000000,12.706308)\">1</text>\n",
       "</svg>\n",
       "        </td>\n",
       "    </tr>\n",
       "</table>"
      ],
      "text/plain": [
       "dask.array<mean_agg-aggregate, shape=(20000,), dtype=float64, chunksize=(2000,), chunktype=numpy.ndarray>"
      ]
     },
     "execution_count": 12,
     "metadata": {},
     "output_type": "execute_result"
    }
   ],
   "source": [
    "dask_arr_mean = dask_arr.mean(axis=0)\n",
    "dask_arr_mean"
   ]
  },
  {
   "cell_type": "markdown",
   "metadata": {
    "id": "GUTyDhTvkti8"
   },
   "source": [
    "We can now compare the performance of the NumPy and Dask implementations."
   ]
  },
  {
   "cell_type": "code",
   "execution_count": 13,
   "metadata": {
    "colab": {
     "base_uri": "https://localhost:8080/"
    },
    "id": "m9z_3wLhdDi5",
    "outputId": "a3aacef0-df16-47ec-f1e9-aa7a64e4ef21"
   },
   "outputs": [
    {
     "name": "stdout",
     "output_type": "stream",
     "text": [
      "CPU times: total: 422 ms\n",
      "Wall time: 1.27 s\n"
     ]
    }
   ],
   "source": [
    "%%time\n",
    "dask_arr = da.random.normal(20, 0.1, size=(20000, 20000), chunks=(2000,2000))\n",
    "dask_arr_mean = dask_arr.mean(axis=0).compute()"
   ]
  },
  {
   "cell_type": "code",
   "execution_count": 14,
   "metadata": {
    "colab": {
     "base_uri": "https://localhost:8080/"
    },
    "id": "dQkeb2lddatu",
    "outputId": "86409755-6115-484f-814e-0545599f78b9"
   },
   "outputs": [],
   "source": [
    "#TODO 1: Repeat the tasks above with the chunks size (10000,10000)\n",
    "dask_arr_10000 = da.random.normal(20, 0.1, size = (20000, 20000), chunks = (10000,10000))\n",
    "dask_arr_10000_mean = dask_arr.mean(axis = 0)"
   ]
  },
  {
   "cell_type": "code",
   "execution_count": 15,
   "metadata": {},
   "outputs": [
    {
     "name": "stdout",
     "output_type": "stream",
     "text": [
      "CPU times: total: 484 ms\n",
      "Wall time: 1.03 s\n"
     ]
    }
   ],
   "source": [
    "%%time\n",
    "dask_arr_10000 = da.random.normal(20, 0.1, size = (20000, 20000), chunks = (2000,2000))\n",
    "dask_arr_10000_mean = dask_arr_10000.mean(axis = 0).compute()"
   ]
  },
  {
   "cell_type": "code",
   "execution_count": 16,
   "metadata": {
    "colab": {
     "base_uri": "https://localhost:8080/"
    },
    "id": "DuC1EWVgdi-U",
    "outputId": "975f8f99-ff48-44e0-9250-5a9083ea8efb",
    "scrolled": true
   },
   "outputs": [],
   "source": [
    "#TODO 2: Repeat the tasks above with the chunks size (30,30)\n",
    "#        Using CoLab for this execution might consume all available memory and cause the session to crash.\n",
    "dask_arr_30 = da.random.normal(20, 0.1, size = (20000, 20000), chunks = (30,30))\n",
    "dask_arr_30_mean = dask_arr_30.mean(axis = 0)"
   ]
  },
  {
   "cell_type": "code",
   "execution_count": 17,
   "metadata": {},
   "outputs": [
    {
     "name": "stdout",
     "output_type": "stream",
     "text": [
      "CPU times: total: 422 ms\n",
      "Wall time: 932 ms\n"
     ]
    }
   ],
   "source": [
    "%%time\n",
    "dask_arr_10000 = da.random.normal(20, 0.1, size = (20000, 20000), chunks = (2000,2000))\n",
    "dask_arr_10000_mean = dask_arr_10000.mean(axis = 0).compute()"
   ]
  },
  {
   "cell_type": "code",
   "execution_count": 18,
   "metadata": {
    "colab": {
     "base_uri": "https://localhost:8080/"
    },
    "id": "zJhGSsI_duCJ",
    "outputId": "3a43ae19-24fb-4f52-f497-79cd250528fc"
   },
   "outputs": [
    {
     "name": "stdout",
     "output_type": "stream",
     "text": [
      "[[39.94525808 39.9571572  39.98070688 ... 40.01967644 39.98813309\n",
      "  40.06898153]\n",
      " [39.9571572  40.01213515 40.05844407 ... 39.97786259 39.85720765\n",
      "  39.87538515]\n",
      " [39.98070688 40.05844407 39.90847092 ... 39.87132547 39.97055165\n",
      "  39.95920138]\n",
      " ...\n",
      " [40.01967644 39.97786259 39.87132547 ... 39.86709717 40.10598027\n",
      "  39.844225  ]\n",
      " [39.98813309 39.85720765 39.97055165 ... 40.10598027 40.20286095\n",
      "  39.92071694]\n",
      " [40.06898153 39.87538515 39.95920138 ... 39.844225   39.92071694\n",
      "  40.11298767]]\n",
      "40.00000995025166\n"
     ]
    }
   ],
   "source": [
    "#TODO 3: Let's calculate the sum of dask_arr and its transpose (dask_arr.T), (10 marks)\n",
    "#.       and then determine the mean of that sum.\n",
    "dask_arr_sum = dask_arr + dask_arr.T\n",
    "dask_arr_sum_mean = dask_arr_sum.mean()\n",
    "print(dask_arr_sum.compute())\n",
    "print(dask_arr_sum_mean.compute())"
   ]
  },
  {
   "cell_type": "markdown",
   "metadata": {
    "id": "eEQrWt52eqPM"
   },
   "source": [
    "**The size of the chunk is important.**\n",
    "\n",
    "> A common challenge when starting with Dask arrays is figuring out what constitutes an appropriate chunk size. But what is considered a good size, and how can we determine it?\n",
    "\n"
   ]
  },
  {
   "cell_type": "markdown",
   "metadata": {
    "id": "-ED03T9ve3EY"
   },
   "source": [
    "We can view Dask arrays as a large structure made up of smaller chunks, with each chunk typically being a single NumPy array. These chunks are organized together to create a larger Dask array.\n",
    "\n",
    "If you have a Dask array and want to learn more about its chunks and their sizes, you can access this information using the chunksize and chunks attributes.\n",
    "\n",
    "Additionally, if you're using a Jupyter notebook, you can visualize the Dask array through its HTML representation.\n",
    "\n"
   ]
  },
  {
   "cell_type": "code",
   "execution_count": 19,
   "metadata": {
    "colab": {
     "base_uri": "https://localhost:8080/",
     "height": 267
    },
    "id": "YQvySq82e9sK",
    "outputId": "33090e4f-815e-450f-8205-f8a2f6d54c6d"
   },
   "outputs": [
    {
     "data": {
      "text/html": [
       "<table>\n",
       "    <tr>\n",
       "        <td>\n",
       "            <table style=\"border-collapse: collapse;\">\n",
       "                <thead>\n",
       "                    <tr>\n",
       "                        <td> </td>\n",
       "                        <th> Array </th>\n",
       "                        <th> Chunk </th>\n",
       "                    </tr>\n",
       "                </thead>\n",
       "                <tbody>\n",
       "                    \n",
       "                    <tr>\n",
       "                        <th> Bytes </th>\n",
       "                        <td> 7.45 GiB </td>\n",
       "                        <td> 126.51 MiB </td>\n",
       "                    </tr>\n",
       "                    \n",
       "                    <tr>\n",
       "                        <th> Shape </th>\n",
       "                        <td> (1000, 1000, 1000) </td>\n",
       "                        <td> (255, 255, 255) </td>\n",
       "                    </tr>\n",
       "                    <tr>\n",
       "                        <th> Dask graph </th>\n",
       "                        <td colspan=\"2\"> 64 chunks in 1 graph layer </td>\n",
       "                    </tr>\n",
       "                    <tr>\n",
       "                        <th> Data type </th>\n",
       "                        <td colspan=\"2\"> float64 numpy.ndarray </td>\n",
       "                    </tr>\n",
       "                </tbody>\n",
       "            </table>\n",
       "        </td>\n",
       "        <td>\n",
       "        <svg width=\"250\" height=\"240\" style=\"stroke:rgb(0,0,0);stroke-width:1\" >\n",
       "\n",
       "  <!-- Horizontal lines -->\n",
       "  <line x1=\"10\" y1=\"0\" x2=\"80\" y2=\"70\" style=\"stroke-width:2\" />\n",
       "  <line x1=\"10\" y1=\"30\" x2=\"80\" y2=\"101\" />\n",
       "  <line x1=\"10\" y1=\"61\" x2=\"80\" y2=\"131\" />\n",
       "  <line x1=\"10\" y1=\"91\" x2=\"80\" y2=\"162\" />\n",
       "  <line x1=\"10\" y1=\"120\" x2=\"80\" y2=\"190\" style=\"stroke-width:2\" />\n",
       "\n",
       "  <!-- Vertical lines -->\n",
       "  <line x1=\"10\" y1=\"0\" x2=\"10\" y2=\"120\" style=\"stroke-width:2\" />\n",
       "  <line x1=\"28\" y1=\"18\" x2=\"28\" y2=\"138\" />\n",
       "  <line x1=\"46\" y1=\"36\" x2=\"46\" y2=\"156\" />\n",
       "  <line x1=\"64\" y1=\"54\" x2=\"64\" y2=\"174\" />\n",
       "  <line x1=\"80\" y1=\"70\" x2=\"80\" y2=\"190\" style=\"stroke-width:2\" />\n",
       "\n",
       "  <!-- Colored Rectangle -->\n",
       "  <polygon points=\"10.0,0.0 80.58823529411765,70.58823529411765 80.58823529411765,190.58823529411765 10.0,120.0\" style=\"fill:#ECB172A0;stroke-width:0\"/>\n",
       "\n",
       "  <!-- Horizontal lines -->\n",
       "  <line x1=\"10\" y1=\"0\" x2=\"130\" y2=\"0\" style=\"stroke-width:2\" />\n",
       "  <line x1=\"28\" y1=\"18\" x2=\"148\" y2=\"18\" />\n",
       "  <line x1=\"46\" y1=\"36\" x2=\"166\" y2=\"36\" />\n",
       "  <line x1=\"64\" y1=\"54\" x2=\"184\" y2=\"54\" />\n",
       "  <line x1=\"80\" y1=\"70\" x2=\"200\" y2=\"70\" style=\"stroke-width:2\" />\n",
       "\n",
       "  <!-- Vertical lines -->\n",
       "  <line x1=\"10\" y1=\"0\" x2=\"80\" y2=\"70\" style=\"stroke-width:2\" />\n",
       "  <line x1=\"40\" y1=\"0\" x2=\"111\" y2=\"70\" />\n",
       "  <line x1=\"71\" y1=\"0\" x2=\"141\" y2=\"70\" />\n",
       "  <line x1=\"101\" y1=\"0\" x2=\"172\" y2=\"70\" />\n",
       "  <line x1=\"130\" y1=\"0\" x2=\"200\" y2=\"70\" style=\"stroke-width:2\" />\n",
       "\n",
       "  <!-- Colored Rectangle -->\n",
       "  <polygon points=\"10.0,0.0 130.0,0.0 200.58823529411765,70.58823529411765 80.58823529411765,70.58823529411765\" style=\"fill:#ECB172A0;stroke-width:0\"/>\n",
       "\n",
       "  <!-- Horizontal lines -->\n",
       "  <line x1=\"80\" y1=\"70\" x2=\"200\" y2=\"70\" style=\"stroke-width:2\" />\n",
       "  <line x1=\"80\" y1=\"101\" x2=\"200\" y2=\"101\" />\n",
       "  <line x1=\"80\" y1=\"131\" x2=\"200\" y2=\"131\" />\n",
       "  <line x1=\"80\" y1=\"162\" x2=\"200\" y2=\"162\" />\n",
       "  <line x1=\"80\" y1=\"190\" x2=\"200\" y2=\"190\" style=\"stroke-width:2\" />\n",
       "\n",
       "  <!-- Vertical lines -->\n",
       "  <line x1=\"80\" y1=\"70\" x2=\"80\" y2=\"190\" style=\"stroke-width:2\" />\n",
       "  <line x1=\"111\" y1=\"70\" x2=\"111\" y2=\"190\" />\n",
       "  <line x1=\"141\" y1=\"70\" x2=\"141\" y2=\"190\" />\n",
       "  <line x1=\"172\" y1=\"70\" x2=\"172\" y2=\"190\" />\n",
       "  <line x1=\"200\" y1=\"70\" x2=\"200\" y2=\"190\" style=\"stroke-width:2\" />\n",
       "\n",
       "  <!-- Colored Rectangle -->\n",
       "  <polygon points=\"80.58823529411765,70.58823529411765 200.58823529411765,70.58823529411765 200.58823529411765,190.58823529411765 80.58823529411765,190.58823529411765\" style=\"fill:#ECB172A0;stroke-width:0\"/>\n",
       "\n",
       "  <!-- Text -->\n",
       "  <text x=\"140.588235\" y=\"210.588235\" font-size=\"1.0rem\" font-weight=\"100\" text-anchor=\"middle\" >1000</text>\n",
       "  <text x=\"220.588235\" y=\"130.588235\" font-size=\"1.0rem\" font-weight=\"100\" text-anchor=\"middle\" transform=\"rotate(-90,220.588235,130.588235)\">1000</text>\n",
       "  <text x=\"35.294118\" y=\"175.294118\" font-size=\"1.0rem\" font-weight=\"100\" text-anchor=\"middle\" transform=\"rotate(45,35.294118,175.294118)\">1000</text>\n",
       "</svg>\n",
       "        </td>\n",
       "    </tr>\n",
       "</table>"
      ],
      "text/plain": [
       "dask.array<random_sample, shape=(1000, 1000, 1000), dtype=float64, chunksize=(255, 255, 255), chunktype=numpy.ndarray>"
      ]
     },
     "execution_count": 19,
     "metadata": {},
     "output_type": "execute_result"
    }
   ],
   "source": [
    "dask_arr = da.random.random((1000, 1000, 1000))\n",
    "dask_arr"
   ]
  },
  {
   "cell_type": "markdown",
   "metadata": {
    "id": "A5-rTVIYfFUO"
   },
   "source": [
    "Notice that if we don't specify the chunk sizes, Dask defaults to chunks='auto', which optimizes the chunk sizes automatically."
   ]
  },
  {
   "cell_type": "code",
   "execution_count": 20,
   "metadata": {
    "colab": {
     "base_uri": "https://localhost:8080/"
    },
    "id": "46zMnczUfEy4",
    "outputId": "dba9d34d-7c77-4e6e-c124-bb0f510e7efe"
   },
   "outputs": [
    {
     "data": {
      "text/plain": [
       "(255, 255, 255)"
      ]
     },
     "execution_count": 20,
     "metadata": {},
     "output_type": "execute_result"
    }
   ],
   "source": [
    "#dask_arr.chunksize shows the largest chunk size.\n",
    "\n",
    "dask_arr.chunksize"
   ]
  },
  {
   "cell_type": "code",
   "execution_count": 21,
   "metadata": {
    "colab": {
     "base_uri": "https://localhost:8080/"
    },
    "id": "iE2CSkWHfVYY",
    "outputId": "e41ed06f-0a9f-47e1-91d1-7e3e9ba1f3b1"
   },
   "outputs": [
    {
     "data": {
      "text/plain": [
       "((255, 255, 255, 235), (255, 255, 255, 235), (255, 255, 255, 235))"
      ]
     },
     "execution_count": 21,
     "metadata": {},
     "output_type": "execute_result"
    }
   ],
   "source": [
    "# if your array have irregular chunks,\n",
    "# darr.chunks will show you the explicit sizes of all the chunks\n",
    "# along all the dimensions of your dask array.\n",
    "\n",
    "dask_arr.chunks"
   ]
  },
  {
   "cell_type": "markdown",
   "metadata": {
    "id": "A6mA-2hAfpWt"
   },
   "source": [
    "Let’s adjust our example to further explore chunking. We can rechunk our array as follows:"
   ]
  },
  {
   "cell_type": "code",
   "execution_count": 22,
   "metadata": {
    "colab": {
     "base_uri": "https://localhost:8080/",
     "height": 267
    },
    "id": "inepA8JOfqi1",
    "outputId": "ea587144-d4b6-42db-8dfc-c7aaca7f527d"
   },
   "outputs": [
    {
     "data": {
      "text/html": [
       "<table>\n",
       "    <tr>\n",
       "        <td>\n",
       "            <table style=\"border-collapse: collapse;\">\n",
       "                <thead>\n",
       "                    <tr>\n",
       "                        <td> </td>\n",
       "                        <th> Array </th>\n",
       "                        <th> Chunk </th>\n",
       "                    </tr>\n",
       "                </thead>\n",
       "                <tbody>\n",
       "                    \n",
       "                    <tr>\n",
       "                        <th> Bytes </th>\n",
       "                        <td> 7.45 GiB </td>\n",
       "                        <td> 127.41 MiB </td>\n",
       "                    </tr>\n",
       "                    \n",
       "                    <tr>\n",
       "                        <th> Shape </th>\n",
       "                        <td> (1000, 1000, 1000) </td>\n",
       "                        <td> (1000, 100, 167) </td>\n",
       "                    </tr>\n",
       "                    <tr>\n",
       "                        <th> Dask graph </th>\n",
       "                        <td colspan=\"2\"> 60 chunks in 2 graph layers </td>\n",
       "                    </tr>\n",
       "                    <tr>\n",
       "                        <th> Data type </th>\n",
       "                        <td colspan=\"2\"> float64 numpy.ndarray </td>\n",
       "                    </tr>\n",
       "                </tbody>\n",
       "            </table>\n",
       "        </td>\n",
       "        <td>\n",
       "        <svg width=\"250\" height=\"240\" style=\"stroke:rgb(0,0,0);stroke-width:1\" >\n",
       "\n",
       "  <!-- Horizontal lines -->\n",
       "  <line x1=\"10\" y1=\"0\" x2=\"80\" y2=\"70\" style=\"stroke-width:2\" />\n",
       "  <line x1=\"10\" y1=\"12\" x2=\"80\" y2=\"82\" />\n",
       "  <line x1=\"10\" y1=\"24\" x2=\"80\" y2=\"94\" />\n",
       "  <line x1=\"10\" y1=\"36\" x2=\"80\" y2=\"106\" />\n",
       "  <line x1=\"10\" y1=\"48\" x2=\"80\" y2=\"118\" />\n",
       "  <line x1=\"10\" y1=\"60\" x2=\"80\" y2=\"130\" />\n",
       "  <line x1=\"10\" y1=\"72\" x2=\"80\" y2=\"142\" />\n",
       "  <line x1=\"10\" y1=\"84\" x2=\"80\" y2=\"154\" />\n",
       "  <line x1=\"10\" y1=\"96\" x2=\"80\" y2=\"166\" />\n",
       "  <line x1=\"10\" y1=\"108\" x2=\"80\" y2=\"178\" />\n",
       "  <line x1=\"10\" y1=\"120\" x2=\"80\" y2=\"190\" style=\"stroke-width:2\" />\n",
       "\n",
       "  <!-- Vertical lines -->\n",
       "  <line x1=\"10\" y1=\"0\" x2=\"10\" y2=\"120\" style=\"stroke-width:2\" />\n",
       "  <line x1=\"80\" y1=\"70\" x2=\"80\" y2=\"190\" style=\"stroke-width:2\" />\n",
       "\n",
       "  <!-- Colored Rectangle -->\n",
       "  <polygon points=\"10.0,0.0 80.58823529411765,70.58823529411765 80.58823529411765,190.58823529411765 10.0,120.0\" style=\"fill:#ECB172A0;stroke-width:0\"/>\n",
       "\n",
       "  <!-- Horizontal lines -->\n",
       "  <line x1=\"10\" y1=\"0\" x2=\"130\" y2=\"0\" style=\"stroke-width:2\" />\n",
       "  <line x1=\"80\" y1=\"70\" x2=\"200\" y2=\"70\" style=\"stroke-width:2\" />\n",
       "\n",
       "  <!-- Vertical lines -->\n",
       "  <line x1=\"10\" y1=\"0\" x2=\"80\" y2=\"70\" style=\"stroke-width:2\" />\n",
       "  <line x1=\"30\" y1=\"0\" x2=\"100\" y2=\"70\" />\n",
       "  <line x1=\"50\" y1=\"0\" x2=\"120\" y2=\"70\" />\n",
       "  <line x1=\"70\" y1=\"0\" x2=\"140\" y2=\"70\" />\n",
       "  <line x1=\"90\" y1=\"0\" x2=\"160\" y2=\"70\" />\n",
       "  <line x1=\"110\" y1=\"0\" x2=\"180\" y2=\"70\" />\n",
       "  <line x1=\"130\" y1=\"0\" x2=\"200\" y2=\"70\" style=\"stroke-width:2\" />\n",
       "\n",
       "  <!-- Colored Rectangle -->\n",
       "  <polygon points=\"10.0,0.0 130.0,0.0 200.58823529411765,70.58823529411765 80.58823529411765,70.58823529411765\" style=\"fill:#ECB172A0;stroke-width:0\"/>\n",
       "\n",
       "  <!-- Horizontal lines -->\n",
       "  <line x1=\"80\" y1=\"70\" x2=\"200\" y2=\"70\" style=\"stroke-width:2\" />\n",
       "  <line x1=\"80\" y1=\"82\" x2=\"200\" y2=\"82\" />\n",
       "  <line x1=\"80\" y1=\"94\" x2=\"200\" y2=\"94\" />\n",
       "  <line x1=\"80\" y1=\"106\" x2=\"200\" y2=\"106\" />\n",
       "  <line x1=\"80\" y1=\"118\" x2=\"200\" y2=\"118\" />\n",
       "  <line x1=\"80\" y1=\"130\" x2=\"200\" y2=\"130\" />\n",
       "  <line x1=\"80\" y1=\"142\" x2=\"200\" y2=\"142\" />\n",
       "  <line x1=\"80\" y1=\"154\" x2=\"200\" y2=\"154\" />\n",
       "  <line x1=\"80\" y1=\"166\" x2=\"200\" y2=\"166\" />\n",
       "  <line x1=\"80\" y1=\"178\" x2=\"200\" y2=\"178\" />\n",
       "  <line x1=\"80\" y1=\"190\" x2=\"200\" y2=\"190\" style=\"stroke-width:2\" />\n",
       "\n",
       "  <!-- Vertical lines -->\n",
       "  <line x1=\"80\" y1=\"70\" x2=\"80\" y2=\"190\" style=\"stroke-width:2\" />\n",
       "  <line x1=\"100\" y1=\"70\" x2=\"100\" y2=\"190\" />\n",
       "  <line x1=\"120\" y1=\"70\" x2=\"120\" y2=\"190\" />\n",
       "  <line x1=\"140\" y1=\"70\" x2=\"140\" y2=\"190\" />\n",
       "  <line x1=\"160\" y1=\"70\" x2=\"160\" y2=\"190\" />\n",
       "  <line x1=\"180\" y1=\"70\" x2=\"180\" y2=\"190\" />\n",
       "  <line x1=\"200\" y1=\"70\" x2=\"200\" y2=\"190\" style=\"stroke-width:2\" />\n",
       "\n",
       "  <!-- Colored Rectangle -->\n",
       "  <polygon points=\"80.58823529411765,70.58823529411765 200.58823529411765,70.58823529411765 200.58823529411765,190.58823529411765 80.58823529411765,190.58823529411765\" style=\"fill:#ECB172A0;stroke-width:0\"/>\n",
       "\n",
       "  <!-- Text -->\n",
       "  <text x=\"140.588235\" y=\"210.588235\" font-size=\"1.0rem\" font-weight=\"100\" text-anchor=\"middle\" >1000</text>\n",
       "  <text x=\"220.588235\" y=\"130.588235\" font-size=\"1.0rem\" font-weight=\"100\" text-anchor=\"middle\" transform=\"rotate(-90,220.588235,130.588235)\">1000</text>\n",
       "  <text x=\"35.294118\" y=\"175.294118\" font-size=\"1.0rem\" font-weight=\"100\" text-anchor=\"middle\" transform=\"rotate(45,35.294118,175.294118)\">1000</text>\n",
       "</svg>\n",
       "        </td>\n",
       "    </tr>\n",
       "</table>"
      ],
      "text/plain": [
       "dask.array<rechunk-merge, shape=(1000, 1000, 1000), dtype=float64, chunksize=(1000, 100, 167), chunktype=numpy.ndarray>"
      ]
     },
     "execution_count": 22,
     "metadata": {},
     "output_type": "execute_result"
    }
   ],
   "source": [
    "dask_arr = dask_arr.rechunk({0: -1, 1: 100, 2: \"auto\"})\n",
    "dask_arr"
   ]
  },
  {
   "cell_type": "code",
   "execution_count": 23,
   "metadata": {
    "colab": {
     "base_uri": "https://localhost:8080/"
    },
    "id": "dt5lIqzafyDg",
    "outputId": "76c65157-6bcf-43a3-a405-d3dd89384f7b"
   },
   "outputs": [
    {
     "data": {
      "text/plain": [
       "(1000, 100, 167)"
      ]
     },
     "execution_count": 23,
     "metadata": {},
     "output_type": "execute_result"
    }
   ],
   "source": [
    "dask_arr.chunksize"
   ]
  },
  {
   "cell_type": "code",
   "execution_count": 24,
   "metadata": {
    "colab": {
     "base_uri": "https://localhost:8080/"
    },
    "id": "ie6u4ZlpfzBN",
    "outputId": "a50070db-c8cd-431b-d0a5-12dba8c5ab51"
   },
   "outputs": [
    {
     "data": {
      "text/plain": [
       "((1000,),\n",
       " (100, 100, 100, 100, 100, 100, 100, 100, 100, 100),\n",
       " (167, 167, 167, 167, 167, 165))"
      ]
     },
     "execution_count": 24,
     "metadata": {},
     "output_type": "execute_result"
    }
   ],
   "source": [
    "dask_arr.chunks"
   ]
  },
  {
   "cell_type": "markdown",
   "metadata": {
    "id": "iruerc2CgEN0"
   },
   "source": [
    "<font color=\"red\">TODO #4: Think about what does -1 mean when specify as the chunk on a certain axis (10 marks)</font>\n",
    "\n",
    "<font color=\"red\">answer: -1 means no chunking on the axis</font>"
   ]
  },
  {
   "cell_type": "markdown",
   "metadata": {
    "id": "R14Am0bHgaOk"
   },
   "source": [
    "**Too small is a problem**\n",
    "\n",
    "If your chunks are too small, each task performs very little actual work, and the overhead involved in coordinating these tasks leads to an inefficient process.\n",
    "\n",
    "**Too big is a problem**\n",
    "\n",
    "If your chunks are too large, it can lead to problems, as you may run out of memory. When too much data is loaded into memory, Dask workers will begin to spill data to disk to prevent crashes. This spilling process significantly slows down performance due to the additional read and write operations required on the disk. This is certainly a situation we want to avoid."
   ]
  },
  {
   "cell_type": "markdown",
   "metadata": {
    "id": "jXHsgpgUgv88"
   },
   "source": [
    "**In general, a chunk size between 100MB and 1GB is good !**"
   ]
  },
  {
   "cell_type": "markdown",
   "metadata": {
    "id": "d4zgHvOuhnJM"
   },
   "source": [
    "#### 1.4 Example of chunked data with Zarr"
   ]
  },
  {
   "cell_type": "markdown",
   "metadata": {
    "id": "0_b4NoLvl6NC"
   },
   "source": [
    "Zarr is an open-source library designed for the storage of large, multi-dimensional arrays in a format that is efficient and scalable. It allows users to work with data that exceeds memory limits by providing a chunked storage model, enabling seamless access to data on disk or cloud storage."
   ]
  },
  {
   "cell_type": "markdown",
   "metadata": {
    "id": "foJ_Uo2XmEpA"
   },
   "source": [
    "First, we may need to install the module."
   ]
  },
  {
   "cell_type": "code",
   "execution_count": 25,
   "metadata": {
    "colab": {
     "base_uri": "https://localhost:8080/"
    },
    "id": "kuzMFfL1g_b5",
    "outputId": "4d0ca1cb-65ac-4eeb-d781-5c638d78e7b1"
   },
   "outputs": [
    {
     "name": "stdout",
     "output_type": "stream",
     "text": [
      "Requirement already satisfied: zarr in d:\\anaconda3\\anaconda3\\lib\\site-packages (3.1.2)\n",
      "Requirement already satisfied: donfig>=0.8 in d:\\anaconda3\\anaconda3\\lib\\site-packages (from zarr) (0.8.1.post1)\n",
      "Requirement already satisfied: numcodecs>=0.14 in d:\\anaconda3\\anaconda3\\lib\\site-packages (from numcodecs[crc32c]>=0.14->zarr) (0.16.2)\n",
      "Requirement already satisfied: numpy>=1.26 in d:\\anaconda3\\anaconda3\\lib\\site-packages (from zarr) (2.1.3)\n",
      "Requirement already satisfied: packaging>=22.0 in d:\\anaconda3\\anaconda3\\lib\\site-packages (from zarr) (24.2)\n",
      "Requirement already satisfied: typing-extensions>=4.9 in d:\\anaconda3\\anaconda3\\lib\\site-packages (from zarr) (4.12.2)\n",
      "Requirement already satisfied: pyyaml in d:\\anaconda3\\anaconda3\\lib\\site-packages (from donfig>=0.8->zarr) (6.0.2)\n",
      "Requirement already satisfied: crc32c>=2.7 in d:\\anaconda3\\anaconda3\\lib\\site-packages (from numcodecs[crc32c]>=0.14->zarr) (2.7.1)\n"
     ]
    }
   ],
   "source": [
    "!pip install zarr"
   ]
  },
  {
   "cell_type": "markdown",
   "metadata": {
    "id": "vEN2uKtGmMAB"
   },
   "source": [
    "**Random Dataset Generation**\n",
    "\n",
    "The cell below utilizes the Dask library to create and store large random arrays in the Zarr format.\n",
    "\n",
    "It defines a total size of 200 million elements and generates two Dask arrays filled with random numbers:\n",
    "\n",
    "- one with chunks of 6,250,000 elements\n",
    "- another with smaller chunks of 10,000 elements.\n",
    "\n",
    "The arrays are then saved to a specified directory in the Zarr format, allowing efficient storage and retrieval of large datasets."
   ]
  },
  {
   "cell_type": "code",
   "execution_count": 26,
   "metadata": {
    "id": "_0UZhE7dgD2O"
   },
   "outputs": [
    {
     "name": "stderr",
     "output_type": "stream",
     "text": [
      "d:\\Anaconda3\\Anaconda3\\Lib\\site-packages\\distributed\\client.py:3370: UserWarning: Sending large graph of size 54.76 MiB.\n",
      "This may cause some slowdown.\n",
      "Consider loading the data with Dask directly\n",
      " or using futures or delayed objects to embed the data into the graph without repetition.\n",
      "See also https://docs.dask.org/en/stable/best-practices.html#load-data-with-dask for more information.\n",
      "  warnings.warn(\n"
     ]
    }
   ],
   "source": [
    "import dask.array as da\n",
    "import random\n",
    "import os\n",
    "import zarr\n",
    "size = 200_000_000\n",
    "data_dir = \"./zarr_data\"\n",
    "random_arr = da.random.random(size=(size,), chunks=(6250000,))\n",
    "random_arr_small_chunks = da.random.random(size=(size,), chunks=(10000,))\n",
    "random_arr.to_zarr(os.path.join(data_dir, \"random.zarr\"))\n",
    "random_arr_small_chunks.to_zarr(os.path.join(data_dir, \"random_sc.zarr\"))"
   ]
  },
  {
   "cell_type": "markdown",
   "metadata": {
    "id": "JvIZZsNMmyqP"
   },
   "source": [
    "Initially, load the Zarr file with chunks of 6,250,000."
   ]
  },
  {
   "cell_type": "code",
   "execution_count": 27,
   "metadata": {
    "id": "JjfZNO2Thybg"
   },
   "outputs": [],
   "source": [
    "arr_zarr = da.from_zarr(\"zarr_data/random.zarr\")"
   ]
  },
  {
   "cell_type": "code",
   "execution_count": 28,
   "metadata": {
    "colab": {
     "base_uri": "https://localhost:8080/"
    },
    "id": "i98awS1qh7Bi",
    "outputId": "68748596-0bb5-4c91-9bf8-d938dc239443"
   },
   "outputs": [
    {
     "data": {
      "text/plain": [
       "((6250000,\n",
       "  6250000,\n",
       "  6250000,\n",
       "  6250000,\n",
       "  6250000,\n",
       "  6250000,\n",
       "  6250000,\n",
       "  6250000,\n",
       "  6250000,\n",
       "  6250000,\n",
       "  6250000,\n",
       "  6250000,\n",
       "  6250000,\n",
       "  6250000,\n",
       "  6250000,\n",
       "  6250000,\n",
       "  6250000,\n",
       "  6250000,\n",
       "  6250000,\n",
       "  6250000,\n",
       "  6250000,\n",
       "  6250000,\n",
       "  6250000,\n",
       "  6250000,\n",
       "  6250000,\n",
       "  6250000,\n",
       "  6250000,\n",
       "  6250000,\n",
       "  6250000,\n",
       "  6250000,\n",
       "  6250000,\n",
       "  6250000),)"
      ]
     },
     "execution_count": 28,
     "metadata": {},
     "output_type": "execute_result"
    }
   ],
   "source": [
    "arr_zarr.chunks"
   ]
  },
  {
   "cell_type": "markdown",
   "metadata": {
    "id": "Ak3IQzYgh_tV"
   },
   "source": [
    "Note that the array is already chunked, and we didn't need to specify anything during the loading process. Additionally, observe that the chunks have a good size. Now, let's compute the mean and see how long it takes to execute."
   ]
  },
  {
   "cell_type": "code",
   "execution_count": 29,
   "metadata": {
    "colab": {
     "base_uri": "https://localhost:8080/",
     "height": 120
    },
    "id": "SBirAHVbh_Wo",
    "outputId": "85d998a2-c91e-45b9-b623-b443c6b493e3"
   },
   "outputs": [
    {
     "data": {
      "text/html": [
       "<table>\n",
       "    <tr>\n",
       "        <td>\n",
       "            <table style=\"border-collapse: collapse;\">\n",
       "                <thead>\n",
       "                    <tr>\n",
       "                        <td> </td>\n",
       "                        <th> Array </th>\n",
       "                        <th> Chunk </th>\n",
       "                    </tr>\n",
       "                </thead>\n",
       "                <tbody>\n",
       "                    \n",
       "                    <tr>\n",
       "                        <th> Bytes </th>\n",
       "                        <td> 1.49 GiB </td>\n",
       "                        <td> 47.68 MiB </td>\n",
       "                    </tr>\n",
       "                    \n",
       "                    <tr>\n",
       "                        <th> Shape </th>\n",
       "                        <td> (200000000,) </td>\n",
       "                        <td> (6250000,) </td>\n",
       "                    </tr>\n",
       "                    <tr>\n",
       "                        <th> Dask graph </th>\n",
       "                        <td colspan=\"2\"> 32 chunks in 2 graph layers </td>\n",
       "                    </tr>\n",
       "                    <tr>\n",
       "                        <th> Data type </th>\n",
       "                        <td colspan=\"2\"> float64 numpy.ndarray </td>\n",
       "                    </tr>\n",
       "                </tbody>\n",
       "            </table>\n",
       "        </td>\n",
       "        <td>\n",
       "        <svg width=\"170\" height=\"75\" style=\"stroke:rgb(0,0,0);stroke-width:1\" >\n",
       "\n",
       "  <!-- Horizontal lines -->\n",
       "  <line x1=\"0\" y1=\"0\" x2=\"120\" y2=\"0\" style=\"stroke-width:2\" />\n",
       "  <line x1=\"0\" y1=\"25\" x2=\"120\" y2=\"25\" style=\"stroke-width:2\" />\n",
       "\n",
       "  <!-- Vertical lines -->\n",
       "  <line x1=\"0\" y1=\"0\" x2=\"0\" y2=\"25\" style=\"stroke-width:2\" />\n",
       "  <line x1=\"3\" y1=\"0\" x2=\"3\" y2=\"25\" />\n",
       "  <line x1=\"11\" y1=\"0\" x2=\"11\" y2=\"25\" />\n",
       "  <line x1=\"18\" y1=\"0\" x2=\"18\" y2=\"25\" />\n",
       "  <line x1=\"22\" y1=\"0\" x2=\"22\" y2=\"25\" />\n",
       "  <line x1=\"30\" y1=\"0\" x2=\"30\" y2=\"25\" />\n",
       "  <line x1=\"37\" y1=\"0\" x2=\"37\" y2=\"25\" />\n",
       "  <line x1=\"41\" y1=\"0\" x2=\"41\" y2=\"25\" />\n",
       "  <line x1=\"48\" y1=\"0\" x2=\"48\" y2=\"25\" />\n",
       "  <line x1=\"56\" y1=\"0\" x2=\"56\" y2=\"25\" />\n",
       "  <line x1=\"60\" y1=\"0\" x2=\"60\" y2=\"25\" />\n",
       "  <line x1=\"67\" y1=\"0\" x2=\"67\" y2=\"25\" />\n",
       "  <line x1=\"75\" y1=\"0\" x2=\"75\" y2=\"25\" />\n",
       "  <line x1=\"78\" y1=\"0\" x2=\"78\" y2=\"25\" />\n",
       "  <line x1=\"86\" y1=\"0\" x2=\"86\" y2=\"25\" />\n",
       "  <line x1=\"93\" y1=\"0\" x2=\"93\" y2=\"25\" />\n",
       "  <line x1=\"97\" y1=\"0\" x2=\"97\" y2=\"25\" />\n",
       "  <line x1=\"105\" y1=\"0\" x2=\"105\" y2=\"25\" />\n",
       "  <line x1=\"112\" y1=\"0\" x2=\"112\" y2=\"25\" />\n",
       "  <line x1=\"120\" y1=\"0\" x2=\"120\" y2=\"25\" style=\"stroke-width:2\" />\n",
       "\n",
       "  <!-- Colored Rectangle -->\n",
       "  <polygon points=\"0.0,0.0 120.0,0.0 120.0,25.412616514582485 0.0,25.412616514582485\" style=\"fill:#8B4903A0;stroke-width:0\"/>\n",
       "\n",
       "  <!-- Text -->\n",
       "  <text x=\"60.000000\" y=\"45.412617\" font-size=\"1.0rem\" font-weight=\"100\" text-anchor=\"middle\" >200000000</text>\n",
       "  <text x=\"140.000000\" y=\"12.706308\" font-size=\"1.0rem\" font-weight=\"100\" text-anchor=\"middle\" transform=\"rotate(0,140.000000,12.706308)\">1</text>\n",
       "</svg>\n",
       "        </td>\n",
       "    </tr>\n",
       "</table>"
      ],
      "text/plain": [
       "dask.array<from-zarr, shape=(200000000,), dtype=float64, chunksize=(6250000,), chunktype=numpy.ndarray>"
      ]
     },
     "execution_count": 29,
     "metadata": {},
     "output_type": "execute_result"
    }
   ],
   "source": [
    "arr_zarr"
   ]
  },
  {
   "cell_type": "code",
   "execution_count": 30,
   "metadata": {
    "colab": {
     "base_uri": "https://localhost:8080/"
    },
    "id": "zL8XPMxpiFuy",
    "outputId": "662d44ca-d982-4dae-9033-08441aa4c345"
   },
   "outputs": [
    {
     "name": "stdout",
     "output_type": "stream",
     "text": [
      "CPU times: total: 141 ms\n",
      "Wall time: 879 ms\n"
     ]
    },
    {
     "data": {
      "text/plain": [
       "np.float64(0.4999923075804726)"
      ]
     },
     "execution_count": 30,
     "metadata": {},
     "output_type": "execute_result"
    }
   ],
   "source": [
    "%%time\n",
    "arr_zarr.mean().compute()"
   ]
  },
  {
   "cell_type": "markdown",
   "metadata": {
    "id": "wLmOBA2YiK6x"
   },
   "source": [
    "Let’s load another example that has a significantly smaller chunk size."
   ]
  },
  {
   "cell_type": "code",
   "execution_count": 31,
   "metadata": {
    "colab": {
     "base_uri": "https://localhost:8080/",
     "height": 120
    },
    "id": "gCO8rG58iNn4",
    "outputId": "486eb912-7007-4fab-e19d-341d925cf16e"
   },
   "outputs": [
    {
     "data": {
      "text/html": [
       "<table>\n",
       "    <tr>\n",
       "        <td>\n",
       "            <table style=\"border-collapse: collapse;\">\n",
       "                <thead>\n",
       "                    <tr>\n",
       "                        <td> </td>\n",
       "                        <th> Array </th>\n",
       "                        <th> Chunk </th>\n",
       "                    </tr>\n",
       "                </thead>\n",
       "                <tbody>\n",
       "                    \n",
       "                    <tr>\n",
       "                        <th> Bytes </th>\n",
       "                        <td> 1.49 GiB </td>\n",
       "                        <td> 78.12 kiB </td>\n",
       "                    </tr>\n",
       "                    \n",
       "                    <tr>\n",
       "                        <th> Shape </th>\n",
       "                        <td> (200000000,) </td>\n",
       "                        <td> (10000,) </td>\n",
       "                    </tr>\n",
       "                    <tr>\n",
       "                        <th> Dask graph </th>\n",
       "                        <td colspan=\"2\"> 20000 chunks in 2 graph layers </td>\n",
       "                    </tr>\n",
       "                    <tr>\n",
       "                        <th> Data type </th>\n",
       "                        <td colspan=\"2\"> float64 numpy.ndarray </td>\n",
       "                    </tr>\n",
       "                </tbody>\n",
       "            </table>\n",
       "        </td>\n",
       "        <td>\n",
       "        <svg width=\"170\" height=\"75\" style=\"stroke:rgb(0,0,0);stroke-width:1\" >\n",
       "\n",
       "  <!-- Horizontal lines -->\n",
       "  <line x1=\"0\" y1=\"0\" x2=\"120\" y2=\"0\" style=\"stroke-width:2\" />\n",
       "  <line x1=\"0\" y1=\"25\" x2=\"120\" y2=\"25\" style=\"stroke-width:2\" />\n",
       "\n",
       "  <!-- Vertical lines -->\n",
       "  <line x1=\"0\" y1=\"0\" x2=\"0\" y2=\"25\" style=\"stroke-width:2\" />\n",
       "  <line x1=\"6\" y1=\"0\" x2=\"6\" y2=\"25\" />\n",
       "  <line x1=\"12\" y1=\"0\" x2=\"12\" y2=\"25\" />\n",
       "  <line x1=\"18\" y1=\"0\" x2=\"18\" y2=\"25\" />\n",
       "  <line x1=\"25\" y1=\"0\" x2=\"25\" y2=\"25\" />\n",
       "  <line x1=\"31\" y1=\"0\" x2=\"31\" y2=\"25\" />\n",
       "  <line x1=\"37\" y1=\"0\" x2=\"37\" y2=\"25\" />\n",
       "  <line x1=\"44\" y1=\"0\" x2=\"44\" y2=\"25\" />\n",
       "  <line x1=\"50\" y1=\"0\" x2=\"50\" y2=\"25\" />\n",
       "  <line x1=\"56\" y1=\"0\" x2=\"56\" y2=\"25\" />\n",
       "  <line x1=\"63\" y1=\"0\" x2=\"63\" y2=\"25\" />\n",
       "  <line x1=\"69\" y1=\"0\" x2=\"69\" y2=\"25\" />\n",
       "  <line x1=\"75\" y1=\"0\" x2=\"75\" y2=\"25\" />\n",
       "  <line x1=\"82\" y1=\"0\" x2=\"82\" y2=\"25\" />\n",
       "  <line x1=\"88\" y1=\"0\" x2=\"88\" y2=\"25\" />\n",
       "  <line x1=\"94\" y1=\"0\" x2=\"94\" y2=\"25\" />\n",
       "  <line x1=\"101\" y1=\"0\" x2=\"101\" y2=\"25\" />\n",
       "  <line x1=\"107\" y1=\"0\" x2=\"107\" y2=\"25\" />\n",
       "  <line x1=\"113\" y1=\"0\" x2=\"113\" y2=\"25\" />\n",
       "  <line x1=\"120\" y1=\"0\" x2=\"120\" y2=\"25\" style=\"stroke-width:2\" />\n",
       "\n",
       "  <!-- Colored Rectangle -->\n",
       "  <polygon points=\"0.0,0.0 120.0,0.0 120.0,25.412616514582485 0.0,25.412616514582485\" style=\"fill:#8B4903A0;stroke-width:0\"/>\n",
       "\n",
       "  <!-- Text -->\n",
       "  <text x=\"60.000000\" y=\"45.412617\" font-size=\"1.0rem\" font-weight=\"100\" text-anchor=\"middle\" >200000000</text>\n",
       "  <text x=\"140.000000\" y=\"12.706308\" font-size=\"1.0rem\" font-weight=\"100\" text-anchor=\"middle\" transform=\"rotate(0,140.000000,12.706308)\">1</text>\n",
       "</svg>\n",
       "        </td>\n",
       "    </tr>\n",
       "</table>"
      ],
      "text/plain": [
       "dask.array<from-zarr, shape=(200000000,), dtype=float64, chunksize=(10000,), chunktype=numpy.ndarray>"
      ]
     },
     "execution_count": 31,
     "metadata": {},
     "output_type": "execute_result"
    }
   ],
   "source": [
    "arr_zarr_smaller_chunks = da.from_zarr(\"zarr_data/random_sc.zarr\")\n",
    "arr_zarr_smaller_chunks"
   ]
  },
  {
   "cell_type": "code",
   "execution_count": 32,
   "metadata": {
    "colab": {
     "base_uri": "https://localhost:8080/"
    },
    "id": "aF95KlYviXL2",
    "outputId": "892658f5-9b4a-4a11-ae40-3aea1f3ecc6b"
   },
   "outputs": [
    {
     "name": "stdout",
     "output_type": "stream",
     "text": [
      "CPU times: total: 29.5 s\n",
      "Wall time: 40 s\n"
     ]
    },
    {
     "data": {
      "text/plain": [
       "np.float64(0.49997784171614124)"
      ]
     },
     "execution_count": 32,
     "metadata": {},
     "output_type": "execute_result"
    }
   ],
   "source": [
    "%%time\n",
    "arr_zarr_smaller_chunks.mean().compute()"
   ]
  },
  {
   "cell_type": "markdown",
   "metadata": {
    "id": "v1gDQv1nIH3r"
   },
   "source": [
    "#### 2.1 Advance Block Algorithm (map_blocks) (30 marks)"
   ]
  },
  {
   "cell_type": "markdown",
   "metadata": {
    "id": "GpQp4YM8XBfu"
   },
   "source": [
    "So far, we have only utilized the default API, such as sum() and mean(), to perform calculations in parallel. In this section, we aim to implement a custom function on our data chunks, allowing the customized function to be executed in parallel."
   ]
  },
  {
   "cell_type": "markdown",
   "metadata": {
    "id": "l0JQJIP2XWuR"
   },
   "source": [
    "In this section, we will investigate how to utilize `map_blocks()` to apply a function across all blocks of a Dask array. Our goal is to calculate the number of prime numbers in a specified 8 x 8 array in parallel."
   ]
  },
  {
   "cell_type": "markdown",
   "metadata": {
    "id": "uS2akjOJXuAT"
   },
   "source": [
    "You can find detailed information about map_blocks in the Dask documentation at the following link: [Dask map_blocks Documentation](https://docs.dask.org/en/stable/generated/dask.array.map_blocks.html). This resource provides comprehensive guidance on how to use map_blocks effectively with Dask arrays."
   ]
  },
  {
   "cell_type": "markdown",
   "metadata": {
    "id": "fPSReMZjX6aY"
   },
   "source": [
    "First, we will define a 2D array of size 8x8 as follows."
   ]
  },
  {
   "cell_type": "code",
   "execution_count": 33,
   "metadata": {
    "id": "X8vJWfcqIPfg"
   },
   "outputs": [],
   "source": [
    "data = [[ 4,  7, 12, 15, 23, 28, 31, 36],\n",
    " [ 9, 11, 17, 19, 22, 25, 29, 33],\n",
    " [ 8, 13, 16, 21, 27, 30, 37, 41],\n",
    " [14, 18, 24, 26, 32, 35, 39, 43],\n",
    " [ 5, 10, 20, 34, 38, 42, 47, 50],\n",
    " [ 6, 45, 49, 51, 53, 57, 59, 61],\n",
    " [ 2,  3, 44, 46, 52, 55, 58, 62],\n",
    " [ 1, 54, 56, 60, 63, 64, 67, 71]]"
   ]
  },
  {
   "cell_type": "markdown",
   "metadata": {
    "id": "uyyt7z3VYECy"
   },
   "source": [
    "Task 1: Use the Dask library to convert the above 8x8 array into a Dask array with a specified chunk size"
   ]
  },
  {
   "cell_type": "code",
   "execution_count": 34,
   "metadata": {
    "colab": {
     "base_uri": "https://localhost:8080/"
    },
    "id": "duBCpjJ1Mdmd",
    "outputId": "62d861e2-379f-4a9a-c20a-2b983d669f8a"
   },
   "outputs": [
    {
     "data": {
      "text/html": [
       "<table>\n",
       "    <tr>\n",
       "        <td>\n",
       "            <table style=\"border-collapse: collapse;\">\n",
       "                <thead>\n",
       "                    <tr>\n",
       "                        <td> </td>\n",
       "                        <th> Array </th>\n",
       "                        <th> Chunk </th>\n",
       "                    </tr>\n",
       "                </thead>\n",
       "                <tbody>\n",
       "                    \n",
       "                    <tr>\n",
       "                        <th> Bytes </th>\n",
       "                        <td> 512 B </td>\n",
       "                        <td> 128 B </td>\n",
       "                    </tr>\n",
       "                    \n",
       "                    <tr>\n",
       "                        <th> Shape </th>\n",
       "                        <td> (8, 8) </td>\n",
       "                        <td> (4, 4) </td>\n",
       "                    </tr>\n",
       "                    <tr>\n",
       "                        <th> Dask graph </th>\n",
       "                        <td colspan=\"2\"> 4 chunks in 1 graph layer </td>\n",
       "                    </tr>\n",
       "                    <tr>\n",
       "                        <th> Data type </th>\n",
       "                        <td colspan=\"2\"> int64 numpy.ndarray </td>\n",
       "                    </tr>\n",
       "                </tbody>\n",
       "            </table>\n",
       "        </td>\n",
       "        <td>\n",
       "        <svg width=\"170\" height=\"170\" style=\"stroke:rgb(0,0,0);stroke-width:1\" >\n",
       "\n",
       "  <!-- Horizontal lines -->\n",
       "  <line x1=\"0\" y1=\"0\" x2=\"120\" y2=\"0\" style=\"stroke-width:2\" />\n",
       "  <line x1=\"0\" y1=\"60\" x2=\"120\" y2=\"60\" />\n",
       "  <line x1=\"0\" y1=\"120\" x2=\"120\" y2=\"120\" style=\"stroke-width:2\" />\n",
       "\n",
       "  <!-- Vertical lines -->\n",
       "  <line x1=\"0\" y1=\"0\" x2=\"0\" y2=\"120\" style=\"stroke-width:2\" />\n",
       "  <line x1=\"60\" y1=\"0\" x2=\"60\" y2=\"120\" />\n",
       "  <line x1=\"120\" y1=\"0\" x2=\"120\" y2=\"120\" style=\"stroke-width:2\" />\n",
       "\n",
       "  <!-- Colored Rectangle -->\n",
       "  <polygon points=\"0.0,0.0 120.0,0.0 120.0,120.0 0.0,120.0\" style=\"fill:#ECB172A0;stroke-width:0\"/>\n",
       "\n",
       "  <!-- Text -->\n",
       "  <text x=\"60.000000\" y=\"140.000000\" font-size=\"1.0rem\" font-weight=\"100\" text-anchor=\"middle\" >8</text>\n",
       "  <text x=\"140.000000\" y=\"60.000000\" font-size=\"1.0rem\" font-weight=\"100\" text-anchor=\"middle\" transform=\"rotate(0,140.000000,60.000000)\">8</text>\n",
       "</svg>\n",
       "        </td>\n",
       "    </tr>\n",
       "</table>"
      ],
      "text/plain": [
       "dask.array<array, shape=(8, 8), dtype=int64, chunksize=(4, 4), chunktype=numpy.ndarray>"
      ]
     },
     "execution_count": 34,
     "metadata": {},
     "output_type": "execute_result"
    }
   ],
   "source": [
    "#TODO 5.1: Use the Dask library to convert the above 8x8 array into a Dask array with a specified chunk size\n",
    "da_data = da.from_array(data, chunks=(4,4))\n",
    "da_data"
   ]
  },
  {
   "cell_type": "markdown",
   "metadata": {
    "id": "7-bTYSWYYvYJ"
   },
   "source": [
    "Task 2: Since we will be calculating the number of prime numbers in the provided array, we need to define two Python functions:\n",
    "\n",
    "- `Prime-Checking Function`: This function will determine whether a given integer is prime.\n",
    "- `count_primes_block Function`: This function will utilize the prime-checking function to count the number of prime numbers in each chunk.\n",
    "\n",
    "It is important to note that the function we request map_blocks to call must return an output of the same size. For instance, if the input chunk is a 2D array with a shape of (4, 4), the output must also maintain this two-dimensional format."
   ]
  },
  {
   "cell_type": "code",
   "execution_count": 35,
   "metadata": {
    "id": "6ULMYyOgMyTE"
   },
   "outputs": [],
   "source": [
    "#TODO 5.2: Write a Prime-Checking Function:\n",
    "#      Create a Python function is_prime(n) that returns True if n is a prime number and False otherwise.\n",
    "def isPrime(n):\n",
    "  if n < 2:\n",
    "    return False\n",
    "  for i in range(2, int(n / 2) + 1):\n",
    "    if n % i == 0:\n",
    "      return False\n",
    "  return True"
   ]
  },
  {
   "cell_type": "code",
   "execution_count": 36,
   "metadata": {
    "id": "C9UkAJ_aPOaP"
   },
   "outputs": [],
   "source": [
    "#TODO 5.3: Write a count_primes_block Function:\n",
    "#          utilize the prime-checking function to count the number of prime numbers in each chunk.\n",
    "def count_primes_block(block):\n",
    "  count = 0\n",
    "  for row in block:\n",
    "    for x in row:\n",
    "      if isPrime(x):\n",
    "        count += 1\n",
    "  return np.array([[count]])"
   ]
  },
  {
   "cell_type": "markdown",
   "metadata": {
    "id": "5TCOyonHZIyA"
   },
   "source": [
    "Task 3: Next, we can use the `count_primes_block` and `isPrime` functions to apply them to each element in the Dask array using `da.map_blocks` to compute the total number of prime numbers."
   ]
  },
  {
   "cell_type": "code",
   "execution_count": 37,
   "metadata": {
    "colab": {
     "base_uri": "https://localhost:8080/"
    },
    "id": "0ogiMdOuN8sg",
    "outputId": "dfa26714-3efa-4b63-f677-c6a758c0af8a"
   },
   "outputs": [
    {
     "name": "stdout",
     "output_type": "stream",
     "text": [
      "20\n"
     ]
    }
   ],
   "source": [
    "#TODO 5.4: Apply the count_primes_block and isPrime function to each element in the Dask array using da.map_blocks.\n",
    "prime_counts = da_data.map_blocks(count_primes_block).compute()\n",
    "total_primes = prime_counts.sum()\n",
    "print(total_primes)"
   ]
  },
  {
   "cell_type": "markdown",
   "metadata": {
    "id": "Fk9cb9OSaaJo"
   },
   "source": [
    "#### 2.2 Advance Block Algorithm (map_overlay) (50 marks)"
   ]
  },
  {
   "cell_type": "markdown",
   "metadata": {
    "id": "-q1DTe-ioP80"
   },
   "source": [
    "Until now, we've only considered computations that do not depend on other chunks. For instance, when calculating the sum of an array, there is no interdependence among different chunks.\n",
    "\n",
    "However, what happens when a computation requires data from neighboring chunks?\n",
    "\n",
    "Consider a 4 x 4 chunk represented as follows:\n",
    "\n",
    "```\n",
    "1  2  3  4\n",
    "5  6  7  8\n",
    "9 10 11 12\n",
    "13 14 15 16\n",
    "```\n",
    "\n",
    "If we divide this chunk into four (2 x 2) smaller chunks, some operations may need data from adjacent chunks.\n",
    "\n",
    "For example, if we want to determine the significant difference between a value and its neighbors, let's take data[1][1]. The neighbors are 2, 5, 7, and 10, where 2 and 5 are in the same chunk, while 7 and 10 belong to another chunk.\n",
    "\n",
    "In this scenario, how can we achieve this?"
   ]
  },
  {
   "cell_type": "markdown",
   "metadata": {
    "id": "bZP_c_8IpAXv"
   },
   "source": [
    "map_overlap is a function provided by Dask that allows you to perform computations on large arrays while managing dependencies between adjacent chunks. It is particularly useful when operations require access to data from neighboring chunks, as it ensures that each chunk has overlapping data from its neighbors."
   ]
  },
  {
   "cell_type": "markdown",
   "metadata": {
    "id": "fi6j3gM8pIX2"
   },
   "source": [
    "If you have a 2D array and want to compute the maximum difference between a value and its neighbors, map_overlap can be used to extend the boundaries of each chunk to include the necessary data from adjacent chunks, enabling accurate calculations.\n",
    "\n",
    "This function is an essential tool in Dask for handling computations that involve interdependencies between chunks, making it easier to work with large datasets in a distributed environment."
   ]
  },
  {
   "cell_type": "markdown",
   "metadata": {
    "id": "yZ_4NO-tpUoB"
   },
   "source": [
    "You can find detailed information about map_overlap in the Dask documentation at the following link: [Dask map_overlay Documentation](https://docs.dask.org/en/latest/generated/dask.array.overlap.map_overlap.html)."
   ]
  },
  {
   "cell_type": "markdown",
   "metadata": {
    "id": "2SivqH-zpxrd"
   },
   "source": [
    "In this section, we will perform Weighted Grid Summation. We have a 10x10 integer array, and our goal is to compute the weighted sum for each cell. The weighted sum for a cell is determined by adding its own value to the values of its immediate neighbors—those located above, below, to the left, right, and diagonally. Additionally, the values of  cells will be weighted twice as much as those of the neighboring cells.\n",
    "\n",
    "We will utilize Dask to parallelize the computation across the grid. The output will present the weighted sums for all cells in a clear format."
   ]
  },
  {
   "cell_type": "markdown",
   "metadata": {
    "id": "5i6NCKTEbGD4"
   },
   "source": [
    "Goals of this exercise:\n",
    "\n",
    "- Learn to manipulate a 2D grid using Dask arrays.\n",
    "- Handle edge cases (boundaries and corners) in grid computations.\n",
    "- Apply weighted summation in a parallelized context."
   ]
  },
  {
   "cell_type": "markdown",
   "metadata": {
    "id": "hLxLFfJMbM7L"
   },
   "source": [
    "You have a 10x10 grid of integers, and your tasks are as follows:\n",
    "\n",
    "- Convert the grid to a Dask array with chunks (e.g., 5x5).\n",
    "- For each cell, compute the weighted sum:\n",
    "\n",
    "- The cell’s own value is weighted by 2.\n",
    "Each neighbor’s value (up, down, left, right, diagonals) is weighted by 1.\n",
    "- Corner cells have 3 neighbors; edge cells have 5, the others have 8.\n",
    "\n",
    "- Output the weighted sums for each cells."
   ]
  },
  {
   "cell_type": "markdown",
   "metadata": {
    "id": "xuKjn90oraLR"
   },
   "source": [
    "First, we will define a 2D array of size 10x10 as follows"
   ]
  },
  {
   "cell_type": "code",
   "execution_count": 38,
   "metadata": {
    "id": "EkyRY3qAbFhx"
   },
   "outputs": [],
   "source": [
    "grid = [[6, 3, 7, 4, 6, 9, 2, 6, 7, 4],\n",
    "       [3, 7, 7, 2, 5, 4, 1, 7, 5, 1],\n",
    "       [4, 0, 9, 5, 8, 0, 9, 2, 6, 3],\n",
    "       [8, 2, 4, 2, 6, 4, 8, 6, 1, 3],\n",
    "       [8, 1, 9, 8, 9, 4, 1, 3, 6, 7],\n",
    "       [2, 0, 3, 1, 7, 3, 1, 5, 5, 9],\n",
    "       [3, 5, 1, 9, 1, 9, 3, 7, 6, 8],\n",
    "       [7, 4, 1, 4, 7, 9, 8, 8, 0, 8],\n",
    "       [6, 8, 7, 0, 7, 7, 2, 0, 7, 2],\n",
    "       [2, 0, 4, 9, 6, 9, 8, 6, 8, 7]]"
   ]
  },
  {
   "cell_type": "markdown",
   "metadata": {
    "id": "VFfHPGtfrgaj"
   },
   "source": [
    "Task 1: Use the Dask library to convert the above 10x10 array into a Dask array with a specified chunk size"
   ]
  },
  {
   "cell_type": "code",
   "execution_count": 39,
   "metadata": {
    "colab": {
     "base_uri": "https://localhost:8080/",
     "height": 197
    },
    "id": "CpBradQxagw7",
    "outputId": "2f0f781c-c5a0-4b4f-ec5d-eda843336b9d"
   },
   "outputs": [
    {
     "data": {
      "text/html": [
       "<table>\n",
       "    <tr>\n",
       "        <td>\n",
       "            <table style=\"border-collapse: collapse;\">\n",
       "                <thead>\n",
       "                    <tr>\n",
       "                        <td> </td>\n",
       "                        <th> Array </th>\n",
       "                        <th> Chunk </th>\n",
       "                    </tr>\n",
       "                </thead>\n",
       "                <tbody>\n",
       "                    \n",
       "                    <tr>\n",
       "                        <th> Bytes </th>\n",
       "                        <td> 800 B </td>\n",
       "                        <td> 200 B </td>\n",
       "                    </tr>\n",
       "                    \n",
       "                    <tr>\n",
       "                        <th> Shape </th>\n",
       "                        <td> (10, 10) </td>\n",
       "                        <td> (5, 5) </td>\n",
       "                    </tr>\n",
       "                    <tr>\n",
       "                        <th> Dask graph </th>\n",
       "                        <td colspan=\"2\"> 4 chunks in 1 graph layer </td>\n",
       "                    </tr>\n",
       "                    <tr>\n",
       "                        <th> Data type </th>\n",
       "                        <td colspan=\"2\"> int64 numpy.ndarray </td>\n",
       "                    </tr>\n",
       "                </tbody>\n",
       "            </table>\n",
       "        </td>\n",
       "        <td>\n",
       "        <svg width=\"170\" height=\"170\" style=\"stroke:rgb(0,0,0);stroke-width:1\" >\n",
       "\n",
       "  <!-- Horizontal lines -->\n",
       "  <line x1=\"0\" y1=\"0\" x2=\"120\" y2=\"0\" style=\"stroke-width:2\" />\n",
       "  <line x1=\"0\" y1=\"60\" x2=\"120\" y2=\"60\" />\n",
       "  <line x1=\"0\" y1=\"120\" x2=\"120\" y2=\"120\" style=\"stroke-width:2\" />\n",
       "\n",
       "  <!-- Vertical lines -->\n",
       "  <line x1=\"0\" y1=\"0\" x2=\"0\" y2=\"120\" style=\"stroke-width:2\" />\n",
       "  <line x1=\"60\" y1=\"0\" x2=\"60\" y2=\"120\" />\n",
       "  <line x1=\"120\" y1=\"0\" x2=\"120\" y2=\"120\" style=\"stroke-width:2\" />\n",
       "\n",
       "  <!-- Colored Rectangle -->\n",
       "  <polygon points=\"0.0,0.0 120.0,0.0 120.0,120.0 0.0,120.0\" style=\"fill:#ECB172A0;stroke-width:0\"/>\n",
       "\n",
       "  <!-- Text -->\n",
       "  <text x=\"60.000000\" y=\"140.000000\" font-size=\"1.0rem\" font-weight=\"100\" text-anchor=\"middle\" >10</text>\n",
       "  <text x=\"140.000000\" y=\"60.000000\" font-size=\"1.0rem\" font-weight=\"100\" text-anchor=\"middle\" transform=\"rotate(0,140.000000,60.000000)\">10</text>\n",
       "</svg>\n",
       "        </td>\n",
       "    </tr>\n",
       "</table>"
      ],
      "text/plain": [
       "dask.array<array, shape=(10, 10), dtype=int64, chunksize=(5, 5), chunktype=numpy.ndarray>"
      ]
     },
     "execution_count": 39,
     "metadata": {},
     "output_type": "execute_result"
    }
   ],
   "source": [
    "#TODO 6.1: Use the Dask library to convert the above 10x10 array into a Dask array with a specified chunk size\n",
    "dask_grid = da.from_array(grid, chunks=(5,5))\n",
    "dask_grid"
   ]
  },
  {
   "cell_type": "markdown",
   "metadata": {
    "id": "Dtx6j953r8iF"
   },
   "source": [
    "Task 2: Create a function that returns the subarray of weighted sums for each chunk of the array."
   ]
  },
  {
   "cell_type": "code",
   "execution_count": 40,
   "metadata": {
    "id": "LaUKeZ_fdneV"
   },
   "outputs": [],
   "source": [
    "#TODO 6.2: Create a function that returns the subarray of weighted sums for each chunk of the array.\n",
    "def compute_weighted_sums(chunk, block_info = None):\n",
    "  if chunk.shape[0] < 5 or chunk.shape[1] < 5:\n",
    "    return np.zeros((0, 0), dtype = chunk.dtype)\n",
    "  print(chunk.shape)\n",
    "  result_shape = (chunk.shape[0] + 1, chunk.shape[1] + 1)\n",
    "  result = np.zeros(shape = result_shape, dtype = chunk.dtype)\n",
    "  for i in range(1, chunk.shape[0]):\n",
    "    for j in range(1, chunk.shape[1]):\n",
    "      result[i, j] = (chunk[i - 2, j - 2] + chunk[i - 2, j - 1] + chunk[i - 2, j] +\n",
    "                     chunk[i - 1, j - 2] + chunk[i - 1, j - 1] * 2 + chunk[i - 1, j] +\n",
    "                     chunk[i, j - 2] + chunk[i, j - 1] + chunk[i, j])\n",
    "  return result[1:, 1:]"
   ]
  },
  {
   "cell_type": "markdown",
   "metadata": {
    "id": "i3Tn0H-gsATe"
   },
   "source": [
    "Task 3: Call map_overlap on compute_weighted_sums to perform the calculation for the Weighted Grid Summation."
   ]
  },
  {
   "cell_type": "code",
   "execution_count": 41,
   "metadata": {
    "colab": {
     "base_uri": "https://localhost:8080/"
    },
    "id": "hjoi9Z4XdY5r",
    "outputId": "67fcb255-81e8-4c2f-e90c-9cecd0aa1641"
   },
   "outputs": [
    {
     "name": "stdout",
     "output_type": "stream",
     "text": [
      "[[25 36 37 35 36 36 31 34 37 21]\n",
      " [26 53 51 55 48 48 41 52 46 27]\n",
      " [28 44 47 53 44 45 50 47 40 22]\n",
      " [31 47 44 62 52 53 45 48 38 29]\n",
      " [29 38 39 57 53 47 36 39 51 38]\n",
      " [21 32 40 49 58 41 37 42 61 50]\n",
      " [24 31 29 43 51 57 56 50 62 44]\n",
      " [40 46 40 41 60 62 61 49 46 39]\n",
      " [33 47 44 45 65 70 59 47 53 34]\n",
      " [18 27 32 42 44 48 40 37 38 31]]\n"
     ]
    }
   ],
   "source": [
    "#TODO 6.3: Call map_overlap on compute_weighted_sums to perform the calculation for the Weighted Grid Summation.\n",
    "result = dask_grid.map_overlap(compute_weighted_sums, depth = 1, boundary = 0).compute()\n",
    "print(result)"
   ]
  },
  {
   "cell_type": "markdown",
   "metadata": {
    "id": "Y2N2kdAyGnIb"
   },
   "source": [
    "It is a best practice to shut down any Dask Cluster you have created after completing your tasks."
   ]
  },
  {
   "cell_type": "code",
   "execution_count": 42,
   "metadata": {
    "id": "85DqMdK0GmMB"
   },
   "outputs": [],
   "source": [
    "client.shutdown()"
   ]
  }
 ],
 "metadata": {
  "colab": {
   "provenance": []
  },
  "kernelspec": {
   "display_name": "base",
   "language": "python",
   "name": "python3"
  },
  "language_info": {
   "codemirror_mode": {
    "name": "ipython",
    "version": 3
   },
   "file_extension": ".py",
   "mimetype": "text/x-python",
   "name": "python",
   "nbconvert_exporter": "python",
   "pygments_lexer": "ipython3",
   "version": "3.13.5"
  }
 },
 "nbformat": 4,
 "nbformat_minor": 4
}
